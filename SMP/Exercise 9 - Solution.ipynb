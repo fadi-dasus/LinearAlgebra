{
 "cells": [
  {
   "cell_type": "code",
   "execution_count": 3,
   "metadata": {},
   "outputs": [],
   "source": [
    "from scipy import stats\n",
    "import numpy as np\n",
    "import pandas as pd\n",
    "import matplotlib.pyplot as plt"
   ]
  },
  {
   "cell_type": "markdown",
   "metadata": {},
   "source": [
    "# Assignment 1"
   ]
  },
  {
   "cell_type": "code",
   "execution_count": 7,
   "metadata": {},
   "outputs": [
    {
     "data": {
      "text/html": [
       "<div>\n",
       "<style scoped>\n",
       "    .dataframe tbody tr th:only-of-type {\n",
       "        vertical-align: middle;\n",
       "    }\n",
       "\n",
       "    .dataframe tbody tr th {\n",
       "        vertical-align: top;\n",
       "    }\n",
       "\n",
       "    .dataframe thead th {\n",
       "        text-align: right;\n",
       "    }\n",
       "</style>\n",
       "<table border=\"1\" class=\"dataframe\">\n",
       "  <thead>\n",
       "    <tr style=\"text-align: right;\">\n",
       "      <th></th>\n",
       "      <th>Supplier1</th>\n",
       "      <th>Supplier2</th>\n",
       "    </tr>\n",
       "  </thead>\n",
       "  <tbody>\n",
       "    <tr>\n",
       "      <th>Good tires</th>\n",
       "      <td>360</td>\n",
       "      <td>570</td>\n",
       "    </tr>\n",
       "    <tr>\n",
       "      <th>Defective Tires</th>\n",
       "      <td>40</td>\n",
       "      <td>30</td>\n",
       "    </tr>\n",
       "  </tbody>\n",
       "</table>\n",
       "</div>"
      ],
      "text/plain": [
       "                 Supplier1  Supplier2\n",
       "Good tires             360        570\n",
       "Defective Tires         40         30"
      ]
     },
     "metadata": {},
     "output_type": "display_data"
    }
   ],
   "source": [
    "#a)\n",
    "df = pd.DataFrame({\"Supplier1\":[360, 40], \"Supplier2\":[570, 30]}, index=['Good tires', 'Defective Tires'])\n",
    "display(df)"
   ]
  },
  {
   "cell_type": "code",
   "execution_count": 3,
   "metadata": {},
   "outputs": [
    {
     "data": {
      "text/plain": [
       "'Probability of supplier 1 Given that its defective, P(supp1|Deff) '"
      ]
     },
     "metadata": {},
     "output_type": "display_data"
    },
    {
     "data": {
      "text/plain": [
       "0.5714285714285714"
      ]
     },
     "metadata": {},
     "output_type": "display_data"
    }
   ],
   "source": [
    "#b)\n",
    "display(\"Probability of supplier 1 Given that its defective, P(supp1|Deff) \",df.loc[\"Defective Tires\",\"Supplier1\"]/df.loc[\"Defective Tires\",:].sum())"
   ]
  },
  {
   "cell_type": "code",
   "execution_count": 4,
   "metadata": {},
   "outputs": [
    {
     "name": "stdout",
     "output_type": "stream",
     "text": [
      "p_value = 0.0023983184964129424\n",
      "Very significantly corrospond to a significance level of 0.01. Since the p_value is smaller than this, we can reject H0. The tires quality does depend on the supplier.  \n"
     ]
    }
   ],
   "source": [
    "#c)\n",
    "\n",
    "chi2_stat, p_val, dof, ex2 = stats.chi2_contingency(df, correction=False)\n",
    "print(\"p_value = \"+ str(p_val))\n",
    "print(\"Very significantly corrospond to a significance level of 0.01. Since the p_value is smaller than this, we can reject H0. The tires quality does depend on the supplier.  \")"
   ]
  },
  {
   "cell_type": "code",
   "execution_count": 5,
   "metadata": {},
   "outputs": [],
   "source": [
    "# could also be calculated by hand:\n"
   ]
  },
  {
   "cell_type": "markdown",
   "metadata": {},
   "source": [
    "![Calculation by hand](https://imgur.com/0nOxLRe.png)"
   ]
  },
  {
   "cell_type": "markdown",
   "metadata": {},
   "source": [
    "# Assignment 2"
   ]
  },
  {
   "cell_type": "code",
   "execution_count": 10,
   "metadata": {},
   "outputs": [
    {
     "name": "stdout",
     "output_type": "stream",
     "text": [
      "sample mean =  1.802\n"
     ]
    }
   ],
   "source": [
    "# Assignment 1   1.7 std=10cm\n",
    "X = np.array([1.83, 1.96, 1.76, 1.78, 1.68])\n",
    " \n",
    "#1)\n",
    "print('sample mean = ', X.mean())"
   ]
  },
  {
   "cell_type": "code",
   "execution_count": 11,
   "metadata": {},
   "outputs": [
    {
     "name": "stdout",
     "output_type": "stream",
     "text": [
      "sample var =  0.01072\n"
     ]
    }
   ],
   "source": [
    "#2)\n",
    "print('sample var = ', X.var(ddof=1)) #sample var =  0.01072"
   ]
  },
  {
   "cell_type": "code",
   "execution_count": 12,
   "metadata": {},
   "outputs": [
    {
     "name": "stdout",
     "output_type": "stream",
     "text": [
      "sample std =  0.10353743284435828\n"
     ]
    }
   ],
   "source": [
    "#3)\n",
    "print('sample std = ', X.std(ddof=1))#sample std =  0.1035"
   ]
  },
  {
   "cell_type": "code",
   "execution_count": 13,
   "metadata": {},
   "outputs": [
    {
     "name": "stdout",
     "output_type": "stream",
     "text": [
      "p_value =  0.022560915657808822\n"
     ]
    }
   ],
   "source": [
    "#4)\n",
    "prob = stats.norm.cdf(X.mean(), loc=1.7, scale=0.1/np.sqrt(len(X)))\n",
    "p_val = 2*min(prob, 1-prob)\n",
    "print('p_value = ', p_val) # p_value =  0.02256"
   ]
  },
  {
   "cell_type": "code",
   "execution_count": 14,
   "metadata": {},
   "outputs": [
    {
     "name": "stdout",
     "output_type": "stream",
     "text": [
      "yes as P_value is less than the significanse level 5%\n"
     ]
    }
   ],
   "source": [
    "#5) \n",
    "print('yes as P_value is less than the significanse level 5%')"
   ]
  },
  {
   "cell_type": "code",
   "execution_count": 19,
   "metadata": {},
   "outputs": [
    {
     "data": {
      "image/png": "[encoded data removed]",
      "text/plain": [
       "<Figure size 432x288 with 1 Axes>"
      ]
     },
     "metadata": {
      "needs_background": "light"
     },
     "output_type": "display_data"
    }
   ],
   "source": [
    "#6)\n",
    "mean=1.7\n",
    "sd = 0.1\n",
    "x = np.linspace(X.mean()-4*sd/np.sqrt(len(X)), X.mean()+4*sd/np.sqrt(len(X)), 1000)\n",
    "y = stats.norm.pdf(x, X.mean(), sd/np.sqrt(len(X)))\n",
    "plt.plot(x,y, color = 'dimgrey')\n",
    " \n",
    "b_min = stats.norm.ppf(0.025, X.mean(), sd/np.sqrt(len(X)))\n",
    "b_max = stats.norm.ppf(0.975, X.mean(), sd/np.sqrt(len(X)))\n",
    " \n",
    "xf = np.linspace(b_min,b_max, 100)\n",
    "plt.fill_between(xf, stats.norm.pdf(xf, X.mean(), sd/np.sqrt(len(X))), color = 'dimgrey')\n",
    " \n",
    "plt.plot(mean, 0, 'ro')\n",
    "plt.show()"
   ]
  },
  {
   "cell_type": "code",
   "execution_count": 14,
   "metadata": {},
   "outputs": [
    {
     "name": "stdout",
     "output_type": "stream",
     "text": [
      "p_value =  0.09235730899034578\n"
     ]
    }
   ],
   "source": [
    "#7)\n",
    "prob = stats.t.cdf(X.mean(), df=len(X)-1, loc=1.7, scale=X.std(ddof=1)/np.sqrt(len(X)))\n",
    "p_val = 2*min(prob, 1-prob)\n",
    "print('p_value = ', p_val) #p_value =  0.092357"
   ]
  },
  {
   "cell_type": "code",
   "execution_count": 15,
   "metadata": {},
   "outputs": [
    {
     "name": "stdout",
     "output_type": "stream",
     "text": [
      "No as the P_value is bigger than than 0.05. The SMP-teacher might be right. \n"
     ]
    }
   ],
   "source": [
    "#8)\n",
    "print('No as the P_value is bigger than than 0.05. The SMP-teacher might be right. ')"
   ]
  },
  {
   "cell_type": "code",
   "execution_count": 22,
   "metadata": {},
   "outputs": [
    {
     "data": {
      "image/png": "[encoded data removed]",
      "text/plain": [
       "<Figure size 432x288 with 1 Axes>"
      ]
     },
     "metadata": {
      "needs_background": "light"
     },
     "output_type": "display_data"
    }
   ],
   "source": [
    "#9)\n",
    "plt.figure()\n",
    "mean=1.7\n",
    "x = np.linspace(X.mean()-4*X.std(ddof=1)/np.sqrt(len(X)), X.mean()+4*X.std(ddof=1)/np.sqrt(len(X)), 1000)\n",
    "y = stats.t.pdf(x,df=len(X)-1, loc=X.mean(), scale=X.std(ddof=1)/np.sqrt(len(X)))\n",
    "plt.plot(x,y, color = 'dimgrey')\n",
    " \n",
    "b_min = stats.t.ppf(0.025,df=len(X)-1, loc=X.mean(), scale=X.std(ddof=1)/np.sqrt(len(X)))\n",
    "b_max = stats.t.ppf(0.975,df=len(X)-1, loc=X.mean(), scale=X.std(ddof=1)/np.sqrt(len(X)))\n",
    " \n",
    "xf = np.linspace(b_min,b_max, 1000)\n",
    "plt.fill_between(xf, stats.t.pdf(xf,df=len(X)-1, loc=X.mean(), scale=X.std(ddof=1)/np.sqrt(len(X))), color = 'dimgrey')\n",
    " \n",
    "plt.plot(mean, 0, 'ro')\n",
    "plt.show()"
   ]
  },
  {
   "cell_type": "markdown",
   "metadata": {},
   "source": [
    "# Assignment 3"
   ]
  },
  {
   "cell_type": "code",
   "execution_count": 17,
   "metadata": {
    "scrolled": true
   },
   "outputs": [
    {
     "data": {
      "text/html": [
       "<div>\n",
       "<style scoped>\n",
       "    .dataframe tbody tr th:only-of-type {\n",
       "        vertical-align: middle;\n",
       "    }\n",
       "\n",
       "    .dataframe tbody tr th {\n",
       "        vertical-align: top;\n",
       "    }\n",
       "\n",
       "    .dataframe thead th {\n",
       "        text-align: right;\n",
       "    }\n",
       "</style>\n",
       "<table border=\"1\" class=\"dataframe\">\n",
       "  <thead>\n",
       "    <tr style=\"text-align: right;\">\n",
       "      <th></th>\n",
       "      <th>Urban community</th>\n",
       "      <th>Rural community</th>\n",
       "    </tr>\n",
       "  </thead>\n",
       "  <tbody>\n",
       "    <tr>\n",
       "      <th>Breast cancer</th>\n",
       "      <td>20</td>\n",
       "      <td>10</td>\n",
       "    </tr>\n",
       "    <tr>\n",
       "      <th>No cancer</th>\n",
       "      <td>180</td>\n",
       "      <td>140</td>\n",
       "    </tr>\n",
       "  </tbody>\n",
       "</table>\n",
       "</div>"
      ],
      "text/plain": [
       "               Urban community  Rural community\n",
       "Breast cancer               20               10\n",
       "No cancer                  180              140"
      ]
     },
     "metadata": {},
     "output_type": "display_data"
    },
    {
     "name": "stdout",
     "output_type": "stream",
     "text": [
      "p_value = 0.2702893848016953\n",
      "Significantly corrospond to a significance level of 0.05. Since the p_value is greater than this, we cannot reject H0. The risk of getting breastcancer might be independent of rural area. \n"
     ]
    }
   ],
   "source": [
    "df = pd.DataFrame({\"Urban community\":[20, 180], \"Rural community\":[10, 140]}, index=['Breast cancer', 'No cancer'])\n",
    "display(df)\n",
    "\n",
    "chi2_stat, p_val, dof, ex2 = stats.chi2_contingency(df, correction=False)\n",
    "print(\"p_value = \"+ str(p_val))\n",
    "print(\"Significantly corrospond to a significance level of 0.05. Since the p_value is greater than this, we cannot reject H0. The risk of getting breastcancer might be independent of rural area. \")"
   ]
  },
  {
   "cell_type": "code",
   "execution_count": 18,
   "metadata": {},
   "outputs": [],
   "source": [
    "# Can also be calculated by hand:"
   ]
  },
  {
   "cell_type": "markdown",
   "metadata": {},
   "source": [
    "![Calculation by hand](https://imgur.com/pcRDpFg.png)"
   ]
  },
  {
   "cell_type": "markdown",
   "metadata": {},
   "source": [
    "# Assignment 4"
   ]
  },
  {
   "cell_type": "code",
   "execution_count": 19,
   "metadata": {},
   "outputs": [
    {
     "data": {
      "text/html": [
       "<div>\n",
       "<style scoped>\n",
       "    .dataframe tbody tr th:only-of-type {\n",
       "        vertical-align: middle;\n",
       "    }\n",
       "\n",
       "    .dataframe tbody tr th {\n",
       "        vertical-align: top;\n",
       "    }\n",
       "\n",
       "    .dataframe thead th {\n",
       "        text-align: right;\n",
       "    }\n",
       "</style>\n",
       "<table border=\"1\" class=\"dataframe\">\n",
       "  <thead>\n",
       "    <tr style=\"text-align: right;\">\n",
       "      <th></th>\n",
       "      <th>Blueish</th>\n",
       "      <th>Reddish</th>\n",
       "      <th>Greenish</th>\n",
       "    </tr>\n",
       "  </thead>\n",
       "  <tbody>\n",
       "    <tr>\n",
       "      <th>Display 1</th>\n",
       "      <td>46</td>\n",
       "      <td>82</td>\n",
       "      <td>72</td>\n",
       "    </tr>\n",
       "    <tr>\n",
       "      <th>Display 2</th>\n",
       "      <td>42</td>\n",
       "      <td>38</td>\n",
       "      <td>20</td>\n",
       "    </tr>\n",
       "    <tr>\n",
       "      <th>Display 3</th>\n",
       "      <td>52</td>\n",
       "      <td>40</td>\n",
       "      <td>8</td>\n",
       "    </tr>\n",
       "  </tbody>\n",
       "</table>\n",
       "</div>"
      ],
      "text/plain": [
       "           Blueish  Reddish  Greenish\n",
       "Display 1       46       82        72\n",
       "Display 2       42       38        20\n",
       "Display 3       52       40         8"
      ]
     },
     "metadata": {},
     "output_type": "display_data"
    },
    {
     "name": "stdout",
     "output_type": "stream",
     "text": [
      "p_value = 3.795777297500132e-08\n",
      "As 3.795777297500132e-08<0.05 the null hypothesis can be rejected. The hue bias does depend on the display \n"
     ]
    }
   ],
   "source": [
    "df = pd.DataFrame({\"Blueish\":[46, 42,52], \"Reddish\":[82, 38,40], \"Greenish\":[72, 20,8]}, index=['Display 1','Display 2','Display 3'])\n",
    "display(df)\n",
    "\n",
    "chi2_stat, p_val, dof, ex2 = stats.chi2_contingency(df, correction=False)\n",
    "print(\"p_value = \"+ str(p_val))\n",
    "print(\"As 3.795777297500132e-08<0.05 the null hypothesis can be rejected. The hue bias does depend on the display \")"
   ]
  },
  {
   "cell_type": "markdown",
   "metadata": {},
   "source": [
    "# Assignment 5"
   ]
  },
  {
   "cell_type": "code",
   "execution_count": 33,
   "metadata": {},
   "outputs": [
    {
     "name": "stdout",
     "output_type": "stream",
     "text": [
      "   pclass  survived                                             name     sex  \\\n",
      "0       1         1                    Allen, Miss. Elisabeth Walton  female   \n",
      "1       1         1                   Allison, Master. Hudson Trevor    male   \n",
      "2       1         0                     Allison, Miss. Helen Loraine  female   \n",
      "3       1         0             Allison, Mr. Hudson Joshua Creighton    male   \n",
      "4       1         0  Allison, Mrs. Hudson J C (Bessie Waldo Daniels)  female   \n",
      "5       1         1                              Anderson, Mr. Harry    male   \n",
      "6       1         1                Andrews, Miss. Kornelia Theodosia  female   \n",
      "\n",
      "       age  sibsp  parch  alone  ticket      fare    cabin embarked boat  \\\n",
      "0  29.0000      0      0      1   24160  211.3375       B5        S    2   \n",
      "1   0.9167      1      2      0  113781  151.5500  C22 C26        S   11   \n",
      "2   2.0000      1      2      0  113781  151.5500  C22 C26        S  NaN   \n",
      "3  30.0000      1      2      0  113781  151.5500  C22 C26        S  NaN   \n",
      "4  25.0000      1      2      0  113781  151.5500  C22 C26        S  NaN   \n",
      "5  48.0000      0      0      1   19952   26.5500      E12        S    3   \n",
      "6  63.0000      1      0      0   13502   77.9583       D7        S   10   \n",
      "\n",
      "    body                        home.dest  \n",
      "0    NaN                     St Louis, MO  \n",
      "1    NaN  Montreal, PQ / Chesterville, ON  \n",
      "2    NaN  Montreal, PQ / Chesterville, ON  \n",
      "3  135.0  Montreal, PQ / Chesterville, ON  \n",
      "4    NaN  Montreal, PQ / Chesterville, ON  \n",
      "5    NaN                     New York, NY  \n",
      "6    NaN                       Hudson, NY  \n",
      "pclass      1    2    3\n",
      "survived               \n",
      "0         123  158  528\n",
      "1         200  119  181\n"
     ]
    }
   ],
   "source": [
    "data = pd.read_excel(\"Titanic.xlsx\") \n",
    " \n",
    "print (data.head(7)) \n",
    " \n",
    "#1)\n",
    "data_crosstab = pd.crosstab(data['survived'], data['pclass'], margins = False) \n",
    "print(data_crosstab)\n"
   ]
  },
  {
   "cell_type": "code",
   "execution_count": 34,
   "metadata": {},
   "outputs": [
    {
     "data": {
      "text/plain": [
       "'p-value = 1.7208259588256052e-28'"
      ]
     },
     "metadata": {},
     "output_type": "display_data"
    },
    {
     "data": {
      "text/plain": [
       "'degrees of freedom = 2'"
      ]
     },
     "metadata": {},
     "output_type": "display_data"
    },
    {
     "name": "stdout",
     "output_type": "stream",
     "text": [
      "As the p-value is less than 0.05 survival rate depends on class\n"
     ]
    }
   ],
   "source": [
    "#2)\n",
    "chi2_stat, p_val, dof, ex2 = stats.chi2_contingency(data_crosstab, correction=False)\n",
    "display(\"p-value = \"+str(p_val), \"degrees of freedom = \"+str(dof))\n",
    "print(\"As the p-value is less than 0.05 survival rate depends on class\")"
   ]
  },
  {
   "cell_type": "code",
   "execution_count": 35,
   "metadata": {},
   "outputs": [
    {
     "name": "stdout",
     "output_type": "stream",
     "text": [
      "sex       female  male   All\n",
      "survived                    \n",
      "0            127   682   809\n",
      "1            339   161   500\n",
      "All          466   843  1309\n"
     ]
    }
   ],
   "source": [
    "#3)\n",
    "data_crosstab = pd.crosstab(data['survived'], data['sex'], margins = True) \n",
    "print(data_crosstab)"
   ]
  },
  {
   "cell_type": "code",
   "execution_count": 36,
   "metadata": {},
   "outputs": [
    {
     "data": {
      "text/plain": [
       "'p-value = 6.506436068205604e-78'"
      ]
     },
     "metadata": {},
     "output_type": "display_data"
    },
    {
     "data": {
      "text/plain": [
       "'degrees of freedom = 4'"
      ]
     },
     "metadata": {},
     "output_type": "display_data"
    },
    {
     "name": "stdout",
     "output_type": "stream",
     "text": [
      "As the p-value is less than 0.05 survival rate depends on gender\n"
     ]
    }
   ],
   "source": [
    "#4)\n",
    "chi2_stat, p_val, dof, ex2 = stats.chi2_contingency(data_crosstab, correction=False)\n",
    "display(\"p-value = \"+str(p_val), \"degrees of freedom = \"+str(dof))\n",
    "print(\"As the p-value is less than 0.05 survival rate depends on gender\")"
   ]
  },
  {
   "cell_type": "markdown",
   "metadata": {},
   "source": [
    "# Assignment 6"
   ]
  },
  {
   "cell_type": "code",
   "execution_count": 23,
   "metadata": {},
   "outputs": [
    {
     "name": "stdout",
     "output_type": "stream",
     "text": [
      "sample mean =  251.09600000000003\n"
     ]
    }
   ],
   "source": [
    "X= np.array([252.0 , 253.0 , 249.0 , 248.1, 251.7, 245.5, 249.6, 250.4, 252.5, 250.6, 249.7, 248.2, 249.5, 247.6, 253.5, 247.6, 248.5, 252.3, 253.7, 255.7, 258.1, 252.9, 251.8, 252.3, 253.6])\n",
    "#1)\n",
    "print('sample mean = ', X.mean()) #sample mean =  251.0\n"
   ]
  },
  {
   "cell_type": "code",
   "execution_count": 24,
   "metadata": {},
   "outputs": [
    {
     "name": "stdout",
     "output_type": "stream",
     "text": [
      "sample var =  8.092900000000018\n"
     ]
    }
   ],
   "source": [
    "#2)\n",
    "print('sample var = ', X.var(ddof=1)) #sample var =  8.09"
   ]
  },
  {
   "cell_type": "code",
   "execution_count": 25,
   "metadata": {},
   "outputs": [
    {
     "name": "stdout",
     "output_type": "stream",
     "text": [
      "sample std =  2.8448022778393613\n"
     ]
    }
   ],
   "source": [
    "#3)\n",
    "print('sample std = ', X.std(ddof=1))#sample std =  2.84"
   ]
  },
  {
   "cell_type": "code",
   "execution_count": 26,
   "metadata": {},
   "outputs": [
    {
     "name": "stdout",
     "output_type": "stream",
     "text": [
      "p_value =  0.028379506632798757\n"
     ]
    }
   ],
   "source": [
    "#4)\n",
    "prob = stats.norm.cdf(X.mean(), loc=250, scale=2.5/np.sqrt(len(X)))\n",
    "p_val = 2*min(prob, 1-prob)\n",
    "print('p_value = ', p_val) # p_value =  0.0283795"
   ]
  },
  {
   "cell_type": "code",
   "execution_count": 27,
   "metadata": {},
   "outputs": [
    {
     "name": "stdout",
     "output_type": "stream",
     "text": [
      "yes as P_value is less than the significanse level 5%\n"
     ]
    }
   ],
   "source": [
    "#5) \n",
    "print('yes as P_value is less than the significanse level 5%')"
   ]
  },
  {
   "cell_type": "code",
   "execution_count": 30,
   "metadata": {},
   "outputs": [
    {
     "data": {
      "image/png": "[encoded data removed]",
      "text/plain": [
       "<Figure size 432x288 with 1 Axes>"
      ]
     },
     "metadata": {
      "needs_background": "light"
     },
     "output_type": "display_data"
    }
   ],
   "source": [
    "#6)\n",
    "mean=250\n",
    "sd = 2.5\n",
    "x = np.linspace(X.mean()-4*sd/np.sqrt(len(X)), X.mean()+4*sd/np.sqrt(len(X)), 1000)\n",
    "y = stats.norm.pdf(x, X.mean(), sd/np.sqrt(len(X)))\n",
    "plt.plot(x,y, color = 'dimgrey')\n",
    " \n",
    "b_min = stats.norm.ppf(0.025, X.mean(), sd/np.sqrt(len(X)))\n",
    "b_max = stats.norm.ppf(0.975, X.mean(), sd/np.sqrt(len(X)))\n",
    " \n",
    "xf = np.linspace(b_min,b_max, 100)\n",
    "plt.fill_between(xf, stats.norm.pdf(xf, X.mean(), sd/np.sqrt(len(X))), color = 'dimgrey')\n",
    " \n",
    "plt.plot(mean, 0, 'ro')\n",
    "plt.show()"
   ]
  },
  {
   "cell_type": "code",
   "execution_count": 26,
   "metadata": {},
   "outputs": [
    {
     "name": "stdout",
     "output_type": "stream",
     "text": [
      "p_value =  0.06598787079213086\n"
     ]
    }
   ],
   "source": [
    "#7) \n",
    "prob = stats.t.cdf(X.mean(), df=len(X)-1, loc=250, scale=X.std(ddof=1)/np.sqrt(len(X)))\n",
    "p_val = 2*min(prob, 1-prob)\n",
    "print('p_value = ', p_val) #p_value =  0.06598787\n"
   ]
  },
  {
   "cell_type": "code",
   "execution_count": 27,
   "metadata": {},
   "outputs": [
    {
     "name": "stdout",
     "output_type": "stream",
     "text": [
      "No as the P_value is bigger than than 0.05 \n"
     ]
    }
   ],
   "source": [
    "#8) \n",
    "print('No as the P_value is bigger than than 0.05 ')"
   ]
  },
  {
   "cell_type": "code",
   "execution_count": 29,
   "metadata": {},
   "outputs": [
    {
     "data": {
      "image/png": "[encoded data removed]",
      "text/plain": [
       "<Figure size 432x288 with 1 Axes>"
      ]
     },
     "metadata": {
      "needs_background": "light"
     },
     "output_type": "display_data"
    }
   ],
   "source": [
    "#9) \n",
    "plt.figure()\n",
    "mean=250\n",
    "x = np.linspace(X.mean()-4*X.std(ddof=1)/np.sqrt(len(X)), X.mean()+4*X.std(ddof=1)/np.sqrt(len(X)), 1000)\n",
    "y = stats.t.pdf(x,df=len(X)-1, loc=X.mean(), scale=X.std(ddof=1)/np.sqrt(len(X)))\n",
    "plt.plot(x,y, color = 'dimgrey')\n",
    " \n",
    "b_min = stats.t.ppf(0.025,df=len(X)-1, loc=X.mean(), scale=X.std(ddof=1)/np.sqrt(len(X)))\n",
    "b_max = stats.t.ppf(0.975,df=len(X)-1, loc=X.mean(), scale=X.std(ddof=1)/np.sqrt(len(X)))\n",
    " \n",
    "xf = np.linspace(b_min,b_max, 1000)\n",
    "plt.fill_between(xf, stats.t.pdf(xf,df=len(X)-1, loc=X.mean(), scale=X.std(ddof=1)/np.sqrt(len(X))), color = 'dimgrey')\n",
    " \n",
    "plt.plot(mean, 0, 'ro')\n",
    "plt.show()"
   ]
  },
  {
   "cell_type": "markdown",
   "metadata": {},
   "source": [
    "# Assignment 7"
   ]
  },
  {
   "cell_type": "code",
   "execution_count": 30,
   "metadata": {},
   "outputs": [
    {
     "name": "stdout",
     "output_type": "stream",
     "text": [
      "P_value =  0.059234619140624986\n",
      "P_value =  0.059234619140625173\n",
      "As the P-value > significance level of 0.05 we cannot reject the null-hypothesis. \n"
     ]
    }
   ],
   "source": [
    "p_val=stats.binom.sf(k=10, n=15, p=0.5)\n",
    "print('P_value = ',p_val)\n",
    "# Can also be calculated in the following way:\n",
    "p_val=stats.binom.pmf(k=[11,12,13,14,15], n=15, p=0.5)\n",
    "print('P_value = ',sum(p_val))\n",
    "\n",
    "print(\"As the P-value > significance level of 0.05 we cannot reject the null-hypothesis. \")"
   ]
  },
  {
   "cell_type": "markdown",
   "metadata": {},
   "source": [
    "# Assignment 8"
   ]
  },
  {
   "cell_type": "code",
   "execution_count": 31,
   "metadata": {},
   "outputs": [
    {
     "name": "stdout",
     "output_type": "stream",
     "text": [
      "P_value =  0.0011746947930915239\n",
      "Since the p_value is smaller than the sinificance level (0.00117<0.05) we can reject the null hypothesis. The varialbes are dependent on each other. \n"
     ]
    }
   ],
   "source": [
    "Significance_level = 0.05\n",
    "obs = [[72,44],[34,53]]\n",
    "chi2_stat, p_val, dof, ex2 = stats.chi2_contingency(obs, correction=False)\n",
    "print('P_value = ',p_val)\n",
    "if p_val<0.05:\n",
    "    print(\"Since the p_value is smaller than the sinificance level (\" +str(round(p_val,5))+\"<\"+str(Significance_level)+\") we can reject the null hypothesis. The varialbes are dependent on each other. \")\n",
    "else:\n",
    "    print(\"Since the p_value is greater than the sinificance level (\" +str(round(p_val,5))+\">\"+str(Significance_level)+\") we cannot reject the null hypothesis. The varialbes are independent on each other. \")\n"
   ]
  },
  {
   "cell_type": "markdown",
   "metadata": {},
   "source": [
    "# Assignment 9"
   ]
  },
  {
   "cell_type": "code",
   "execution_count": 32,
   "metadata": {},
   "outputs": [
    {
     "name": "stdout",
     "output_type": "stream",
     "text": [
      "Since the p_value is greater than the sinificance level (0.05352>0.05) we cannot reject the null hypothesis. The varialbes are independent on each other. \n"
     ]
    }
   ],
   "source": [
    "Significance_level = 0.05\n",
    "obs = [[26,13,5],[20,29,7]]\n",
    "chi2_stat, p_val, dof, ex2 = stats.chi2_contingency(obs, correction=False)\n",
    "\n",
    "if p_val<0.05:\n",
    "    print(\"Since the p_value is smaller than the sinificance level (\" +str(round(p_val,5))+\"<\"+str(Significance_level)+\") we can reject the null hypothesis. The varialbes are dependent on each other. \")\n",
    "else:\n",
    "    print(\"Since the p_value is greater than the sinificance level (\" +str(round(p_val,5))+\">\"+str(Significance_level)+\") we cannot reject the null hypothesis. The varialbes are independent on each other. \")\n",
    "\n"
   ]
  },
  {
   "cell_type": "markdown",
   "metadata": {},
   "source": [
    "# Assignment 10"
   ]
  },
  {
   "cell_type": "code",
   "execution_count": 58,
   "metadata": {},
   "outputs": [
    {
     "name": "stdout",
     "output_type": "stream",
     "text": [
      "    39          State-gov   77516   Bachelors   13        Never-married  \\\n",
      "0   50   Self-emp-not-inc   83311   Bachelors   13   Married-civ-spouse   \n",
      "3   28            Private  338409   Bachelors   13   Married-civ-spouse   \n",
      "4   37            Private  284582     Masters   14   Married-civ-spouse   \n",
      "7   31            Private   45781     Masters   14        Never-married   \n",
      "8   42            Private  159449   Bachelors   13   Married-civ-spouse   \n",
      "10  30          State-gov  141297   Bachelors   13   Married-civ-spouse   \n",
      "11  23            Private  122272   Bachelors   13        Never-married   \n",
      "\n",
      "        Adm-clerical   Not-in-family                White     Male   2174   0  \\\n",
      "0    Exec-managerial         Husband                White     Male      0   0   \n",
      "3     Prof-specialty            Wife                Black   Female      0   0   \n",
      "4    Exec-managerial            Wife                White   Female      0   0   \n",
      "7     Prof-specialty   Not-in-family                White   Female  14084   0   \n",
      "8    Exec-managerial         Husband                White     Male   5178   0   \n",
      "10    Prof-specialty         Husband   Asian-Pac-Islander     Male      0   0   \n",
      "11      Adm-clerical       Own-child                White   Female      0   0   \n",
      "\n",
      "     40   United-States   <=50K  \n",
      "0    13   United-States   <=50K  \n",
      "3    40            Cuba   <=50K  \n",
      "4    40   United-States   <=50K  \n",
      "7    50   United-States    >50K  \n",
      "8    40   United-States    >50K  \n",
      "10   40           India    >50K  \n",
      "11   30   United-States   <=50K  \n",
      " Bachelors   Bachelors   Masters\n",
      " <=50K                          \n",
      " <=50K            3133       764\n",
      " >50K             2221       959\n"
     ]
    }
   ],
   "source": [
    "data = pd.read_csv(\"adult.data.csv\") \n",
    "print (dataB.head(7)) \n",
    "\n",
    "#1)\n",
    "dataB = data[data[' Bachelors'].isin([' Bachelors' , ' Masters'])]\n",
    "\n",
    "data_crosstab = pd.crosstab(dataB[' <=50K'], dataB[' Bachelors'], margins = False) \n",
    "print(data_crosstab)"
   ]
  },
  {
   "cell_type": "code",
   "execution_count": 59,
   "metadata": {},
   "outputs": [
    {
     "data": {
      "text/plain": [
       "'p-value = 7.899312840404235e-25'"
      ]
     },
     "metadata": {},
     "output_type": "display_data"
    },
    {
     "data": {
      "text/plain": [
       "'degrees of freedom = 1'"
      ]
     },
     "metadata": {},
     "output_type": "display_data"
    },
    {
     "name": "stdout",
     "output_type": "stream",
     "text": [
      "As the p-value is less than 0.05 salery depends on wether you have a Master or a bachellor\n"
     ]
    }
   ],
   "source": [
    "#2)\n",
    "chi2_stat, p_val, dof, ex2 = stats.chi2_contingency(data_crosstab, correction=False)\n",
    "display(\"p-value = \"+str(p_val), \"degrees of freedom = \"+str(dof))\n",
    "print(\"As the p-value is less than 0.05 salery depends on wether you have a Master or a bachellor\")"
   ]
  },
  {
   "cell_type": "code",
   "execution_count": 60,
   "metadata": {},
   "outputs": [
    {
     "name": "stdout",
     "output_type": "stream",
     "text": [
      " <=50K       <=50K   >50K\n",
      " State-gov               \n",
      " Private     17733   4963\n",
      " State-gov     944    353\n"
     ]
    }
   ],
   "source": [
    "#3)\n",
    "dataS = data[data[' State-gov'].isin([' State-gov' , ' Private'])]\n",
    "data_crosstab = pd.crosstab(dataS[' State-gov'], dataS[' <=50K'], margins = False) \n",
    "print(data_crosstab)"
   ]
  },
  {
   "cell_type": "code",
   "execution_count": 61,
   "metadata": {},
   "outputs": [
    {
     "data": {
      "text/plain": [
       "'p-value = 6.430111938009106e-06'"
      ]
     },
     "metadata": {},
     "output_type": "display_data"
    },
    {
     "data": {
      "text/plain": [
       "'degrees of freedom = 1'"
      ]
     },
     "metadata": {},
     "output_type": "display_data"
    },
    {
     "name": "stdout",
     "output_type": "stream",
     "text": [
      "As the p-value is less than 0.05 salery depends on wether you work for the Public or the Private\n"
     ]
    }
   ],
   "source": [
    "#4)\n",
    "chi2_stat, p_val, dof, ex2 = stats.chi2_contingency(data_crosstab, correction=False)\n",
    "display(\"p-value = \"+str(p_val), \"degrees of freedom = \"+str(dof))\n",
    "print(\"As the p-value is less than 0.05 salery depends on wether you work for the Public or the Private\")"
   ]
  },
  {
   "cell_type": "code",
   "execution_count": null,
   "metadata": {},
   "outputs": [],
   "source": []
  }
 ],
 "metadata": {
  "kernelspec": {
   "display_name": "Python 3",
   "language": "python",
   "name": "python3"
  },
  "language_info": {
   "codemirror_mode": {
    "name": "ipython",
    "version": 3
   },
   "file_extension": ".py",
   "mimetype": "text/x-python",
   "name": "python",
   "nbconvert_exporter": "python",
   "pygments_lexer": "ipython3",
   "version": "3.7.4"
  }
 },
 "nbformat": 4,
 "nbformat_minor": 4
}
