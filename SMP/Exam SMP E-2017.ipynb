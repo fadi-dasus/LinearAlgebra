{
 "cells": [
  {
   "cell_type": "code",
   "execution_count": 17,
   "metadata": {},
   "outputs": [],
   "source": [
    "from scipy.stats import binom\n",
    "from scipy.stats import poisson\n",
    "import pandas as pd\n",
    "import sympy as sp\n",
    "from sympy import *\n",
    "sp.init_printing()\n",
    "import matplotlib.pyplot as plt\n",
    "import scipy.integrate as integrate\n",
    "import scipy.special as special\n",
    "from scipy.integrate import quad\n",
    "import statsmodels.api as sm\n",
    "import numpy as np\n",
    "from scipy.misc import derivative\n",
    "import math\n",
    "from math import *\n",
    "from fractions import Fraction\n",
    "import fractions\n",
    "from scipy import stats\n",
    "%matplotlib inline"
   ]
  },
  {
   "cell_type": "markdown",
   "metadata": {},
   "source": [
    "Assignment 1\n",
    "=="
   ]
  },
  {
   "cell_type": "code",
   "execution_count": 19,
   "metadata": {},
   "outputs": [
    {
     "data": {
      "image/png": "[encoded data removed]",
      "text/latex": [
       "$\\displaystyle 0.15625$"
      ],
      "text/plain": [
       "0.15625"
      ]
     },
     "execution_count": 19,
     "metadata": {},
     "output_type": "execute_result"
    }
   ],
   "source": [
    "# a)\n",
    "def F(x):\n",
    "    y = (3/4)*x**2-(1/4)*x**3\n",
    "    return y\n",
    "\n",
    "F(0.5)"
   ]
  },
  {
   "cell_type": "code",
   "execution_count": 20,
   "metadata": {},
   "outputs": [
    {
     "data": {
      "image/png": "[encoded data removed]",
      "text/latex": [
       "$\\displaystyle 0.5$"
      ],
      "text/plain": [
       "0.5"
      ]
     },
     "execution_count": 20,
     "metadata": {},
     "output_type": "execute_result"
    }
   ],
   "source": [
    "#a)\n",
    "1-F(1)"
   ]
  },
  {
   "cell_type": "code",
   "execution_count": 21,
   "metadata": {},
   "outputs": [
    {
     "data": {
      "image/png": "[encoded data removed]",
      "text/latex": [
       "$\\displaystyle - 0.75 x^{2} + 1.5 x$"
      ],
      "text/plain": [
       "        2        \n",
       "- 0.75⋅x  + 1.5⋅x"
      ]
     },
     "execution_count": 21,
     "metadata": {},
     "output_type": "execute_result"
    }
   ],
   "source": [
    "# b)\n",
    "x = sp.Symbol('x')\n",
    "F = (3/4)*x**2-(1/4)*x**3\n",
    "f = F.diff(x)\n",
    "f"
   ]
  },
  {
   "cell_type": "code",
   "execution_count": 39,
   "metadata": {},
   "outputs": [
    {
     "data": {
      "image/png": "[encoded data removed]",
      "text/latex": [
       "$$1.0$$"
      ],
      "text/plain": [
       "1.00000000000000"
      ]
     },
     "execution_count": 39,
     "metadata": {},
     "output_type": "execute_result"
    }
   ],
   "source": [
    "# c) Expected\n",
    "sp.integrate(x*f, (x, 0 , 2))"
   ]
  },
  {
   "cell_type": "code",
   "execution_count": 22,
   "metadata": {},
   "outputs": [
    {
     "data": {
      "image/png": "[encoded data removed]",
      "text/latex": [
       "$\\displaystyle 0.2$"
      ],
      "text/plain": [
       "0.200000000000000"
      ]
     },
     "execution_count": 22,
     "metadata": {},
     "output_type": "execute_result"
    }
   ],
   "source": [
    "# c) Variance\n",
    "var = sp.integrate((x**2)*f, (x, 0 , 2))-sp.integrate(x*f, (x, 0 , 2))**2\n",
    "var"
   ]
  },
  {
   "cell_type": "markdown",
   "metadata": {},
   "source": [
    "Assignment 2\n",
    "=="
   ]
  },
  {
   "cell_type": "code",
   "execution_count": 23,
   "metadata": {},
   "outputs": [
    {
     "data": {
      "text/html": [
       "<div>\n",
       "<style scoped>\n",
       "    .dataframe tbody tr th:only-of-type {\n",
       "        vertical-align: middle;\n",
       "    }\n",
       "\n",
       "    .dataframe tbody tr th {\n",
       "        vertical-align: top;\n",
       "    }\n",
       "\n",
       "    .dataframe thead th {\n",
       "        text-align: right;\n",
       "    }\n",
       "</style>\n",
       "<table border=\"1\" class=\"dataframe\">\n",
       "  <thead>\n",
       "    <tr style=\"text-align: right;\">\n",
       "      <th></th>\n",
       "      <th>ICT</th>\n",
       "      <th>C</th>\n",
       "      <th>M</th>\n",
       "      <th>GBE</th>\n",
       "      <th>Total</th>\n",
       "    </tr>\n",
       "  </thead>\n",
       "  <tbody>\n",
       "    <tr>\n",
       "      <th>0</th>\n",
       "      <td>102</td>\n",
       "      <td>80</td>\n",
       "      <td>36</td>\n",
       "      <td>22</td>\n",
       "      <td>240</td>\n",
       "    </tr>\n",
       "    <tr>\n",
       "      <th>1</th>\n",
       "      <td>18</td>\n",
       "      <td>20</td>\n",
       "      <td>9</td>\n",
       "      <td>13</td>\n",
       "      <td>60</td>\n",
       "    </tr>\n",
       "    <tr>\n",
       "      <th>2</th>\n",
       "      <td>120</td>\n",
       "      <td>100</td>\n",
       "      <td>45</td>\n",
       "      <td>35</td>\n",
       "      <td>300</td>\n",
       "    </tr>\n",
       "  </tbody>\n",
       "</table>\n",
       "</div>"
      ],
      "text/plain": [
       "   ICT    C   M  GBE  Total\n",
       "0  102   80  36   22    240\n",
       "1   18   20   9   13     60\n",
       "2  120  100  45   35    300"
      ]
     },
     "metadata": {},
     "output_type": "display_data"
    },
    {
     "data": {
      "text/html": [
       "<div>\n",
       "<style scoped>\n",
       "    .dataframe tbody tr th:only-of-type {\n",
       "        vertical-align: middle;\n",
       "    }\n",
       "\n",
       "    .dataframe tbody tr th {\n",
       "        vertical-align: top;\n",
       "    }\n",
       "\n",
       "    .dataframe thead th {\n",
       "        text-align: right;\n",
       "    }\n",
       "</style>\n",
       "<table border=\"1\" class=\"dataframe\">\n",
       "  <thead>\n",
       "    <tr style=\"text-align: right;\">\n",
       "      <th></th>\n",
       "      <th>ICT</th>\n",
       "      <th>C</th>\n",
       "      <th>M</th>\n",
       "      <th>GBE</th>\n",
       "      <th>Total</th>\n",
       "    </tr>\n",
       "  </thead>\n",
       "  <tbody>\n",
       "    <tr>\n",
       "      <th>Empl</th>\n",
       "      <td>102</td>\n",
       "      <td>80</td>\n",
       "      <td>36</td>\n",
       "      <td>22</td>\n",
       "      <td>240</td>\n",
       "    </tr>\n",
       "    <tr>\n",
       "      <th>Unempl</th>\n",
       "      <td>18</td>\n",
       "      <td>20</td>\n",
       "      <td>9</td>\n",
       "      <td>13</td>\n",
       "      <td>60</td>\n",
       "    </tr>\n",
       "    <tr>\n",
       "      <th>Sum</th>\n",
       "      <td>120</td>\n",
       "      <td>100</td>\n",
       "      <td>45</td>\n",
       "      <td>35</td>\n",
       "      <td>300</td>\n",
       "    </tr>\n",
       "  </tbody>\n",
       "</table>\n",
       "</div>"
      ],
      "text/plain": [
       "        ICT    C   M  GBE  Total\n",
       "Empl    102   80  36   22    240\n",
       "Unempl   18   20   9   13     60\n",
       "Sum     120  100  45   35    300"
      ]
     },
     "metadata": {},
     "output_type": "display_data"
    },
    {
     "data": {
      "text/html": [
       "<div>\n",
       "<style scoped>\n",
       "    .dataframe tbody tr th:only-of-type {\n",
       "        vertical-align: middle;\n",
       "    }\n",
       "\n",
       "    .dataframe tbody tr th {\n",
       "        vertical-align: top;\n",
       "    }\n",
       "\n",
       "    .dataframe thead th {\n",
       "        text-align: right;\n",
       "    }\n",
       "</style>\n",
       "<table border=\"1\" class=\"dataframe\">\n",
       "  <thead>\n",
       "    <tr style=\"text-align: right;\">\n",
       "      <th></th>\n",
       "      <th>ICT</th>\n",
       "      <th>C</th>\n",
       "      <th>M</th>\n",
       "      <th>GBE</th>\n",
       "      <th>Total</th>\n",
       "    </tr>\n",
       "  </thead>\n",
       "  <tbody>\n",
       "    <tr>\n",
       "      <th>Empl</th>\n",
       "      <td>0.34</td>\n",
       "      <td>0.266667</td>\n",
       "      <td>0.12</td>\n",
       "      <td>0.073333</td>\n",
       "      <td>0.8</td>\n",
       "    </tr>\n",
       "    <tr>\n",
       "      <th>Unempl</th>\n",
       "      <td>0.06</td>\n",
       "      <td>0.066667</td>\n",
       "      <td>0.03</td>\n",
       "      <td>0.043333</td>\n",
       "      <td>0.2</td>\n",
       "    </tr>\n",
       "    <tr>\n",
       "      <th>Sum</th>\n",
       "      <td>0.40</td>\n",
       "      <td>0.333333</td>\n",
       "      <td>0.15</td>\n",
       "      <td>0.116667</td>\n",
       "      <td>1.0</td>\n",
       "    </tr>\n",
       "  </tbody>\n",
       "</table>\n",
       "</div>"
      ],
      "text/plain": [
       "         ICT         C     M       GBE  Total\n",
       "Empl    0.34  0.266667  0.12  0.073333    0.8\n",
       "Unempl  0.06  0.066667  0.03  0.043333    0.2\n",
       "Sum     0.40  0.333333  0.15  0.116667    1.0"
      ]
     },
     "metadata": {},
     "output_type": "display_data"
    }
   ],
   "source": [
    "# a)\n",
    "df = pd.DataFrame({'ICT':[102, 18, 120], 'C':[80, 20, 100], 'M':[36, 9, 45], 'GBE':[22, 13, 35], 'Total':[240, 60, 300]})\n",
    "display(df)\n",
    "df = df.rename({0: 'Empl', 1:'Unempl', 2: 'Sum'})\n",
    "df2 = df/300\n",
    "display(df)\n",
    "display(df2)"
   ]
  },
  {
   "cell_type": "code",
   "execution_count": 28,
   "metadata": {},
   "outputs": [
    {
     "name": "stdout",
     "output_type": "stream",
     "text": [
      "Reject since p-value = 0.0401 < 0.05\n",
      "[[102  80  36  22]\n",
      " [ 18  20   9  13]]\n",
      "--------\n",
      "[[96. 80. 36. 28.]\n",
      " [24. 20.  9.  7.]]\n",
      "8.303571428571429\n",
      "7.814727903251179\n"
     ]
    }
   ],
   "source": [
    "# b)\n",
    "alpha = 0.05\n",
    "obs = np.array([\n",
    "    [102, 80, 36, 22],\n",
    "    [18, 20, 9, 13]\n",
    "    \n",
    "])\n",
    "stat, pvalue, dof, ex = stats.chi2_contingency(obs, correction=False)\n",
    "\n",
    "if pvalue < alpha:\n",
    "    print(\"Reject since p-value = \" + repr(round(pvalue, 4)) + ' < ' + repr(alpha))\n",
    "else:\n",
    "    print(\"Fail to reject since p-value = \" + repr(round(pvalue, 4)) + ' > ' + repr(alpha))\n",
    "print(obs)\n",
    "print('--------')\n",
    "print (ex)\n",
    "print(stat)\n",
    "print(stats.chi2.ppf(0.95, df=dof))"
   ]
  },
  {
   "cell_type": "code",
   "execution_count": 50,
   "metadata": {},
   "outputs": [
    {
     "data": {
      "image/png": "[encoded data removed]",
      "text/latex": [
       "$$0.3$$"
      ],
      "text/plain": [
       "0.3"
      ]
     },
     "execution_count": 50,
     "metadata": {},
     "output_type": "execute_result"
    }
   ],
   "source": [
    "# c)\n",
    "c = 18/60\n",
    "c"
   ]
  },
  {
   "cell_type": "code",
   "execution_count": 51,
   "metadata": {},
   "outputs": [
    {
     "data": {
      "image/png": "[encoded data removed]",
      "text/latex": [
       "$$0.21666666666666667$$"
      ],
      "text/plain": [
       "0.21666666666666667"
      ]
     },
     "execution_count": 51,
     "metadata": {},
     "output_type": "execute_result"
    }
   ],
   "source": [
    "# d)\n",
    "d = 13/60\n",
    "d"
   ]
  },
  {
   "cell_type": "code",
   "execution_count": 29,
   "metadata": {},
   "outputs": [
    {
     "name": "stdout",
     "output_type": "stream",
     "text": [
      "Dependent\n"
     ]
    }
   ],
   "source": [
    "# e)\n",
    "# Compare P(Unemployed) and P(Unemployed |ICT)\n",
    "e = 60/300\n",
    "uICT=18/102\n",
    "if uICT == e:\n",
    "    print(\"Independent\")\n",
    "else:\n",
    "    print(\"Dependent\")"
   ]
  },
  {
   "cell_type": "markdown",
   "metadata": {},
   "source": [
    "Assignment 3\n",
    "=="
   ]
  },
  {
   "cell_type": "code",
   "execution_count": 30,
   "metadata": {},
   "outputs": [
    {
     "data": {
      "image/png": "[encoded data removed]",
      "text/latex": [
       "$\\displaystyle 0.246857111254516$"
      ],
      "text/plain": [
       "0.246857111254516"
      ]
     },
     "execution_count": 30,
     "metadata": {},
     "output_type": "execute_result"
    }
   ],
   "source": [
    "# a)\n",
    "l = 2*2.1\n",
    "poisson.sf(5, l)"
   ]
  },
  {
   "cell_type": "code",
   "execution_count": 58,
   "metadata": {},
   "outputs": [
    {
     "data": {
      "image/png": "[encoded data removed]",
      "text/latex": [
       "$$0.3499377491111553$$"
      ],
      "text/plain": [
       "0.3499377491111553"
      ]
     },
     "execution_count": 58,
     "metadata": {},
     "output_type": "execute_result"
    }
   ],
   "source": [
    "# b)\n",
    "l = 0.5*2.1\n",
    "poisson.pmf(0, l)"
   ]
  },
  {
   "cell_type": "code",
   "execution_count": 32,
   "metadata": {},
   "outputs": [
    {
     "data": {
      "image/png": "[encoded data removed]",
      "text/latex": [
       "$\\displaystyle 476.19047619047615$"
      ],
      "text/plain": [
       "476.19047619047615"
      ]
     },
     "execution_count": 32,
     "metadata": {},
     "output_type": "execute_result"
    }
   ],
   "source": [
    "# c) Exponential\n",
    "k = 1000/2.1\n",
    "k"
   ]
  },
  {
   "cell_type": "code",
   "execution_count": 33,
   "metadata": {},
   "outputs": [
    {
     "name": "stdout",
     "output_type": "stream",
     "text": [
      "0.5672245624268841\n",
      "0.5672245624268841\n"
     ]
    }
   ],
   "source": [
    "print(stats.expon.sf(270, 0, k))\n",
    "l = 2.1/1000*270\n",
    "print(poisson.pmf(0, l))"
   ]
  },
  {
   "cell_type": "markdown",
   "metadata": {},
   "source": [
    "Assignment 4\n",
    "=="
   ]
  },
  {
   "cell_type": "code",
   "execution_count": 35,
   "metadata": {},
   "outputs": [
    {
     "data": {
      "text/html": [
       "<div>\n",
       "<style scoped>\n",
       "    .dataframe tbody tr th:only-of-type {\n",
       "        vertical-align: middle;\n",
       "    }\n",
       "\n",
       "    .dataframe tbody tr th {\n",
       "        vertical-align: top;\n",
       "    }\n",
       "\n",
       "    .dataframe thead th {\n",
       "        text-align: right;\n",
       "    }\n",
       "</style>\n",
       "<table border=\"1\" class=\"dataframe\">\n",
       "  <thead>\n",
       "    <tr style=\"text-align: right;\">\n",
       "      <th></th>\n",
       "      <th>Before</th>\n",
       "      <th>After</th>\n",
       "      <th>Difference</th>\n",
       "    </tr>\n",
       "  </thead>\n",
       "  <tbody>\n",
       "    <tr>\n",
       "      <th>0</th>\n",
       "      <td>30.5</td>\n",
       "      <td>23.0</td>\n",
       "      <td>7.5</td>\n",
       "    </tr>\n",
       "    <tr>\n",
       "      <th>1</th>\n",
       "      <td>18.5</td>\n",
       "      <td>21.0</td>\n",
       "      <td>-2.5</td>\n",
       "    </tr>\n",
       "    <tr>\n",
       "      <th>2</th>\n",
       "      <td>24.5</td>\n",
       "      <td>22.0</td>\n",
       "      <td>2.5</td>\n",
       "    </tr>\n",
       "    <tr>\n",
       "      <th>3</th>\n",
       "      <td>32.0</td>\n",
       "      <td>28.5</td>\n",
       "      <td>3.5</td>\n",
       "    </tr>\n",
       "    <tr>\n",
       "      <th>4</th>\n",
       "      <td>16.0</td>\n",
       "      <td>14.5</td>\n",
       "      <td>1.5</td>\n",
       "    </tr>\n",
       "    <tr>\n",
       "      <th>5</th>\n",
       "      <td>15.0</td>\n",
       "      <td>15.5</td>\n",
       "      <td>-0.5</td>\n",
       "    </tr>\n",
       "    <tr>\n",
       "      <th>6</th>\n",
       "      <td>23.5</td>\n",
       "      <td>24.5</td>\n",
       "      <td>-1.0</td>\n",
       "    </tr>\n",
       "    <tr>\n",
       "      <th>7</th>\n",
       "      <td>25.5</td>\n",
       "      <td>21.0</td>\n",
       "      <td>4.5</td>\n",
       "    </tr>\n",
       "    <tr>\n",
       "      <th>8</th>\n",
       "      <td>28.0</td>\n",
       "      <td>23.5</td>\n",
       "      <td>4.5</td>\n",
       "    </tr>\n",
       "    <tr>\n",
       "      <th>9</th>\n",
       "      <td>18.0</td>\n",
       "      <td>16.5</td>\n",
       "      <td>1.5</td>\n",
       "    </tr>\n",
       "  </tbody>\n",
       "</table>\n",
       "</div>"
      ],
      "text/plain": [
       "   Before  After  Difference\n",
       "0    30.5   23.0         7.5\n",
       "1    18.5   21.0        -2.5\n",
       "2    24.5   22.0         2.5\n",
       "3    32.0   28.5         3.5\n",
       "4    16.0   14.5         1.5\n",
       "5    15.0   15.5        -0.5\n",
       "6    23.5   24.5        -1.0\n",
       "7    25.5   21.0         4.5\n",
       "8    28.0   23.5         4.5\n",
       "9    18.0   16.5         1.5"
      ]
     },
     "metadata": {},
     "output_type": "display_data"
    }
   ],
   "source": [
    "# a)\n",
    "Before = [30.5, 18.5, 24.5, 32, 16, 15, 23.5, 25.5, 28, 18]\n",
    "After = [23, 21, 22, 28.5, 14.5, 15.5, 24.5, 21, 23.5, 16.5]\n",
    "\n",
    "df = pd.DataFrame({'Before': Before,\n",
    "                'After': After})\n",
    "\n",
    "df['Difference'] = df['Before']- df['After']\n",
    "display(df)\n",
    "meandiff = np.mean(df['Difference'])"
   ]
  },
  {
   "cell_type": "code",
   "execution_count": 62,
   "metadata": {},
   "outputs": [
    {
     "data": {
      "image/png": "[encoded data removed]",
      "text/plain": [
       "<Figure size 432x288 with 1 Axes>"
      ]
     },
     "metadata": {},
     "output_type": "display_data"
    },
    {
     "name": "stdout",
     "output_type": "stream",
     "text": [
      "Skewness = 0.1328\n",
      "Kurtosis = -0.7163\n"
     ]
    },
    {
     "data": {
      "image/png": "[encoded data removed]",
      "text/plain": [
       "<Figure size 432x288 with 1 Axes>"
      ]
     },
     "metadata": {},
     "output_type": "display_data"
    }
   ],
   "source": [
    "# We check for normality of the differences\n",
    "\n",
    "stats.probplot(df['Difference'], plot=plt)\n",
    "plt.ylabel('Difference in Labor-hours')\n",
    "plt.show()\n",
    "print('Skewness = ' + repr(round(stats.skew(df['Difference']),4)))\n",
    "print('Kurtosis = ' + repr(round(stats.kurtosis(df['Difference']),4)))\n",
    "fig, ax = plt.subplots()\n",
    "df['Difference'].plot.kde(ax=ax, legend=False, title='Distribution');"
   ]
  },
  {
   "cell_type": "code",
   "execution_count": 63,
   "metadata": {},
   "outputs": [
    {
     "data": {
      "image/png": "[encoded data removed]",
      "text/plain": [
       "<Figure size 432x288 with 1 Axes>"
      ]
     },
     "metadata": {},
     "output_type": "display_data"
    }
   ],
   "source": [
    "# Plotting\n",
    "n1 = len(df['Before'])\n",
    "SE1 = stats.sem(df['Before'])\n",
    "mean1 = np.mean(df['Before'])\n",
    "\n",
    "n2 = len(df['After'])\n",
    "SE2 = stats.sem(df['After'])\n",
    "mean2 = np.mean(df['After'])\n",
    "\n",
    "x1 = np.linspace(mean1-4*SE1, mean1+4*SE1, 1000)\n",
    "x2 = np.linspace(mean2-4*SE2, mean2+4*SE2, 1000)\n",
    "\n",
    "y1 = stats.t.pdf(x1, n1-1, mean1, SE1)\n",
    "y2 = stats.t.pdf(x2, n2-1, mean2, SE2)\n",
    "\n",
    "plt.plot(x1,y1, color='red')\n",
    "plt.plot(x2,y2, color='blue')\n",
    "\n",
    "plt.show()"
   ]
  },
  {
   "cell_type": "code",
   "execution_count": 64,
   "metadata": {},
   "outputs": [],
   "source": [
    "val = stats.ttest_rel(df['Before'], df['After'])"
   ]
  },
  {
   "cell_type": "code",
   "execution_count": 73,
   "metadata": {},
   "outputs": [
    {
     "data": {
      "image/png": "[encoded data removed]",
      "text/latex": [
       "$$1.71$$"
      ],
      "text/plain": [
       "1.71"
      ]
     },
     "execution_count": 73,
     "metadata": {},
     "output_type": "execute_result"
    }
   ],
   "source": [
    "alpha = 0.05\n",
    "stat = abs(round(val[0],2))\n",
    "pvalue = round(val[1], 4)\n",
    "crit = abs(round(stats.t.ppf(alpha,n1-1),2))\n",
    "stat"
   ]
  },
  {
   "cell_type": "code",
   "execution_count": 66,
   "metadata": {},
   "outputs": [
    {
     "name": "stdout",
     "output_type": "stream",
     "text": [
      "Reject since 0.0497 < 0.05\n"
     ]
    }
   ],
   "source": [
    "# a)\n",
    "if pvalue < alpha:\n",
    "    print(\"Reject since \" + repr(pvalue) + ' < ' + repr(alpha))\n",
    "else:\n",
    "    print(\"Fail to reject since \" + repr(pvalue) + ' > ' + repr(alpha))"
   ]
  },
  {
   "cell_type": "code",
   "execution_count": 47,
   "metadata": {},
   "outputs": [
    {
     "name": "stdout",
     "output_type": "stream",
     "text": [
      "0.04969103060398794\n"
     ]
    }
   ],
   "source": [
    "prob = stats.t.cdf(df['Difference'].mean(), df=10-1, loc=0, scale=df['Difference'].std(ddof=1)/np.sqrt(10))\n",
    "pval = 2*min(prob, 1-prob)\n",
    "print(pval)"
   ]
  },
  {
   "cell_type": "code",
   "execution_count": 67,
   "metadata": {},
   "outputs": [],
   "source": [
    "# b) same p-value different alpha, so no."
   ]
  },
  {
   "cell_type": "markdown",
   "metadata": {},
   "source": [
    "Assignment 5\n",
    "=="
   ]
  },
  {
   "cell_type": "code",
   "execution_count": 51,
   "metadata": {},
   "outputs": [],
   "source": [
    "alg = 98\n",
    "algs = 92\n",
    "nonalgs = 136\n",
    "nonalg = 254-alg\n"
   ]
  },
  {
   "cell_type": "code",
   "execution_count": 52,
   "metadata": {},
   "outputs": [
    {
     "name": "stdout",
     "output_type": "stream",
     "text": [
      "Reject since 0.0432 < 0.05\n"
     ]
    }
   ],
   "source": [
    "# a)\n",
    "# Since we have two proportions, we can use test of difference between proportions:\n",
    "\n",
    "val = sm.stats.proportions_ztest([algs, nonalgs], [alg, nonalg], value = None, alternative = 'larger')\n",
    "stat = abs(round(val[0],2))\n",
    "pvalue = round(val[1],4)\n",
    "\n",
    "alpha = 0.05\n",
    "crit = stats.norm.isf(alpha/2)\n",
    "\n",
    "if pvalue < alpha:\n",
    "    print(\"Reject since \" + repr(pvalue) + ' < ' + repr(alpha))\n",
    "else:\n",
    "    print(\"Fail to reject since \" + repr(pvalue) + ' > ' + repr(alpha))"
   ]
  },
  {
   "cell_type": "code",
   "execution_count": 66,
   "metadata": {},
   "outputs": [
    {
     "name": "stdout",
     "output_type": "stream",
     "text": [
      "0.031755259992288794\n",
      "0.048038201662112916\n",
      "0.890509565425201\n",
      "0.9387755102040817\n",
      "0.8717948717948718\n"
     ]
    }
   ],
   "source": [
    "palg = algs/alg\n",
    "pnon = nonalgs/nonalg\n",
    "\n",
    "print(stats.norm.sf(palg-pnon, loc=0, scale=np.sqrt(pnon*(1-pnon)/nonalg+palg*(1-palg)/alg)))\n",
    "\n",
    "ppool = (palg*(alg-1)+pnon*(nonalg-1))/254\n",
    "print(stats.norm.sf(palg-pnon, loc=0, scale=np.sqrt(ppool*(1-ppool)*(1/alg+1/nonalg))))\n",
    "print(ppool)\n",
    "print(palg)\n",
    "print(pnon)"
   ]
  },
  {
   "cell_type": "code",
   "execution_count": 74,
   "metadata": {},
   "outputs": [],
   "source": [
    "# b) see other answers elsewhere"
   ]
  },
  {
   "cell_type": "markdown",
   "metadata": {},
   "source": [
    "Assignment 6\n",
    "=="
   ]
  },
  {
   "cell_type": "code",
   "execution_count": 5,
   "metadata": {},
   "outputs": [],
   "source": [
    "df = pd.read_excel('assignment6_data.XLSX')"
   ]
  },
  {
   "cell_type": "code",
   "execution_count": 3,
   "metadata": {},
   "outputs": [
    {
     "data": {
      "image/png": "[encoded data removed]",
      "text/plain": [
       "<Figure size 432x288 with 1 Axes>"
      ]
     },
     "metadata": {
      "needs_background": "light"
     },
     "output_type": "display_data"
    }
   ],
   "source": [
    "X = df['Unnamed: 2']\n",
    "y = df['Unnamed: 1']\n",
    "plt.scatter(X, y,  color='black');"
   ]
  },
  {
   "cell_type": "code",
   "execution_count": 91,
   "metadata": {},
   "outputs": [
    {
     "data": {
      "text/html": [
       "<table class=\"simpletable\">\n",
       "<caption>OLS Regression Results</caption>\n",
       "<tr>\n",
       "  <th>Dep. Variable:</th>       <td>Unnamed: 1</td>    <th>  R-squared:         </th> <td>   0.669</td>\n",
       "</tr>\n",
       "<tr>\n",
       "  <th>Model:</th>                   <td>OLS</td>       <th>  Adj. R-squared:    </th> <td>   0.658</td>\n",
       "</tr>\n",
       "<tr>\n",
       "  <th>Method:</th>             <td>Least Squares</td>  <th>  F-statistic:       </th> <td>   58.63</td>\n",
       "</tr>\n",
       "<tr>\n",
       "  <th>Date:</th>             <td>Tue, 27 Nov 2018</td> <th>  Prob (F-statistic):</th> <td>1.92e-08</td>\n",
       "</tr>\n",
       "<tr>\n",
       "  <th>Time:</th>                 <td>14:45:20</td>     <th>  Log-Likelihood:    </th> <td> -107.14</td>\n",
       "</tr>\n",
       "<tr>\n",
       "  <th>No. Observations:</th>      <td>    31</td>      <th>  AIC:               </th> <td>   218.3</td>\n",
       "</tr>\n",
       "<tr>\n",
       "  <th>Df Residuals:</th>          <td>    29</td>      <th>  BIC:               </th> <td>   221.1</td>\n",
       "</tr>\n",
       "<tr>\n",
       "  <th>Df Model:</th>              <td>     1</td>      <th>                     </th>     <td> </td>   \n",
       "</tr>\n",
       "<tr>\n",
       "  <th>Covariance Type:</th>      <td>nonrobust</td>    <th>                     </th>     <td> </td>   \n",
       "</tr>\n",
       "</table>\n",
       "<table class=\"simpletable\">\n",
       "<tr>\n",
       "       <td></td>         <th>coef</th>     <th>std err</th>      <th>t</th>      <th>P>|t|</th>  <th>[0.025</th>    <th>0.975]</th>  \n",
       "</tr>\n",
       "<tr>\n",
       "  <th>const</th>      <td>    4.6291</td> <td>    2.652</td> <td>    1.745</td> <td> 0.092</td> <td>   -0.796</td> <td>   10.054</td>\n",
       "</tr>\n",
       "<tr>\n",
       "  <th>Unnamed: 2</th> <td>    0.0019</td> <td>    0.000</td> <td>    7.657</td> <td> 0.000</td> <td>    0.001</td> <td>    0.002</td>\n",
       "</tr>\n",
       "</table>\n",
       "<table class=\"simpletable\">\n",
       "<tr>\n",
       "  <th>Omnibus:</th>       <td> 3.065</td> <th>  Durbin-Watson:     </th> <td>   1.919</td>\n",
       "</tr>\n",
       "<tr>\n",
       "  <th>Prob(Omnibus):</th> <td> 0.216</td> <th>  Jarque-Bera (JB):  </th> <td>   2.010</td>\n",
       "</tr>\n",
       "<tr>\n",
       "  <th>Skew:</th>          <td> 0.000</td> <th>  Prob(JB):          </th> <td>   0.366</td>\n",
       "</tr>\n",
       "<tr>\n",
       "  <th>Kurtosis:</th>      <td> 4.248</td> <th>  Cond. No.          </th> <td>1.95e+04</td>\n",
       "</tr>\n",
       "</table><br/><br/>Warnings:<br/>[1] Standard Errors assume that the covariance matrix of the errors is correctly specified.<br/>[2] The condition number is large, 1.95e+04. This might indicate that there are<br/>strong multicollinearity or other numerical problems."
      ],
      "text/plain": [
       "<class 'statsmodels.iolib.summary.Summary'>\n",
       "\"\"\"\n",
       "                            OLS Regression Results                            \n",
       "==============================================================================\n",
       "Dep. Variable:             Unnamed: 1   R-squared:                       0.669\n",
       "Model:                            OLS   Adj. R-squared:                  0.658\n",
       "Method:                 Least Squares   F-statistic:                     58.63\n",
       "Date:                Tue, 27 Nov 2018   Prob (F-statistic):           1.92e-08\n",
       "Time:                        14:45:20   Log-Likelihood:                -107.14\n",
       "No. Observations:                  31   AIC:                             218.3\n",
       "Df Residuals:                      29   BIC:                             221.1\n",
       "Df Model:                           1                                         \n",
       "Covariance Type:            nonrobust                                         \n",
       "==============================================================================\n",
       "                 coef    std err          t      P>|t|      [0.025      0.975]\n",
       "------------------------------------------------------------------------------\n",
       "const          4.6291      2.652      1.745      0.092      -0.796      10.054\n",
       "Unnamed: 2     0.0019      0.000      7.657      0.000       0.001       0.002\n",
       "==============================================================================\n",
       "Omnibus:                        3.065   Durbin-Watson:                   1.919\n",
       "Prob(Omnibus):                  0.216   Jarque-Bera (JB):                2.010\n",
       "Skew:                           0.000   Prob(JB):                        0.366\n",
       "Kurtosis:                       4.248   Cond. No.                     1.95e+04\n",
       "==============================================================================\n",
       "\n",
       "Warnings:\n",
       "[1] Standard Errors assume that the covariance matrix of the errors is correctly specified.\n",
       "[2] The condition number is large, 1.95e+04. This might indicate that there are\n",
       "strong multicollinearity or other numerical problems.\n",
       "\"\"\""
      ]
     },
     "execution_count": 91,
     "metadata": {},
     "output_type": "execute_result"
    }
   ],
   "source": [
    "X1 = sm.add_constant(X)\n",
    "model = sm.OLS(y, X1).fit()\n",
    "res = model.resid\n",
    "yhat = model.fittedvalues\n",
    "model.summary()"
   ]
  },
  {
   "cell_type": "code",
   "execution_count": 92,
   "metadata": {},
   "outputs": [
    {
     "data": {
      "image/png": "[encoded data removed]",
      "text/plain": [
       "<Figure size 432x288 with 1 Axes>"
      ]
     },
     "metadata": {},
     "output_type": "display_data"
    }
   ],
   "source": [
    "plt.scatter(X, y,  color='black')\n",
    "plt.plot(X, yhat, color='red', linewidth=1);"
   ]
  },
  {
   "cell_type": "code",
   "execution_count": 93,
   "metadata": {},
   "outputs": [
    {
     "data": {
      "image/png": "[encoded data removed]",
      "text/plain": [
       "<Figure size 432x288 with 1 Axes>"
      ]
     },
     "metadata": {},
     "output_type": "display_data"
    }
   ],
   "source": [
    "plt.scatter(X, res)\n",
    "plt.axhline(y=0, color='k', linewidth=1)\n",
    "plt.show()"
   ]
  },
  {
   "cell_type": "code",
   "execution_count": 94,
   "metadata": {},
   "outputs": [
    {
     "data": {
      "image/png": "[encoded data removed]",
      "text/plain": [
       "<Figure size 432x288 with 1 Axes>"
      ]
     },
     "metadata": {},
     "output_type": "display_data"
    },
    {
     "name": "stdout",
     "output_type": "stream",
     "text": [
      "Skewness = 0.0004\n",
      "Kurtosis = 1.2476\n"
     ]
    },
    {
     "data": {
      "image/png": "[encoded data removed]",
      "text/plain": [
       "<Figure size 432x288 with 1 Axes>"
      ]
     },
     "metadata": {},
     "output_type": "display_data"
    }
   ],
   "source": [
    "stats.probplot(res, plot=plt)\n",
    "plt.ylabel('Residuals')\n",
    "plt.show()\n",
    "print('Skewness = ' + repr(round(stats.skew(res),4)))\n",
    "print('Kurtosis = ' + repr(round(stats.kurtosis(res),4)))\n",
    "df = pd.DataFrame(res)\n",
    "fig, ax = plt.subplots()\n",
    "df.plot.kde(ax=ax, legend=False, title='Distribution');"
   ]
  }
 ],
 "metadata": {
  "kernelspec": {
   "display_name": "Python 3",
   "language": "python",
   "name": "python3"
  },
  "language_info": {
   "codemirror_mode": {
    "name": "ipython",
    "version": 3
   },
   "file_extension": ".py",
   "mimetype": "text/x-python",
   "name": "python",
   "nbconvert_exporter": "python",
   "pygments_lexer": "ipython3",
   "version": "3.7.4"
  }
 },
 "nbformat": 4,
 "nbformat_minor": 2
}
