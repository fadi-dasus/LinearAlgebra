{
 "cells": [
  {
   "cell_type": "code",
   "execution_count": 1,
   "metadata": {},
   "outputs": [],
   "source": [
    "import numpy as np\n",
    "from scipy import stats\n",
    "import matplotlib.pyplot as plt\n",
    "import pandas as pd"
   ]
  },
  {
   "cell_type": "markdown",
   "metadata": {},
   "source": [
    "# Assignment 1"
   ]
  },
  {
   "cell_type": "code",
   "execution_count": 2,
   "metadata": {},
   "outputs": [
    {
     "name": "stdout",
     "output_type": "stream",
     "text": [
      "coffe machine 1 sample mean 249.365\n",
      "coffe machine 2 sample mean 250.4466666666667\n"
     ]
    }
   ],
   "source": [
    "coff1 = np.array([252.1, 250.7, 250.6, 250.2, 248.9, 252.5, 250.3, 252.2, 251.7, 249.9, 246.0, 247.5, 248.9, 246.9, 250.2, 247.6, 249.6, 250.3, 245.2, 246. ])\n",
    "coff2 = np.array([251.1, 253.1, 252.2, 251.5, 249.2, 252.7, 250.0, 249.7, 250.0, 253.9, 247.5, 250.0, 246.9, 247.0, 251.9])\n",
    "#a\n",
    "print('coffe machine 1 sample mean', coff1.mean())\n",
    "print('coffe machine 2 sample mean', coff2.mean())"
   ]
  },
  {
   "cell_type": "code",
   "execution_count": 3,
   "metadata": {},
   "outputs": [
    {
     "name": "stdout",
     "output_type": "stream",
     "text": [
      "sample mean difference =  1.0816666666666777\n"
     ]
    }
   ],
   "source": [
    "#b\n",
    "print('sample mean difference = ', coff2.mean()-coff1.mean())"
   ]
  },
  {
   "cell_type": "code",
   "execution_count": 4,
   "metadata": {},
   "outputs": [
    {
     "name": "stdout",
     "output_type": "stream",
     "text": [
      "H0: Diff = 0\n",
      "H1: Diff != 0\n"
     ]
    }
   ],
   "source": [
    "#c\n",
    "print('H0: Diff = 0\\nH1: Diff != 0')"
   ]
  },
  {
   "cell_type": "code",
   "execution_count": 5,
   "metadata": {},
   "outputs": [
    {
     "name": "stdout",
     "output_type": "stream",
     "text": [
      "It's unpaired as a observation from one machine cannot be paired with a observation from the other machine. Can also be seen since, the samplesize are different in the two samples. \n",
      "As the standard deviation is given a z-test should be performed. \n"
     ]
    }
   ],
   "source": [
    "#d\n",
    "print('It\\'s unpaired as a observation from one machine cannot be paired with a observation from the other machine. Can also be seen since, the samplesize are different in the two samples. \\nAs the standard deviation is given a z-test should be performed. ')"
   ]
  },
  {
   "cell_type": "code",
   "execution_count": 6,
   "metadata": {},
   "outputs": [
    {
     "name": "stdout",
     "output_type": "stream",
     "text": [
      "z-score =  1.2667182946872089\n",
      "p-value =  0.20525603605613363\n"
     ]
    }
   ],
   "source": [
    "#e\n",
    "z = (coff2.mean()-coff1.mean())/np.sqrt(2.5**2/20+2.5**2/15)\n",
    "print('z-score = ',z)\n",
    "prob = stats.norm.sf(z)\n",
    "print('p-value = ', 2*min(prob,1-prob))"
   ]
  },
  {
   "cell_type": "code",
   "execution_count": 7,
   "metadata": {},
   "outputs": [
    {
     "name": "stdout",
     "output_type": "stream",
     "text": [
      "No, as the p-value is grater than 0.05\n"
     ]
    }
   ],
   "source": [
    "#f\n",
    "print(\"No, as the p-value is grater than 0.05\")"
   ]
  },
  {
   "cell_type": "code",
   "execution_count": 8,
   "metadata": {},
   "outputs": [
    {
     "name": "stdout",
     "output_type": "stream",
     "text": [
      "H0: machine 1 std = 2.5\n",
      "H1: machine 1 std != 2.5\n"
     ]
    }
   ],
   "source": [
    "#g\n",
    "print(\"H0: machine 1 std = 2.5\")\n",
    "print(\"H1: machine 1 std != 2.5\")"
   ]
  },
  {
   "cell_type": "code",
   "execution_count": 14,
   "metadata": {},
   "outputs": [
    {
     "name": "stdout",
     "output_type": "stream",
     "text": [
      "2.184701593497742\n",
      "0.4935791203673972\n",
      "As the p-value is greater than 0.05 we cannot reject H0\n"
     ]
    }
   ],
   "source": [
    "#h\n",
    "df=len(coff1)-1\n",
    "print(coff1.std(ddof=1))\n",
    "prob = stats.chi2.cdf(coff1.var(ddof=1), df=df, scale=2.5**2/df)\n",
    "print(2*min(prob, 1-prob)) \n",
    "print(\"As the p-value is greater than 0.05 we cannot reject H0\")"
   ]
  },
  {
   "cell_type": "markdown",
   "metadata": {},
   "source": [
    "# Assignment 2"
   ]
  },
  {
   "cell_type": "code",
   "execution_count": 3,
   "metadata": {},
   "outputs": [
    {
     "name": "stdout",
     "output_type": "stream",
     "text": [
      "P_value =  0.416669090968127\n",
      "As the p-value is greater than 0.05 we cannot reject the null-hypothesis. The tires might have the same average kilometer range. \n",
      "P_value =  0.416669090968127\n",
      "P_value =  0.3986926783001765\n"
     ]
    }
   ],
   "source": [
    "#a\n",
    "t=(39800-37900)/np.sqrt(5100**2/12+5900**2/12)\n",
    "prob = stats.t.cdf(t, df=11)\n",
    "print('P_value = ',2*min(prob,1-prob)) #P_value =  0.416669090968127\n",
    "print(\"As the p-value is greater than 0.05 we cannot reject the null-hypothesis. The tires might have the same average kilometer range. \")\n",
    "\n",
    "\n",
    "# if you by mistake had used the z-test instead, the p-value had not changed that much. \n",
    "z=(39800-37900)/np.sqrt(5100**2/12+5900**2/12)\n",
    "prob = stats.norm.cdf(z)\n",
    "print('P_value = ',2*min(prob,1-prob)) #P_value =  0.3986926783001765"
   ]
  },
  {
   "cell_type": "code",
   "execution_count": 4,
   "metadata": {},
   "outputs": [
    {
     "name": "stdout",
     "output_type": "stream",
     "text": [
      "p_value =  0.637202139740855\n",
      "no it cannot be rejected as the p_value>0.05\n"
     ]
    }
   ],
   "source": [
    "#b\n",
    "prob = stats.f.sf(5900**2/5100**2,  dfn=11, dfd=11)\n",
    "print(\"p_value = \", prob*2) #0.637\n",
    "print(\"no it cannot be rejected as the p_value>0.05\") "
   ]
  },
  {
   "cell_type": "markdown",
   "metadata": {},
   "source": [
    "# Assignment 3"
   ]
  },
  {
   "cell_type": "code",
   "execution_count": 11,
   "metadata": {},
   "outputs": [
    {
     "name": "stdout",
     "output_type": "stream",
     "text": [
      "Machine 1, sample mean =  133.0\n",
      "Machine 2, sample mean =  127.16666666666667\n",
      "Machine 1, standard deviation =  15.462564764323838\n",
      "Machine 2, standard deviation =  16.81359478805677\n"
     ]
    }
   ],
   "source": [
    "mac1 = np.array([119, 130, 141, 123, 149, 156, 134, 108, 123, 138, 119, 156])\n",
    "mac2 = np.array([112, 126, 145, 112, 138, 156, 130, 112, 112, 119, 112, 152])\n",
    " \n",
    "#a)\n",
    "print('Machine 1, sample mean = ', mac1.mean())\n",
    "print('Machine 2, sample mean = ', mac2.mean())\n",
    "print('Machine 1, standard deviation = ', mac1.std(ddof=1))\n",
    "print('Machine 2, standard deviation = ', mac2.std(ddof=1))"
   ]
  },
  {
   "cell_type": "code",
   "execution_count": 12,
   "metadata": {},
   "outputs": [
    {
     "name": "stdout",
     "output_type": "stream",
     "text": [
      "[ 7  4 -4 11 11  0  4 -4 11 19  7  4]\n",
      "p_value =  0.011731236155998916\n"
     ]
    }
   ],
   "source": [
    "#b)\n",
    "# H0: your blood pressure is independent of what machine you use. \n",
    "# H1: its not independet. \n",
    "# A paired test should be used, as each observation is paired with another observation. Not many factor disturbs the experiment\n",
    "diff = mac1-mac2\n",
    "print(diff)\n",
    " \n",
    "t=diff.mean()/(diff.std(ddof=1)/np.sqrt(len(diff)))\n",
    "prob = stats.t.sf(t, df=len(diff)-1)\n",
    "print('p_value = ',2*min(prob,1-prob))"
   ]
  },
  {
   "cell_type": "code",
   "execution_count": 14,
   "metadata": {},
   "outputs": [
    {
     "name": "stdout",
     "output_type": "stream",
     "text": [
      "It means that given that the two machines has the same average, there is a 11.7% percent chance that we would get a bigger mean difference (more extreme) in hour sample set. \n"
     ]
    }
   ],
   "source": [
    "#c)\n",
    "print('It means that given that the two machines has the same average, there is a 11.7% percent chance that we would get a bigger mean difference (more extreme) in hour sample set. ')\n"
   ]
  },
  {
   "cell_type": "markdown",
   "metadata": {},
   "source": [
    "# Assignment 4"
   ]
  },
  {
   "cell_type": "code",
   "execution_count": 5,
   "metadata": {},
   "outputs": [
    {
     "name": "stdout",
     "output_type": "stream",
     "text": [
      "H0: mean_lifespan_smoker=mean_lifespan_nonsmoker or \n",
      "H0:  mean_lifespan_smoker-mean_lifespan_nonsmoker = 0 \n",
      "\n",
      "H1: mean_lifespan_smoker!=mean_lifespan_nonsmoker\n"
     ]
    }
   ],
   "source": [
    "Nonsmoker = np.array([100, 84, 82, 70, 88, 62, 91, 84, 75, 81]);\n",
    "Smoker    = np.array([45,  84, 54, 67, 89, 53, 85, 81, 62, 74]);\n",
    " \n",
    "#a)\n",
    "print(\"H0: mean_lifespan_smoker=mean_lifespan_nonsmoker or \\nH0:  mean_lifespan_smoker-mean_lifespan_nonsmoker = 0 \\n\\nH1: mean_lifespan_smoker!=mean_lifespan_nonsmoker\")\n",
    " \n",
    "#"
   ]
  },
  {
   "cell_type": "code",
   "execution_count": 8,
   "metadata": {
    "scrolled": true
   },
   "outputs": [
    {
     "name": "stdout",
     "output_type": "stream",
     "text": [
      "The arguments for doing a paired test: The twin pairs are paired together, and as they have similar genes, it might be argued that this eliminate the gene-factor of the lifespan. \n",
      "However, the unpaired testing is the right answer, as many other factors also influence your lifespan (healthy food, exercise, getting hit by a car etc.). \n"
     ]
    }
   ],
   "source": [
    "#b)\n",
    "print(\"The arguments for doing a paired test: The twin pairs are paired together, and as they have similar genes, it might be argued that this eliminate the gene-factor of the lifespan. \")\n",
    "print(\"However, the unpaired testing is the right answer, as many other factors also influence your lifespan (healthy food, exercise, getting hit by a car etc.). \")"
   ]
  },
  {
   "cell_type": "code",
   "execution_count": 6,
   "metadata": {},
   "outputs": [
    {
     "name": "stdout",
     "output_type": "stream",
     "text": [
      "p_value =  0.053883745387762305\n",
      "H0 cannot be rejected, as the p-value>0.05\n"
     ]
    }
   ],
   "source": [
    "#c)\n",
    "t=(Nonsmoker.mean()-Smoker.mean())/(np.sqrt(Nonsmoker.var(ddof=1)/10+Smoker.var(ddof=1)/10))\n",
    "prob = stats.t.cdf(t, df=10+10-2)\n",
    "print('p_value = ', 2*min(prob,1-prob)) # p_value =  0.05388\n",
    "\n",
    "print(\"H0 cannot be rejected, as the p-value>0.05\")"
   ]
  },
  {
   "cell_type": "code",
   "execution_count": 8,
   "metadata": {},
   "outputs": [
    {
     "name": "stdout",
     "output_type": "stream",
     "text": [
      "difference in the lifespan of the twin pairs:  [55  0 28  3 -1  9  6  3 13  7]\n",
      "p_value =  0.04962958783935001\n",
      "H0 can be rejected, as the p-value<0.05\n"
     ]
    }
   ],
   "source": [
    "#d)\n",
    "diff=Nonsmoker-Smoker\n",
    "print('difference in the lifespan of the twin pairs: ', diff)\n",
    " \n",
    "t=diff.mean()/(diff.std(ddof=1)/np.sqrt(10))\n",
    "prob = stats.t.cdf(t, df=10-1)\n",
    "print('p_value = ', 2*min(prob,1-prob)) #p_value =  0.0496\n",
    "print(\"H0 can be rejected, as the p-value<0.05\")"
   ]
  },
  {
   "cell_type": "markdown",
   "metadata": {},
   "source": [
    "# Assignment 5"
   ]
  },
  {
   "cell_type": "code",
   "execution_count": 21,
   "metadata": {},
   "outputs": [
    {
     "name": "stdout",
     "output_type": "stream",
     "text": [
      "H0: The mean difference in height =0\n",
      "H1: The mean difference in height !=0\n"
     ]
    }
   ],
   "source": [
    "#a)\n",
    "print(\"H0: The mean difference in height =0\")\n",
    "print(\"H1: The mean difference in height !=0\")"
   ]
  },
  {
   "cell_type": "code",
   "execution_count": 22,
   "metadata": {},
   "outputs": [
    {
     "name": "stdout",
     "output_type": "stream",
     "text": [
      "Unpaired, as the number of observations in each sample is difference. A t-test as the variances are estimated. \n"
     ]
    }
   ],
   "source": [
    "#b)\n",
    "print(\"Unpaired, as the number of observations in each sample is difference. A t-test as the variances are estimated. \")"
   ]
  },
  {
   "cell_type": "code",
   "execution_count": 24,
   "metadata": {},
   "outputs": [
    {
     "name": "stdout",
     "output_type": "stream",
     "text": [
      "average differnce in height =  0.1  m\n"
     ]
    }
   ],
   "source": [
    "#c)\n",
    "print('average differnce in height = ', round(1.78-1.68,3), ' m')"
   ]
  },
  {
   "cell_type": "code",
   "execution_count": 26,
   "metadata": {
    "scrolled": true
   },
   "outputs": [
    {
     "name": "stdout",
     "output_type": "stream",
     "text": [
      "p-value =  0.344276150819951\n",
      "p-value =  0.344276150819951\n",
      "As the p-value> significance level ( 0.344>0.05), we cannot reject the null hypothesis. \n",
      "Males and females might have the same height. \n"
     ]
    }
   ],
   "source": [
    "#d)\n",
    "t=(1.78-1.68)/np.sqrt(0.1/19+0.2/35)\n",
    "prob = stats.t.cdf(t, df=19+35-2)\n",
    "print('p-value = ', 2*min(prob,1-prob)) #p-value =  0.344\n",
    "# could also be calculated this way:\n",
    "prob = stats.t.cdf(1.78-1.68, df=19+35-2, loc=0, scale=np.sqrt(0.1/19+0.2/35))\n",
    "print('p-value = ', 2*min(prob,1-prob))#p-value =  0.344\n",
    "print('As the p-value> significance level ( 0.344>0.05), we cannot reject the null hypothesis. \\nMales and females might have the same height. ')\n"
   ]
  },
  {
   "cell_type": "code",
   "execution_count": 28,
   "metadata": {},
   "outputs": [
    {
     "name": "stdout",
     "output_type": "stream",
     "text": [
      "The height difference between men and woman is between  -0.11024299998904724 m and  0.31024299998904736 m with 95% certainty\n"
     ]
    }
   ],
   "source": [
    "#e)\n",
    "diff_low = stats.t.ppf(0.025,  df=19+35-2,loc=1.78-1.68, scale=np.sqrt(0.1/19+0.2/35))\n",
    " \n",
    "diff_high = stats.t.ppf(0.975, loc=1.78-1.68, df=19+35-2,  scale=np.sqrt(0.1/19+0.2/35))\n",
    "print('The height difference between men and woman is between ', diff_low, 'm and ', diff_high, 'm with 95% certainty')"
   ]
  },
  {
   "cell_type": "code",
   "execution_count": 29,
   "metadata": {},
   "outputs": [
    {
     "name": "stdout",
     "output_type": "stream",
     "text": [
      "H0: men var = women std\n",
      "H1: men var != women std\n"
     ]
    }
   ],
   "source": [
    "#f)\n",
    "print(\"H0: men var = women std\")\n",
    "print(\"H1: men var != women std\")"
   ]
  },
  {
   "cell_type": "code",
   "execution_count": 30,
   "metadata": {},
   "outputs": [
    {
     "name": "stdout",
     "output_type": "stream",
     "text": [
      "p-value =  0.05545821139999085\n",
      "H0 cannot be rejected. \n"
     ]
    }
   ],
   "source": [
    "#g\n",
    "prob = stats.f.sf(0.2/0.1, dfn=35, dfd=19)\n",
    "print(\"p-value = \", prob)\n",
    "print(\"H0 cannot be rejected. \")"
   ]
  },
  {
   "cell_type": "markdown",
   "metadata": {},
   "source": [
    "# Assignment 6"
   ]
  },
  {
   "cell_type": "code",
   "execution_count": 31,
   "metadata": {},
   "outputs": [
    {
     "name": "stdout",
     "output_type": "stream",
     "text": [
      "H0: The mean difference in weight =0\n",
      "H1: The mean difference in weight !=0\n"
     ]
    }
   ],
   "source": [
    "before = np.array([140,138,110,154,125,169,142,162,131,122]);\n",
    "after  = np.array([130,121,127,101, 92,170,143,170,134, 85]);\n",
    " \n",
    "#a)\n",
    "print(\"H0: The mean difference in weight =0\")\n",
    "print(\"H1: The mean difference in weight !=0\")"
   ]
  },
  {
   "cell_type": "code",
   "execution_count": 32,
   "metadata": {},
   "outputs": [
    {
     "name": "stdout",
     "output_type": "stream",
     "text": [
      "Paired, as the 2 datapoints belongs to the same patient. \n"
     ]
    }
   ],
   "source": [
    "#b)\n",
    "print(\"Paired, as the 2 datapoints belongs to the same patient. \")"
   ]
  },
  {
   "cell_type": "code",
   "execution_count": 33,
   "metadata": {},
   "outputs": [
    {
     "name": "stdout",
     "output_type": "stream",
     "text": [
      "weight loss during the treatment =  [ 10  17 -17  53  33  -1  -1  -8  -3  37]\n",
      "mean wight loss =  12.0\n",
      "mean wight loss =  12.000000000000014\n"
     ]
    }
   ],
   "source": [
    "#c)\n",
    "diff=before-after\n",
    "print('weight loss during the treatment = ',diff)\n",
    " \n",
    "print('mean wight loss = ', diff.mean())\n",
    "print('mean wight loss = ', before.mean()-after.mean())"
   ]
  },
  {
   "cell_type": "code",
   "execution_count": 34,
   "metadata": {},
   "outputs": [
    {
     "name": "stdout",
     "output_type": "stream",
     "text": [
      "The estimated variance of the difference =  508.8888888888889\n"
     ]
    }
   ],
   "source": [
    "#d)\n",
    "print('The estimated variance of the difference = ', diff.var(ddof=1))"
   ]
  },
  {
   "cell_type": "code",
   "execution_count": 35,
   "metadata": {},
   "outputs": [
    {
     "name": "stdout",
     "output_type": "stream",
     "text": [
      "p-value =  0.12683026892326343\n",
      "p-value =  0.12683026892326343\n",
      "As the p-value> significance level (0.127>0.05), we cannot reject the null hypothesis. \n",
      "The treatment might not work. \n"
     ]
    }
   ],
   "source": [
    "#e)\n",
    "# a paired t-test should be performed as we dont know the true variance:\n",
    "t=diff.mean()/(diff.std(ddof=1)/np.sqrt(len(diff)))\n",
    "prob = stats.t.cdf(t, df=len(diff)-1)\n",
    "print('p-value = ', 2*min(prob,1-prob)) #p-value =  0.12683\n",
    " \n",
    "# could also be calculated this way:\n",
    "prob = stats.t.cdf(diff.mean(), df=len(diff)-1, loc=0, scale=diff.std(ddof=1)/np.sqrt(len(diff)))\n",
    "print('p-value = ', 2*min(prob,1-prob))#p-value =  0.12683\n",
    " \n",
    "print('As the p-value> significance level (0.127>0.05), we cannot reject the null hypothesis. \\nThe treatment might not work. ')"
   ]
  },
  {
   "cell_type": "code",
   "execution_count": 36,
   "metadata": {},
   "outputs": [
    {
     "name": "stdout",
     "output_type": "stream",
     "text": [
      "The true average weight loss du to the treatment is between  -4.137425800689016  and  28.137425800689012  with 95% certainty\n"
     ]
    }
   ],
   "source": [
    "#f)\n",
    "diff_low = stats.t.ppf(0.025, df=len(diff)-1, loc=diff.mean(), scale=diff.std(ddof=1)/np.sqrt(len(diff)))\n",
    "diff_high = stats.t.ppf(0.975, df=len(diff)-1, loc=diff.mean(), scale=diff.std(ddof=1)/np.sqrt(len(diff)))\n",
    "print('The true average weight loss du to the treatment is between ', diff_low, ' and ', diff_high, ' with 95% certainty')\n"
   ]
  },
  {
   "cell_type": "markdown",
   "metadata": {},
   "source": [
    "# Assignment 7"
   ]
  },
  {
   "cell_type": "code",
   "execution_count": 38,
   "metadata": {},
   "outputs": [
    {
     "name": "stdout",
     "output_type": "stream",
     "text": [
      "H0: The mean difference in lifespan is = 0\n",
      "H1: The mean difference in lifespan is !=0\n"
     ]
    }
   ],
   "source": [
    "wild      = np.array([50,43,11,35, 7,62,70,67,25,1])\n",
    "captivity = np.array([ 7, 2, 1, 3,15, 6,14, 1, 5,9])\n",
    "#a)\n",
    "print('H0: The mean difference in lifespan is = 0')\n",
    "print('H1: The mean difference in lifespan is !=0')"
   ]
  },
  {
   "cell_type": "code",
   "execution_count": 39,
   "metadata": {},
   "outputs": [
    {
     "name": "stdout",
     "output_type": "stream",
     "text": [
      "Unpaired, as each observation denote a different whale\n"
     ]
    }
   ],
   "source": [
    "#b)\n",
    "print(\"Unpaired, as each observation denote a different whale\")"
   ]
  },
  {
   "cell_type": "code",
   "execution_count": 40,
   "metadata": {},
   "outputs": [
    {
     "name": "stdout",
     "output_type": "stream",
     "text": [
      "p-value 0.0014636288663021357\n",
      "yes as the p-value is smaller than significance level the hypothesis test can be rejected. \n"
     ]
    }
   ],
   "source": [
    "#c)\n",
    "t=(wild.mean()-captivity.mean())/np.sqrt(wild.var(ddof=1)/10+captivity.var(ddof=1)/10)\n",
    "prob = stats.t.cdf(t, df=10+10-2)\n",
    "print('p-value', 2*min(prob, 1-prob)) #p-value 0.00146\n",
    "print(\"yes as the p-value is smaller than significance level the hypothesis test can be rejected. \")"
   ]
  },
  {
   "cell_type": "code",
   "execution_count": 41,
   "metadata": {},
   "outputs": [
    {
     "name": "stdout",
     "output_type": "stream",
     "text": [
      "13.54769008028066\n",
      "48.05230991971934\n"
     ]
    }
   ],
   "source": [
    "#d)\n",
    "mu_low = stats.t.ppf(0.025,df=10+10-2, loc=wild.mean()-captivity.mean(), scale=np.sqrt(wild.var(ddof=1)/10+captivity.var(ddof=1)/10))\n",
    "mu_high = stats.t.ppf(0.975,df=10+10-2, loc=wild.mean()-captivity.mean(), scale=np.sqrt(wild.var(ddof=1)/10+captivity.var(ddof=1)/10))\n",
    "print(mu_low)\n",
    "print(mu_high) "
   ]
  },
  {
   "cell_type": "markdown",
   "metadata": {},
   "source": [
    "# Assignment 8"
   ]
  },
  {
   "cell_type": "code",
   "execution_count": 3,
   "metadata": {},
   "outputs": [
    {
     "data": {
      "image/png": "[encoded data removed]",
      "text/plain": [
       "<Figure size 432x288 with 1 Axes>"
      ]
     },
     "metadata": {
      "needs_background": "light"
     },
     "output_type": "display_data"
    },
    {
     "data": {
      "image/png": "[encoded data removed]",
      "text/plain": [
       "<Figure size 432x288 with 1 Axes>"
      ]
     },
     "metadata": {
      "needs_background": "light"
     },
     "output_type": "display_data"
    }
   ],
   "source": [
    "df = pd.read_excel('Batteries.xlsx')\n",
    "#a\n",
    "# producer 1: replacing the outlier values with the mean \n",
    "plt.plot(df['Producer 1'],'*') # look for some obious outliers. It seem like their is. \n",
    "\n",
    "median = df['Producer 1'].median() #get the medians. The medians is used for outlier detection\n",
    "std = df['Producer 1'].std() #The std is used for outlier detection. \n",
    "outliers = (df['Producer 1'] - median).abs() > 1.5*std # We call it an outlier when the point is os greater than 1.5 times std away from the standard deviation\n",
    "df['Producer 1'][outliers] = np.nan #replaces the outlier values with a NaN (Not a Number)\n",
    " \n",
    "mean = df['Producer 1'].mean() # Calculates the mean (without the outliers)\n",
    "df['Producer 1'].fillna(mean, inplace=True) # replacing the NaN values with the mean\n",
    " \n",
    "# Producer 2: Replacing the outlier values with the the mean. \n",
    "plt.plot(df['Producer 2'],'*') # look for some obious outliers. It seem like their is. \n",
    " \n",
    "median = df['Producer 2'].median() #get the medians. The medians is used for putlier detection\n",
    "std = df['Producer 2'].std() #The std is used for outlier detection. \n",
    "outliers = (df['Producer 2'] - median).abs() > 1.5*std # We call it an outlier when the point is os greater than 1.5 times std away from the standard deviation\n",
    "df['Producer 2'][outliers] = np.nan #replaces the outlier values with a NaN\n",
    " \n",
    "mean = df['Producer 2'].mean() # Calculates the mean (without the outliers)\n",
    "df['Producer 2'].fillna(mean, inplace=True) # replacing the NaN values with the mean\n",
    "\n",
    "\n",
    "plt.show() # Now plot it when the outliers are replaced with the mean values. \n",
    "plt.plot(df['Producer 1'],'*') \n",
    "plt.plot(df['Producer 2'],'*') \n",
    "plt.show()"
   ]
  },
  {
   "cell_type": "code",
   "execution_count": 44,
   "metadata": {},
   "outputs": [
    {
     "data": {
      "text/plain": [
       "'Mean Producer 1 = 1.9028714285714288'"
      ]
     },
     "metadata": {},
     "output_type": "display_data"
    },
    {
     "data": {
      "text/plain": [
       "'Mean Producer 2 = 2.4776172413793107'"
      ]
     },
     "metadata": {},
     "output_type": "display_data"
    },
    {
     "data": {
      "text/plain": [
       "'Std Producer 1 = 0.9109464918072633'"
      ]
     },
     "metadata": {},
     "output_type": "display_data"
    },
    {
     "data": {
      "text/plain": [
       "'Std Producer 2 = 0.9124060851317759'"
      ]
     },
     "metadata": {},
     "output_type": "display_data"
    },
    {
     "data": {
      "text/plain": [
       "'var Producer 1 = 0.8298235109359604'"
      ]
     },
     "metadata": {},
     "output_type": "display_data"
    },
    {
     "data": {
      "text/plain": [
       "'var Producer 2 = 0.8324848641854935'"
      ]
     },
     "metadata": {},
     "output_type": "display_data"
    },
    {
     "data": {
      "text/plain": [
       "'Quartiles producer 1: '"
      ]
     },
     "metadata": {},
     "output_type": "display_data"
    },
    {
     "data": {
      "text/plain": [
       "'Minimum value = 0.0104'"
      ]
     },
     "metadata": {},
     "output_type": "display_data"
    },
    {
     "data": {
      "text/plain": [
       "'Lower Quartile (25th percentile) = 1.188825'"
      ]
     },
     "metadata": {},
     "output_type": "display_data"
    },
    {
     "data": {
      "text/plain": [
       "'Median (50th percentile) = 1.9195857142857142'"
      ]
     },
     "metadata": {},
     "output_type": "display_data"
    },
    {
     "data": {
      "text/plain": [
       "'Upper Quartile (75th percentile) = 2.407425'"
      ]
     },
     "metadata": {},
     "output_type": "display_data"
    },
    {
     "data": {
      "text/plain": [
       "'Maximum value = 3.637'"
      ]
     },
     "metadata": {},
     "output_type": "display_data"
    },
    {
     "data": {
      "text/plain": [
       "'Quartiles producer 2: '"
      ]
     },
     "metadata": {},
     "output_type": "display_data"
    },
    {
     "data": {
      "text/plain": [
       "'Minimum value = 0.6244'"
      ]
     },
     "metadata": {},
     "output_type": "display_data"
    },
    {
     "data": {
      "text/plain": [
       "'Lower Quartile (25th percentile) = 2.037525'"
      ]
     },
     "metadata": {},
     "output_type": "display_data"
    },
    {
     "data": {
      "text/plain": [
       "'Median (50th percentile) = 2.515808620689655'"
      ]
     },
     "metadata": {},
     "output_type": "display_data"
    },
    {
     "data": {
      "text/plain": [
       "'Upper Quartile (75th percentile) = 3.0069250000000003'"
      ]
     },
     "metadata": {},
     "output_type": "display_data"
    },
    {
     "data": {
      "text/plain": [
       "'Maximum value = 4.4673'"
      ]
     },
     "metadata": {},
     "output_type": "display_data"
    }
   ],
   "source": [
    "#b\n",
    "display(\"Mean Producer 1 = \" + str(df['Producer 1'].mean()), \"Mean Producer 2 = \" + str(df['Producer 2'].mean()))\n",
    "display(\"Std Producer 1 = \" + str(df['Producer 1'].std(ddof=1)), \"Std Producer 2 = \" + str(df['Producer 2'].std(ddof=1)))\n",
    "display(\"var Producer 1 = \" + str(df['Producer 1'].var(ddof=1)), \"var Producer 2 = \" + str(df['Producer 2'].var(ddof=1)))\n",
    " \n",
    "Q = np.percentile(df['Producer 1'], [00,25,50,75,100])\n",
    "display(\"Quartiles producer 1: \", \"Minimum value = \" + str(Q[0]), \"Lower Quartile (25th percentile) = \" + str(Q[1]), \"Median (50th percentile) = \" + str(Q[2]), \"Upper Quartile (75th percentile) = \" + str(Q[3]),\"Maximum value = \" + str(Q[4]))\n",
    " \n",
    "Q = np.percentile(df['Producer 2'], [00,25,50,75,100])\n",
    "display(\"Quartiles producer 2: \", \"Minimum value = \" + str(Q[0]), \"Lower Quartile (25th percentile) = \" + str(Q[1]), \"Median (50th percentile) = \" + str(Q[2]), \"Upper Quartile (75th percentile) = \" + str(Q[3]),\"Maximum value = \" + str(Q[4]))"
   ]
  },
  {
   "cell_type": "code",
   "execution_count": 23,
   "metadata": {},
   "outputs": [
    {
     "data": {
      "text/plain": [
       "'Mean of producer 1, 95% confidence interval is [1.5627184182723344, 2.243024438870523]'"
      ]
     },
     "metadata": {},
     "output_type": "display_data"
    },
    {
     "data": {
      "text/plain": [
       "'Mean of producer 2, 95% confidence interval is [2.136919209975672, 2.8183152727829492]'"
      ]
     },
     "metadata": {},
     "output_type": "display_data"
    },
    {
     "data": {
      "image/png": "[encoded data removed]",
      "text/plain": [
       "<Figure size 432x288 with 1 Axes>"
      ]
     },
     "metadata": {
      "needs_background": "light"
     },
     "output_type": "display_data"
    }
   ],
   "source": [
    "#c\n",
    "mean1 = df['Producer 1'].mean()\n",
    "stdMean1 = df['Producer 1'].std(ddof=1)/np.sqrt(len(df))\n",
    "p1_low = stats.t.ppf(.025, df=len(df)-1, loc=mean1, scale=stdMean1)\n",
    "p1_high= stats.t.ppf(.975, df=len(df)-1, loc=mean1, scale=stdMean1)\n",
    "display(\"Mean of producer 1, 95% confidence interval is [\"+str(p1_low)+\", \"+str(p1_high)+\"]\")\n",
    " \n",
    "mean2 = df['Producer 2'].mean()\n",
    "stdMean2 = df['Producer 2'].std(ddof=1)/np.sqrt(len(df))\n",
    "p2_low = stats.t.ppf(.025, df=len(df)-1, loc=mean2, scale=stdMean2)\n",
    "p2_high= stats.t.ppf(.975, df=len(df)-1, loc=mean2, scale=stdMean2)\n",
    "display(\"Mean of producer 2, 95% confidence interval is [\"+str(p2_low)+\", \"+str(p2_high)+\"]\")\n",
    " \n",
    " \n",
    "plt.figure()\n",
    "x = np.linspace(mean1-4*stdMean1, mean1+4*stdMean1, 1000)\n",
    "y = stats.t.pdf(x,df=len(df)-1, loc=mean1, scale=stdMean1)\n",
    "plt.plot(x,y, color = 'dimgrey')\n",
    " \n",
    "xf = np.linspace(p1_low,p1_high, 1000)\n",
    "plt.fill_between(xf, stats.t.pdf(xf,df=len(df)-1, loc=mean1, scale=stdMean1), color = 'dimgrey', alpha=0.4)\n",
    " \n",
    " \n",
    "x = np.linspace(mean2-4*stdMean2, mean2+4*stdMean2, 1000)\n",
    "y = stats.t.pdf(x,df=len(df)-1, loc=mean2, scale=stdMean2)\n",
    "plt.plot(x,y, color = 'orange')\n",
    " \n",
    "xf = np.linspace(p2_low,p2_high, 1000)\n",
    "plt.fill_between(xf, stats.t.pdf(xf,df=len(df)-1, loc=mean2, scale=stdMean2), color = 'orange', alpha=0.4)\n",
    "plt.show()"
   ]
  },
  {
   "cell_type": "code",
   "execution_count": 26,
   "metadata": {},
   "outputs": [
    {
     "data": {
      "image/png": "[encoded data removed]",
      "text/plain": [
       "<Figure size 432x288 with 1 Axes>"
      ]
     },
     "metadata": {
      "needs_background": "light"
     },
     "output_type": "display_data"
    },
    {
     "data": {
      "image/png": "[encoded data removed]",
      "text/plain": [
       "<Figure size 432x288 with 1 Axes>"
      ]
     },
     "metadata": {
      "needs_background": "light"
     },
     "output_type": "display_data"
    },
    {
     "name": "stdout",
     "output_type": "stream",
     "text": [
      "Producer 1: Skewness = 0.1134\n",
      "Producer 1: Kurtosis = -0.4326\n",
      "Producer 2: Skewness = -0.1821\n",
      "Producer 2: Kurtosis = -0.19\n",
      "yes as the probability plots shows they are normal destributed. And the |skewness| and |kurtosis| is both less than 0.5\n"
     ]
    }
   ],
   "source": [
    "#d\n",
    "fig, ax = plt.subplots()\n",
    "df.plot.kde(ax=ax, legend=False, title='Histogram')\n",
    "df.plot.hist(density=True, ax=ax, legend=False, rwidth=0.9, alpha=0.3)\n",
    " \n",
    "plt.figure()\n",
    "stats.probplot(df[\"Producer 1\"], dist=stats.norm, plot=plt)\n",
    "stats.probplot(df[\"Producer 2\"], dist=stats.norm, plot=plt)\n",
    "plt.show()\n",
    "print('Producer 1: Skewness = ' + repr(round(stats.skew(df[\"Producer 1\"]),4)))\n",
    "print('Producer 1: Kurtosis = ' + repr(round(stats.kurtosis(df[\"Producer 1\"]),4)))\n",
    "print('Producer 2: Skewness = ' + repr(round(stats.skew(df[\"Producer 2\"]),4)))\n",
    "print('Producer 2: Kurtosis = ' + repr(round(stats.kurtosis(df[\"Producer 2\"]),4)))\n",
    "print(\"yes as the probability plots shows they are normal destributed. And the |skewness| and |kurtosis| is both less than 0.5\")"
   ]
  },
  {
   "cell_type": "code",
   "execution_count": 47,
   "metadata": {},
   "outputs": [
    {
     "data": {
      "text/plain": [
       "'Mean difference, 95% confidence interval is [0.10355376599268046, 1.0459378596230833]'"
      ]
     },
     "metadata": {},
     "output_type": "display_data"
    },
    {
     "data": {
      "image/png": "[encoded data removed]",
      "text/plain": [
       "<Figure size 432x288 with 1 Axes>"
      ]
     },
     "metadata": {
      "needs_background": "light"
     },
     "output_type": "display_data"
    }
   ],
   "source": [
    "#e\n",
    "# is it a paired test? No\n",
    "meanDiff = mean2-mean1\n",
    "stdMeanDiff = np.sqrt(df['Producer 1'].var(ddof=1)/len(df)+df['Producer 2'].var(ddof=1)/len(df))\n",
    "p_low = stats.t.ppf(.025, df=len(df)*2-2, loc=meanDiff, scale=stdMeanDiff)\n",
    "p_high= stats.t.ppf(.975, df=len(df)*2-2, loc=meanDiff, scale=stdMeanDiff)\n",
    "display(\"Mean difference, 95% confidence interval is [\"+str(p_low)+\", \"+str(p_high)+\"]\")\n",
    " \n",
    "plt.figure()\n",
    "x = np.linspace(meanDiff-4*stdMeanDiff, meanDiff+4*stdMeanDiff, 1000)\n",
    "y = stats.t.pdf(x,df=len(df)*2-2, loc=meanDiff, scale=stdMeanDiff)\n",
    "plt.plot(x,y, color = 'dimgrey')\n",
    " \n",
    "xf = np.linspace(p_low,p_high, 1000)\n",
    "plt.fill_between(xf, stats.t.pdf(xf,df=len(df)*2-2, loc=meanDiff, scale=stdMeanDiff), color = 'dimgrey', alpha=0.4)\n",
    "plt.show()"
   ]
  },
  {
   "cell_type": "code",
   "execution_count": 48,
   "metadata": {},
   "outputs": [
    {
     "name": "stdout",
     "output_type": "stream",
     "text": [
      "Yes, as 0 is not included in the 95% confidence interval\n",
      "We would get the same conclusion if we calculated the p_value:\n",
      "p_value =  0.017692068238044315  < 0.05\n"
     ]
    }
   ],
   "source": [
    "#f\n",
    "print(\"Yes, as 0 is not included in the 95% confidence interval\\nWe would get the same conclusion if we calculated the p_value:\")\n",
    "print(\"p_value = \",2*stats.t.sf(meanDiff, df=2*len(df)-2, loc=0, scale=stdMeanDiff) , \" < 0.05\")"
   ]
  },
  {
   "cell_type": "code",
   "execution_count": 27,
   "metadata": {},
   "outputs": [
    {
     "name": "stdout",
     "output_type": "stream",
     "text": [
      "0.9931800403570563\n",
      "as the P-value is greater than 0.05 we cannot conclude that the standard deviation differs significantly.\n"
     ]
    }
   ],
   "source": [
    "#g\n",
    "prob = stats.f.cdf(df['Producer 1'].var(ddof=1)/df['Producer 2'].var(ddof=1), dfn=len(df)-1, dfd=len(df)-1)\n",
    "pval = 2*min(1-prob,prob)\n",
    "print(pval) # 0.993\n",
    "print(\"as the P-value is greater than 0.05 we cannot conclude that the standard deviation differs significantly.\")"
   ]
  },
  {
   "cell_type": "code",
   "execution_count": null,
   "metadata": {},
   "outputs": [],
   "source": []
  }
 ],
 "metadata": {
  "kernelspec": {
   "display_name": "Python 3",
   "language": "python",
   "name": "python3"
  },
  "language_info": {
   "codemirror_mode": {
    "name": "ipython",
    "version": 3
   },
   "file_extension": ".py",
   "mimetype": "text/x-python",
   "name": "python",
   "nbconvert_exporter": "python",
   "pygments_lexer": "ipython3",
   "version": "3.7.6"
  }
 },
 "nbformat": 4,
 "nbformat_minor": 4
}
