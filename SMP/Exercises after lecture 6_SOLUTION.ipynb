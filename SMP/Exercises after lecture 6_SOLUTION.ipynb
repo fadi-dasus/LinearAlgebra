{
 "cells": [
  {
   "cell_type": "markdown",
   "metadata": {},
   "source": [
    "# Assignment 1"
   ]
  },
  {
   "cell_type": "code",
   "execution_count": 1,
   "metadata": {
    "scrolled": true
   },
   "outputs": [
    {
     "name": "stdout",
     "output_type": "stream",
     "text": [
      "          1         2         3\n",
      "5  0.083333  0.000000  0.000000\n",
      "6  0.166667  0.000000  0.166667\n",
      "7  0.166667  0.083333  0.166667\n",
      "8  0.000000  0.166667  0.000000\n"
     ]
    }
   ],
   "source": [
    "import pandas as pd\n",
    "import numpy as np\n",
    "from IPython.display import display\n",
    "import sympy as sp\n",
    "import matplotlib.pyplot as plt\n",
    "\n",
    "#%% Assignment 1\n",
    "df = pd.DataFrame({1:[1/12,2/12,2/12,0], 2:[0,0,1/12,2/12], 3:[0,2/12,2/12,0]})\n",
    "df = df.rename({0: 5, 1:6, 2: 7,3: 8})\n",
    "print(df.to_string())"
   ]
  },
  {
   "cell_type": "code",
   "execution_count": 2,
   "metadata": {},
   "outputs": [
    {
     "data": {
      "text/plain": [
       "'fx = '"
      ]
     },
     "metadata": {},
     "output_type": "display_data"
    },
    {
     "data": {
      "text/plain": [
       "1    0.416667\n",
       "2    0.250000\n",
       "3    0.333333\n",
       "dtype: float64"
      ]
     },
     "metadata": {},
     "output_type": "display_data"
    },
    {
     "data": {
      "text/plain": [
       "'fy = '"
      ]
     },
     "metadata": {},
     "output_type": "display_data"
    },
    {
     "data": {
      "text/plain": [
       "5    0.083333\n",
       "6    0.333333\n",
       "7    0.416667\n",
       "8    0.166667\n",
       "dtype: float64"
      ]
     },
     "metadata": {},
     "output_type": "display_data"
    }
   ],
   "source": [
    "#Task 1\n",
    "fx = df.sum(0)\n",
    "display(\"fx = \",fx)\n",
    "\n",
    "fy = df.sum(1)\n",
    "display(\"fy = \",fy)"
   ]
  },
  {
   "cell_type": "code",
   "execution_count": 3,
   "metadata": {},
   "outputs": [
    {
     "name": "stdout",
     "output_type": "stream",
     "text": [
      "E[X] =  1.9166666666666665\n",
      "E[Y] =  6.666666666666666\n",
      "E[X^2] =  4.416666666666666\n",
      "E[Y^2] =  45.16666666666666\n",
      "E[XY] =  12.916666666666666\n"
     ]
    }
   ],
   "source": [
    "#Task 2\n",
    "EX = np.array(fx).dot(np.array(fx.index))\n",
    "print(\"E[X] = \", EX)\n",
    "EY = np.array(fy).dot(np.array(fy.index))\n",
    "print(\"E[Y] = \", EY)\n",
    "\n",
    "EX2 = np.array(fx).dot(np.array(fx.index)**2)\n",
    "print(\"E[X^2] = \", EX2)\n",
    "EY2 = np.array(fy).dot(np.array(fy.index)**2)\n",
    "print(\"E[Y^2] = \", EY2)\n",
    "\n",
    "EXY = np.array(df.index).dot(np.array(df)).dot(np.array(df.columns))\n",
    "print(\"E[XY] = \", EXY)"
   ]
  },
  {
   "cell_type": "code",
   "execution_count": 4,
   "metadata": {},
   "outputs": [
    {
     "name": "stdout",
     "output_type": "stream",
     "text": [
      "0.13888888888889106\n",
      "0.189592623928696\n"
     ]
    }
   ],
   "source": [
    "#Task 3\n",
    "varX = EX2-EX**2\n",
    "varY = EY2-EY**2\n",
    "coVar = EXY - EX*EY\n",
    "print(coVar)\n",
    "corrCoef = coVar/np.sqrt(varX*varY)\n",
    "print(corrCoef)"
   ]
  },
  {
   "cell_type": "code",
   "execution_count": 5,
   "metadata": {},
   "outputs": [
    {
     "name": "stdout",
     "output_type": "stream",
     "text": [
      "They are not independet as the probability of X change if we know Y\n"
     ]
    }
   ],
   "source": [
    "#Task 4\n",
    "print(\"They are not independet as the probability of X change if we know Y\")"
   ]
  },
  {
   "cell_type": "code",
   "execution_count": 6,
   "metadata": {},
   "outputs": [
    {
     "name": "stdout",
     "output_type": "stream",
     "text": [
      "1    0.5\n",
      "2    0.0\n",
      "3    0.5\n",
      "Name: 6, dtype: float64\n"
     ]
    }
   ],
   "source": [
    "#Task 5\n",
    "print(df.loc[6,:]/df.loc[6,:].sum())"
   ]
  },
  {
   "cell_type": "markdown",
   "metadata": {},
   "source": [
    "# Assignment 2"
   ]
  },
  {
   "cell_type": "code",
   "execution_count": 7,
   "metadata": {},
   "outputs": [
    {
     "name": "stdout",
     "output_type": "stream",
     "text": [
      "[ 1  6 13 18 15  8  2]\n"
     ]
    }
   ],
   "source": [
    "#Task 1\n",
    "X = np.array([1,2,3,2,1])\n",
    "Y = np.array([2,4 ,1])\n",
    "print(np.correlate(X,Y,'full'))"
   ]
  },
  {
   "cell_type": "code",
   "execution_count": 8,
   "metadata": {},
   "outputs": [
    {
     "name": "stdout",
     "output_type": "stream",
     "text": [
      "[24 26 16 29 66 29 16 26 24]\n"
     ]
    }
   ],
   "source": [
    "#Task 2\n",
    "X = np.array([4,3,1,2,6])\n",
    "print(np.correlate(X,X,'full'))"
   ]
  },
  {
   "cell_type": "markdown",
   "metadata": {},
   "source": [
    "# Assignment 3"
   ]
  },
  {
   "cell_type": "code",
   "execution_count": 9,
   "metadata": {},
   "outputs": [
    {
     "data": {
      "text/plain": [
       "'The sum of all the probabilities shall add up to 1'"
      ]
     },
     "metadata": {},
     "output_type": "display_data"
    },
    {
     "name": "stdout",
     "output_type": "stream",
     "text": [
      "k = 0.1\n"
     ]
    }
   ],
   "source": [
    "#Task 1\n",
    "display(\"The sum of all the probabilities must add up to 1\")\n",
    "k = sp.Symbol('k')\n",
    "eq = sp.Eq(k+2/10+k+1/10+4/10+k,1)\n",
    "k = float(sp.solve(eq,k)[0])\n",
    "print(\"k = \"+str(k))"
   ]
  },
  {
   "cell_type": "code",
   "execution_count": 10,
   "metadata": {},
   "outputs": [
    {
     "name": "stdout",
     "output_type": "stream",
     "text": [
      "      4    5    7\n",
      "-3  0.1  0.0  0.0\n",
      "-1  0.2  0.0  0.1\n",
      " 0  0.1  0.0  0.4\n",
      " 5  0.0  0.1  0.0\n"
     ]
    },
    {
     "data": {
      "text/plain": [
       "'fx = '"
      ]
     },
     "metadata": {},
     "output_type": "display_data"
    },
    {
     "data": {
      "text/plain": [
       "4    0.4\n",
       "5    0.1\n",
       "7    0.5\n",
       "dtype: float64"
      ]
     },
     "metadata": {},
     "output_type": "display_data"
    },
    {
     "data": {
      "text/plain": [
       "'fy = '"
      ]
     },
     "metadata": {},
     "output_type": "display_data"
    },
    {
     "data": {
      "text/plain": [
       "-3    0.1\n",
       "-1    0.3\n",
       " 0    0.5\n",
       " 5    0.1\n",
       "dtype: float64"
      ]
     },
     "metadata": {},
     "output_type": "display_data"
    }
   ],
   "source": [
    "#Task 2\n",
    "df = pd.DataFrame({4:[k, 2/10, 1/10, 0], 5:[0,0,0,k], 7:[0,k,4/10,0]})\n",
    "df = df.rename({0: -3, 1:-1, 2:0,3:5})\n",
    "print(df.to_string())\n",
    "fx = df.sum(0)\n",
    "display(\"fx = \",fx)\n",
    "\n",
    "fy = df.sum(1)\n",
    "display(\"fy = \",fy)"
   ]
  },
  {
   "cell_type": "code",
   "execution_count": 11,
   "metadata": {},
   "outputs": [
    {
     "name": "stdout",
     "output_type": "stream",
     "text": [
      "E[X] =  5.6\n",
      "E[Y] =  -0.10000000000000009\n",
      "E[X^2] =  33.4\n",
      "E[Y^2] =  3.7\n",
      "E[XY] =  -0.20000000000000007\n",
      "\n",
      "The same calculations is done manually on the picture below:\n"
     ]
    }
   ],
   "source": [
    "#Task 3\n",
    "EX = np.array(fx).dot(np.array(fx.index))\n",
    "print(\"E[X] = \", EX)\n",
    "EY = np.array(fy).dot(np.array(fy.index))\n",
    "print(\"E[Y] = \", EY)\n",
    "\n",
    "EX2 = np.array(fx).dot(np.array(fx.index)**2)\n",
    "print(\"E[X^2] = \", EX2)\n",
    "EY2 = np.array(fy).dot(np.array(fy.index)**2)\n",
    "print(\"E[Y^2] = \", EY2)\n",
    "\n",
    "EXY = np.array(df.index).dot(np.array(df)).dot(np.array(df.columns))\n",
    "print(\"E[XY] = \", EXY)\n",
    "\n",
    "print(\"\\nThe same calculations is done manually on the picture below:\")"
   ]
  },
  {
   "cell_type": "markdown",
   "metadata": {},
   "source": [
    "![Calculation by hand](https://i.imgur.com/OXeyeXo.png)"
   ]
  },
  {
   "cell_type": "code",
   "execution_count": 12,
   "metadata": {},
   "outputs": [
    {
     "name": "stdout",
     "output_type": "stream",
     "text": [
      "P(Y<0) = 0.4\n",
      "P(X=5, Y>0) = 0.1\n",
      "P(Y<6, Y<0) = 0.30000000000000004\n"
     ]
    }
   ],
   "source": [
    "#Task 3 continues...\n",
    "# Probability of y<0 means that Y should be -1 or -3\n",
    "prob = sum(fy.loc[fy.index<0]) # 0.3+0.1\n",
    "print(\"P(Y<0) = \"+str(prob))\n",
    "\n",
    "prob = np.sum(np.sum(df.loc[(df.index>0),df.columns==5])) # 1/10\n",
    "print(\"P(X=5, Y>0) = \"+str(prob))\n",
    "\n",
    "prob = np.sum(np.sum((df.loc[(df.index<0),df.columns<6])))# 1/10+2/10+0+0\n",
    "print(\"P(Y<6, Y<0) = \"+str((prob)))"
   ]
  },
  {
   "cell_type": "code",
   "execution_count": 13,
   "metadata": {},
   "outputs": [
    {
     "name": "stdout",
     "output_type": "stream",
     "text": [
      "V[X] =  2.0400000000000027\n",
      "V[Y] =  3.69\n"
     ]
    }
   ],
   "source": [
    "#Task 4\n",
    "VX = EX2 - EX**2\n",
    "VY = EY2 - EY**2\n",
    "print(\"V[X] = \", VX)\n",
    "print(\"V[Y] = \", VY)"
   ]
  },
  {
   "cell_type": "code",
   "execution_count": 14,
   "metadata": {},
   "outputs": [
    {
     "name": "stdout",
     "output_type": "stream",
     "text": [
      "covariance =  0.36000000000000043\n",
      "Correlation coefficient =  0.13121220505220868\n",
      "This number indicate that they are independet but not strongly correlated neither\n"
     ]
    }
   ],
   "source": [
    "#Task 5\n",
    "co_Var = EXY-EX*EY\n",
    "corr_coeff = co_Var/np.sqrt(VX*VY)\n",
    "print(\"covariance = \", co_Var)\n",
    "print(\"Correlation coefficient = \", corr_coeff)\n",
    "\n",
    "print(\"This number indicate that they are independet but not strongly correlated neither\")"
   ]
  },
  {
   "cell_type": "code",
   "execution_count": 15,
   "metadata": {},
   "outputs": [
    {
     "name": "stdout",
     "output_type": "stream",
     "text": [
      "4    0.2\n",
      "5    0.0\n",
      "7    0.8\n",
      "Name: 0, dtype: float64\n"
     ]
    }
   ],
   "source": [
    "#Task 6\n",
    "fxGivenYequal0 = df.loc[0,:]/sum(df.loc[0,:])\n",
    "print(fxGivenYequal0)"
   ]
  },
  {
   "cell_type": "markdown",
   "metadata": {},
   "source": [
    "# Assignment 4"
   ]
  },
  {
   "cell_type": "code",
   "execution_count": 16,
   "metadata": {},
   "outputs": [
    {
     "name": "stdout",
     "output_type": "stream",
     "text": [
      "           4         5         6\n",
      "11  0.083333  0.083333  0.083333\n",
      "12  0.166667  0.166667  0.166667\n",
      "13  0.083333  0.083333  0.083333\n"
     ]
    },
    {
     "data": {
      "text/plain": [
       "'fx = '"
      ]
     },
     "metadata": {},
     "output_type": "display_data"
    },
    {
     "data": {
      "text/plain": [
       "4    0.333333\n",
       "5    0.333333\n",
       "6    0.333333\n",
       "dtype: float64"
      ]
     },
     "metadata": {},
     "output_type": "display_data"
    },
    {
     "data": {
      "text/plain": [
       "'fy = '"
      ]
     },
     "metadata": {},
     "output_type": "display_data"
    },
    {
     "data": {
      "text/plain": [
       "11    0.25\n",
       "12    0.50\n",
       "13    0.25\n",
       "dtype: float64"
      ]
     },
     "metadata": {},
     "output_type": "display_data"
    },
    {
     "name": "stdout",
     "output_type": "stream",
     "text": [
      "covariance =  0.0\n",
      "Correlation coefficient =  0.0\n",
      "As Correlation coefficient is zero X and Y are independet. \n"
     ]
    }
   ],
   "source": [
    "df = pd.DataFrame({4:[1, 2, 1], 5:[1,2,1], 6:[1,2,1]})/12\n",
    "df = df.rename({0: 11, 1:12, 2:13})\n",
    "print(df.to_string())\n",
    "fx = df.sum(0)\n",
    "display(\"fx = \",fx)\n",
    "\n",
    "fy = df.sum(1)\n",
    "display(\"fy = \",fy)\n",
    "\n",
    "EX = np.array(fx).dot(np.array(fx.index))\n",
    "EY = np.array(fy).dot(np.array(fy.index))\n",
    "\n",
    "EX2 = np.array(fx).dot(np.array(fx.index)**2)\n",
    "EY2 = np.array(fy).dot(np.array(fy.index)**2)\n",
    "\n",
    "EXY = np.array(df.index).dot(np.array(df)).dot(np.array(df.columns))\n",
    "VX = EX2 - EX**2\n",
    "VY = EY2 - EY**2\n",
    "\n",
    "co_Var = EXY-EX*EY\n",
    "corr_coeff = co_Var/np.sqrt(VX*VY)\n",
    "print(\"covariance = \", co_Var)\n",
    "print(\"Correlation coefficient = \", corr_coeff)\n",
    "\n",
    "print(\"As Correlation coefficient is zero X and Y are independet. \")"
   ]
  },
  {
   "cell_type": "markdown",
   "metadata": {},
   "source": [
    "# Assignment 5"
   ]
  },
  {
   "cell_type": "code",
   "execution_count": 17,
   "metadata": {
    "scrolled": true
   },
   "outputs": [
    {
     "data": {
      "image/png": "[encoded data removed]",
      "text/plain": [
       "<Figure size 432x288 with 1 Axes>"
      ]
     },
     "metadata": {
      "needs_background": "light"
     },
     "output_type": "display_data"
    }
   ],
   "source": [
    "#Task 1\n",
    "x = np.array([0.1,1,2,4,10])\n",
    "y = np.linspace( 0, 4, 1001)\n",
    "for x_ in x:\n",
    "    f=x_*np.exp(-x_*y)\n",
    "    plt.plot(y,f, label=\"x = \"+str(x_))\n",
    "    plt.legend()\n",
    "plt.show()\n"
   ]
  },
  {
   "cell_type": "code",
   "execution_count": 18,
   "metadata": {},
   "outputs": [
    {
     "data": {
      "text/latex": [
       "$\\displaystyle 1 - e^{-4}$"
      ],
      "text/plain": [
       "1 - exp(-4)"
      ]
     },
     "metadata": {},
     "output_type": "display_data"
    },
    {
     "name": "stdout",
     "output_type": "stream",
     "text": [
      "0.9816843611112658\n"
     ]
    }
   ],
   "source": [
    "#Task 2\n",
    "y = sp.Symbol('y')\n",
    "x = sp.Symbol('x')\n",
    "\n",
    "def f(x,y):\n",
    "    return x*sp.exp(-x*y)\n",
    "\n",
    "display(sp.integrate(f(2,y),(y,0,2)))\n",
    "#or\n",
    "print(float(sp.integrate(f(2,y),(y,0,2))))"
   ]
  },
  {
   "cell_type": "code",
   "execution_count": 19,
   "metadata": {},
   "outputs": [
    {
     "name": "stdout",
     "output_type": "stream",
     "text": [
      "1/2\n"
     ]
    }
   ],
   "source": [
    "#Task 3\n",
    "print(sp.integrate(f(2,y)*y,(y,0,sp.oo)))"
   ]
  }
 ],
 "metadata": {
  "kernelspec": {
   "display_name": "Python 3",
   "language": "python",
   "name": "python3"
  },
  "language_info": {
   "codemirror_mode": {
    "name": "ipython",
    "version": 3
   },
   "file_extension": ".py",
   "mimetype": "text/x-python",
   "name": "python",
   "nbconvert_exporter": "python",
   "pygments_lexer": "ipython3",
   "version": "3.7.4"
  }
 },
 "nbformat": 4,
 "nbformat_minor": 4
}
