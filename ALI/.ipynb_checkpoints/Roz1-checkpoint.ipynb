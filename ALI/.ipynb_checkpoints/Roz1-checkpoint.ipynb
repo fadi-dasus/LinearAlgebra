{
 "cells": [
  {
   "cell_type": "code",
   "execution_count": 127,
   "metadata": {},
   "outputs": [],
   "source": [
    "from sympy import *\n",
    "init_printing()"
   ]
  },
  {
   "cell_type": "code",
   "execution_count": 5,
   "metadata": {},
   "outputs": [
    {
     "name": "stdout",
     "output_type": "stream",
     "text": [
      "////////////////////////////////////\n"
     ]
    },
    {
     "data": {
      "text/latex": [
       "$\\displaystyle \\left[\\begin{matrix}1 & 0.66\\\\1 & 1.32\\\\1 & 1.98\\\\1 & 2.64\\\\1 & 3.3\\\\1 & 3.96\\\\1 & 4.62\\\\1 & 3.28\\\\1 & 5.94\\\\1 & 6.6\\end{matrix}\\right]$"
      ],
      "text/plain": [
       "⎡1  0.66⎤\n",
       "⎢       ⎥\n",
       "⎢1  1.32⎥\n",
       "⎢       ⎥\n",
       "⎢1  1.98⎥\n",
       "⎢       ⎥\n",
       "⎢1  2.64⎥\n",
       "⎢       ⎥\n",
       "⎢1  3.3 ⎥\n",
       "⎢       ⎥\n",
       "⎢1  3.96⎥\n",
       "⎢       ⎥\n",
       "⎢1  4.62⎥\n",
       "⎢       ⎥\n",
       "⎢1  3.28⎥\n",
       "⎢       ⎥\n",
       "⎢1  5.94⎥\n",
       "⎢       ⎥\n",
       "⎣1  6.6 ⎦"
      ]
     },
     "metadata": {},
     "output_type": "display_data"
    },
    {
     "data": {
      "text/latex": [
       "$\\displaystyle \\left[\\begin{matrix}7.32\\\\12.22\\\\16.34\\\\23.66\\\\28.06\\\\33.39\\\\34.12\\\\39.21\\\\44.21\\\\47.48\\end{matrix}\\right]$"
      ],
      "text/plain": [
       "⎡7.32 ⎤\n",
       "⎢     ⎥\n",
       "⎢12.22⎥\n",
       "⎢     ⎥\n",
       "⎢16.34⎥\n",
       "⎢     ⎥\n",
       "⎢23.66⎥\n",
       "⎢     ⎥\n",
       "⎢28.06⎥\n",
       "⎢     ⎥\n",
       "⎢33.39⎥\n",
       "⎢     ⎥\n",
       "⎢34.12⎥\n",
       "⎢     ⎥\n",
       "⎢39.21⎥\n",
       "⎢     ⎥\n",
       "⎢44.21⎥\n",
       "⎢     ⎥\n",
       "⎣47.48⎦"
      ]
     },
     "metadata": {},
     "output_type": "display_data"
    },
    {
     "data": {
      "text/latex": [
       "$\\displaystyle \\left[\\begin{matrix}5.50274038315572\\\\6.73418647721407\\end{matrix}\\right]$"
      ],
      "text/plain": [
       "⎡5.50274038315572⎤\n",
       "⎢                ⎥\n",
       "⎣6.73418647721407⎦"
      ]
     },
     "metadata": {},
     "output_type": "display_data"
    },
    {
     "data": {
      "image/png": "[encoded data removed]",
      "text/latex": [
       "$\\displaystyle 12.9842160343494$"
      ],
      "text/plain": [
       "12.9842160343494"
      ]
     },
     "metadata": {},
     "output_type": "display_data"
    }
   ],
   "source": [
    "# Exam 2014 ex 5\n",
    "print('////////////////////////////////////')\n",
    "# a) find the best fitted least-squares to describe the data\n",
    "# B0 + B1*S = D\n",
    "\n",
    "x = Matrix([0.66,1.32,1.98,2.64,3.3,3.96,4.62,3.28,5.94,6.6])\n",
    "X = Matrix([ones(len(x), 1)]).row_join(Matrix(x))\n",
    "Y = Matrix([7.32,12.22,16.34,23.66,28.06,33.39,34.12,39.21,44.21,47.48]) \n",
    "\n",
    "display(X)\n",
    "display(Y)\n",
    "\n",
    "B = (X.T*X).row_join(X.T*Y).rref()[0][:,-1]\n",
    "display(B)\n",
    "# B0 = 5.50274038315572, B1 = 6.73418647721407\n",
    "\n",
    "# b) Determine the least-squares error for the line found in a)\n",
    "e = (Y - X*B).norm()\n",
    "display(e)"
   ]
  },
  {
   "cell_type": "code",
   "execution_count": 129,
   "metadata": {},
   "outputs": [
    {
     "data": {
      "text/latex": [
       "$\\displaystyle \\left[\\begin{matrix}1 & 54\\\\1 & 54\\\\1 & 61\\\\1 & 61\\\\1 & 68\\\\1 & 68\\\\1 & 75\\\\1 & 75\\\\1 & 75\\end{matrix}\\right]$"
      ],
      "text/plain": [
       "⎡1  54⎤\n",
       "⎢     ⎥\n",
       "⎢1  54⎥\n",
       "⎢     ⎥\n",
       "⎢1  61⎥\n",
       "⎢     ⎥\n",
       "⎢1  61⎥\n",
       "⎢     ⎥\n",
       "⎢1  68⎥\n",
       "⎢     ⎥\n",
       "⎢1  68⎥\n",
       "⎢     ⎥\n",
       "⎢1  75⎥\n",
       "⎢     ⎥\n",
       "⎢1  75⎥\n",
       "⎢     ⎥\n",
       "⎣1  75⎦"
      ]
     },
     "metadata": {},
     "output_type": "display_data"
    },
    {
     "data": {
      "text/latex": [
       "$\\displaystyle \\left[\\begin{matrix}16.473\\\\18.693\\\\14.305\\\\15.121\\\\13.505\\\\11.64\\\\11.168\\\\12.534\\\\11.224\\end{matrix}\\right]$"
      ],
      "text/plain": [
       "⎡16.473⎤\n",
       "⎢      ⎥\n",
       "⎢18.693⎥\n",
       "⎢      ⎥\n",
       "⎢14.305⎥\n",
       "⎢      ⎥\n",
       "⎢15.121⎥\n",
       "⎢      ⎥\n",
       "⎢13.505⎥\n",
       "⎢      ⎥\n",
       "⎢11.64 ⎥\n",
       "⎢      ⎥\n",
       "⎢11.168⎥\n",
       "⎢      ⎥\n",
       "⎢12.534⎥\n",
       "⎢      ⎥\n",
       "⎣11.224⎦"
      ]
     },
     "metadata": {},
     "output_type": "display_data"
    },
    {
     "data": {
      "text/latex": [
       "$\\displaystyle \\left[\\begin{matrix}32.0486679894182\\\\-0.277115079365083\\end{matrix}\\right]$"
      ],
      "text/plain": [
       "⎡ 32.0486679894182 ⎤\n",
       "⎢                  ⎥\n",
       "⎣-0.277115079365083⎦"
      ]
     },
     "metadata": {},
     "output_type": "display_data"
    },
    {
     "data": {
      "image/png": "[encoded data removed]",
      "text/latex": [
       "$\\displaystyle 2.79768817094612$"
      ],
      "text/plain": [
       "2.79768817094612"
      ]
     },
     "metadata": {},
     "output_type": "display_data"
    }
   ],
   "source": [
    "# Re-Exam 2014 ex 5\n",
    "\n",
    "# a) find the best fitted least-squares to describe the data\n",
    "# B0 + B1*S = D\n",
    "\n",
    "x = Matrix([54,54,61,61,68,68,75,75,75])\n",
    "X = Matrix([ones(len(x), 1)]).row_join(Matrix(x))\n",
    "Y = Matrix([16.473,18.693,14.305,15.121,13.505,11.640,11.168,12.534,11.224]) \n",
    "\n",
    "display(X)\n",
    "display(Y)\n",
    "\n",
    "B = (X.T*X).row_join(X.T*Y).rref()[0][:,-1]\n",
    "display(B)\n",
    "# B0 = 32.0486679894182, B1 = −0.277115079365083\n",
    "\n",
    "# b) Determine the least-squares error for the line found in a)\n",
    "e = (Y - X*B).norm()\n",
    "display(e)"
   ]
  },
  {
   "cell_type": "code",
   "execution_count": 130,
   "metadata": {},
   "outputs": [
    {
     "data": {
      "text/latex": [
       "$\\displaystyle \\left[\\begin{matrix}1 & 0\\\\1 & 1\\\\1 & 4\\\\1 & 9\\\\1 & 16\\\\1 & 25\\end{matrix}\\right]$"
      ],
      "text/plain": [
       "⎡1  0 ⎤\n",
       "⎢     ⎥\n",
       "⎢1  1 ⎥\n",
       "⎢     ⎥\n",
       "⎢1  4 ⎥\n",
       "⎢     ⎥\n",
       "⎢1  9 ⎥\n",
       "⎢     ⎥\n",
       "⎢1  16⎥\n",
       "⎢     ⎥\n",
       "⎣1  25⎦"
      ]
     },
     "metadata": {},
     "output_type": "display_data"
    },
    {
     "data": {
      "text/latex": [
       "$\\displaystyle \\left[\\begin{matrix}1\\\\3\\\\7\\\\11\\\\16\\\\24\\end{matrix}\\right]$"
      ],
      "text/plain": [
       "⎡1 ⎤\n",
       "⎢  ⎥\n",
       "⎢3 ⎥\n",
       "⎢  ⎥\n",
       "⎢7 ⎥\n",
       "⎢  ⎥\n",
       "⎢11⎥\n",
       "⎢  ⎥\n",
       "⎢16⎥\n",
       "⎢  ⎥\n",
       "⎣24⎦"
      ]
     },
     "metadata": {},
     "output_type": "display_data"
    },
    {
     "data": {
      "text/latex": [
       "$\\displaystyle \\left[\\begin{matrix}1 & 0 & 0\\\\1 & 1 & 1\\\\1 & 2 & 4\\\\1 & 3 & 9\\\\1 & 4 & 16\\\\1 & 5 & 25\\end{matrix}\\right]$"
      ],
      "text/plain": [
       "⎡1  0  0 ⎤\n",
       "⎢        ⎥\n",
       "⎢1  1  1 ⎥\n",
       "⎢        ⎥\n",
       "⎢1  2  4 ⎥\n",
       "⎢        ⎥\n",
       "⎢1  3  9 ⎥\n",
       "⎢        ⎥\n",
       "⎢1  4  16⎥\n",
       "⎢        ⎥\n",
       "⎣1  5  25⎦"
      ]
     },
     "metadata": {},
     "output_type": "display_data"
    },
    {
     "data": {
      "text/latex": [
       "$\\displaystyle \\left[\\begin{matrix}1\\\\3\\\\7\\\\11\\\\16\\\\24\\end{matrix}\\right]$"
      ],
      "text/plain": [
       "⎡1 ⎤\n",
       "⎢  ⎥\n",
       "⎢3 ⎥\n",
       "⎢  ⎥\n",
       "⎢7 ⎥\n",
       "⎢  ⎥\n",
       "⎢11⎥\n",
       "⎢  ⎥\n",
       "⎢16⎥\n",
       "⎢  ⎥\n",
       "⎣24⎦"
      ]
     },
     "metadata": {},
     "output_type": "display_data"
    },
    {
     "data": {
      "text/latex": [
       "$\\displaystyle \\left[\\begin{matrix}\\frac{84}{37}\\\\\\frac{358}{407}\\end{matrix}\\right]$"
      ],
      "text/plain": [
       "⎡84 ⎤\n",
       "⎢── ⎥\n",
       "⎢37 ⎥\n",
       "⎢   ⎥\n",
       "⎢358⎥\n",
       "⎢───⎥\n",
       "⎣407⎦"
      ]
     },
     "metadata": {},
     "output_type": "display_data"
    },
    {
     "data": {
      "text/latex": [
       "$\\displaystyle \\left[\\begin{matrix}\\frac{15}{14}\\\\\\frac{207}{140}\\\\\\frac{17}{28}\\end{matrix}\\right]$"
      ],
      "text/plain": [
       "⎡15 ⎤\n",
       "⎢── ⎥\n",
       "⎢14 ⎥\n",
       "⎢   ⎥\n",
       "⎢207⎥\n",
       "⎢───⎥\n",
       "⎢140⎥\n",
       "⎢   ⎥\n",
       "⎢17 ⎥\n",
       "⎢── ⎥\n",
       "⎣28 ⎦"
      ]
     },
     "metadata": {},
     "output_type": "display_data"
    },
    {
     "data": {
      "image/png": "[encoded data removed]",
      "text/latex": [
       "$\\displaystyle \\frac{2 \\sqrt{163614}}{407}$"
      ],
      "text/plain": [
       "2⋅√163614\n",
       "─────────\n",
       "   407   "
      ]
     },
     "metadata": {},
     "output_type": "display_data"
    },
    {
     "data": {
      "image/png": "[encoded data removed]",
      "text/latex": [
       "$\\displaystyle \\frac{\\sqrt{1155}}{35}$"
      ],
      "text/plain": [
       "√1155\n",
       "─────\n",
       "  35 "
      ]
     },
     "metadata": {},
     "output_type": "display_data"
    },
    {
     "data": {
      "text/plain": [
       "'e2 < e1 => the second model is better'"
      ]
     },
     "metadata": {},
     "output_type": "display_data"
    }
   ],
   "source": [
    "# Exam 2016 ex 5\n",
    "        \n",
    "# a) Determine the design matrix and observation vector of both models\n",
    "# For the first model y = B0 + B2*t**2\n",
    "t1 = Matrix([0,1,2,3,4,5])\n",
    "tsquare1 = Matrix([0**2,1**2,2**2,3**2,4**2,5**2])\n",
    "T1 = Matrix([ones(len(t1), 1)]).row_join(tsquare1)\n",
    "Y = Matrix([1,3,7,11,16,24])\n",
    "display(T1,Y)\n",
    "\n",
    "# for the second model y = B0 + B1*t + b2*t**2\n",
    "t2 = Matrix([0,1,2,3,4,5])\n",
    "tsquare2 = Matrix([0**2,1**2,2**2,3**2,4**2,5**2])\n",
    "T2 = Matrix([ones(len(t2), 1)]).row_join(Matrix(t2)).row_join(tsquare2)\n",
    "Y = Matrix([1,3,7,11,16,24])\n",
    "display(T,Y)\n",
    "\n",
    "# b) Determine the parameters of both models\n",
    "# For the first model\n",
    "B1 = (T1.T*T1).row_join(T1.T*Y).rref()[0][:,-1]\n",
    "display(B1)\n",
    "\n",
    "# For the second model\n",
    "B2 = (T2.T*T2).row_join(T2.T*Y).rref()[0][:,-1]\n",
    "display(B2)\n",
    "\n",
    "# c) State which model is the best fit for the measured data\n",
    "# We will compare the errors\n",
    "e1 = (Y - T1*B1).norm()\n",
    "e2 = (Y - T2*B2).norm()\n",
    "display(e1,e2)\n",
    "if(e1 < e2):\n",
    "    display(\"e1 < e2 => the first model is better\")\n",
    "elif(e1 == e2):\n",
    "    display(\"e1 = e2 => models are equally good\")\n",
    "else:\n",
    "    display(\"e2 < e1 => the second model is better\")"
   ]
  },
  {
   "cell_type": "code",
   "execution_count": 131,
   "metadata": {},
   "outputs": [
    {
     "data": {
      "text/latex": [
       "$\\displaystyle \\left[\\begin{matrix}1 & 1 & 1 & 0\\\\2 & 0 & 2 & 0\\\\0 & 2 & 0 & 1\\\\-1 & 1 & 0 & 2\\end{matrix}\\right]$"
      ],
      "text/plain": [
       "⎡1   1  1  0⎤\n",
       "⎢           ⎥\n",
       "⎢2   0  2  0⎥\n",
       "⎢           ⎥\n",
       "⎢0   2  0  1⎥\n",
       "⎢           ⎥\n",
       "⎣-1  1  0  2⎦"
      ]
     },
     "metadata": {},
     "output_type": "display_data"
    },
    {
     "data": {
      "text/latex": [
       "$\\displaystyle \\left( \\left[\\begin{matrix}1 & 0 & 0 & 0\\\\0 & 1 & 0 & 0\\\\0 & 0 & 1 & 0\\\\0 & 0 & 0 & 1\\end{matrix}\\right], \\  \\left( 0, \\  1, \\  2, \\  3\\right)\\right)$"
      ],
      "text/plain": [
       "⎛⎡1  0  0  0⎤              ⎞\n",
       "⎜⎢          ⎥              ⎟\n",
       "⎜⎢0  1  0  0⎥              ⎟\n",
       "⎜⎢          ⎥, (0, 1, 2, 3)⎟\n",
       "⎜⎢0  0  1  0⎥              ⎟\n",
       "⎜⎢          ⎥              ⎟\n",
       "⎝⎣0  0  0  1⎦              ⎠"
      ]
     },
     "metadata": {},
     "output_type": "display_data"
    },
    {
     "data": {
      "text/latex": [
       "$\\displaystyle \\left[\\begin{matrix}1\\\\2\\\\0\\\\-1\\end{matrix}\\right]$"
      ],
      "text/plain": [
       "⎡1 ⎤\n",
       "⎢  ⎥\n",
       "⎢2 ⎥\n",
       "⎢  ⎥\n",
       "⎢0 ⎥\n",
       "⎢  ⎥\n",
       "⎣-1⎦"
      ]
     },
     "metadata": {},
     "output_type": "display_data"
    },
    {
     "data": {
      "text/latex": [
       "$\\displaystyle \\left[\\begin{matrix}1\\\\0\\\\2\\\\1\\end{matrix}\\right]$"
      ],
      "text/plain": [
       "⎡1⎤\n",
       "⎢ ⎥\n",
       "⎢0⎥\n",
       "⎢ ⎥\n",
       "⎢2⎥\n",
       "⎢ ⎥\n",
       "⎣1⎦"
      ]
     },
     "metadata": {},
     "output_type": "display_data"
    },
    {
     "data": {
      "text/latex": [
       "$\\displaystyle \\left[\\begin{matrix}0\\\\\\frac{1}{3}\\\\- \\frac{1}{3}\\\\\\frac{2}{3}\\end{matrix}\\right]$"
      ],
      "text/plain": [
       "⎡ 0  ⎤\n",
       "⎢    ⎥\n",
       "⎢1/3 ⎥\n",
       "⎢    ⎥\n",
       "⎢-1/3⎥\n",
       "⎢    ⎥\n",
       "⎣2/3 ⎦"
      ]
     },
     "metadata": {},
     "output_type": "display_data"
    },
    {
     "data": {
      "text/latex": [
       "$\\displaystyle \\left[\\begin{matrix}- \\frac{1}{3}\\\\\\frac{1}{6}\\\\\\frac{1}{6}\\\\0\\end{matrix}\\right]$"
      ],
      "text/plain": [
       "⎡-1/3⎤\n",
       "⎢    ⎥\n",
       "⎢1/6 ⎥\n",
       "⎢    ⎥\n",
       "⎢1/6 ⎥\n",
       "⎢    ⎥\n",
       "⎣ 0  ⎦"
      ]
     },
     "metadata": {},
     "output_type": "display_data"
    }
   ],
   "source": [
    "# Re-Exam 2016 ex 5\n",
    "\n",
    "u1 = Matrix([1,2,0,-1])\n",
    "u2 = Matrix([1,0,2,1])\n",
    "u3 = Matrix([1,2,0,0])\n",
    "u4 = Matrix([0,0,1,2])\n",
    "\n",
    "# a) Show that {u1,u2,u3,u4} for a basis for R4.\n",
    "U = u1.row_join(u2).row_join(u3).row_join(u4)\n",
    "display(U)\n",
    "display(U.rref())\n",
    "# there are pivots in all columns => they are linearly independent\n",
    "\n",
    "# b) Use Gram-Schmidt process on {u1,u2,u3,u4} to obtain an orthogonal basis for R4.\n",
    "v1 = u1\n",
    "v2 = u2 - u2.project(v1)\n",
    "v3 = u3 - u3.project(v1) - u3.project(v2)\n",
    "v4 = u4 - u4.project(v1) - u4.project(v2) - u4.project(v3)\n",
    "\n",
    "display(v1,v2,v3,v4)"
   ]
  },
  {
   "cell_type": "code",
   "execution_count": 132,
   "metadata": {},
   "outputs": [
    {
     "data": {
      "text/latex": [
       "$\\displaystyle \\left[\\begin{matrix}3\\\\0\\\\-1\\end{matrix}\\right]$"
      ],
      "text/plain": [
       "⎡3 ⎤\n",
       "⎢  ⎥\n",
       "⎢0 ⎥\n",
       "⎢  ⎥\n",
       "⎣-1⎦"
      ]
     },
     "metadata": {},
     "output_type": "display_data"
    },
    {
     "data": {
      "text/latex": [
       "$\\displaystyle \\left[\\begin{matrix}-1\\\\5\\\\-3\\end{matrix}\\right]$"
      ],
      "text/plain": [
       "⎡-1⎤\n",
       "⎢  ⎥\n",
       "⎢5 ⎥\n",
       "⎢  ⎥\n",
       "⎣-3⎦"
      ]
     },
     "metadata": {},
     "output_type": "display_data"
    }
   ],
   "source": [
    "# 6.4 ex 1\n",
    "\n",
    "u1 = Matrix([3,0,-1])\n",
    "u2 = Matrix([8,5,-6])\n",
    "\n",
    "v1 = u1\n",
    "v2 = u2 - u2.project(v1)\n",
    "\n",
    "display(v1,v2)"
   ]
  },
  {
   "cell_type": "code",
   "execution_count": 133,
   "metadata": {},
   "outputs": [
    {
     "data": {
      "text/latex": [
       "$\\displaystyle \\left[\\begin{matrix}3\\\\-1\\\\2\\\\-1\\end{matrix}\\right]$"
      ],
      "text/plain": [
       "⎡3 ⎤\n",
       "⎢  ⎥\n",
       "⎢-1⎥\n",
       "⎢  ⎥\n",
       "⎢2 ⎥\n",
       "⎢  ⎥\n",
       "⎣-1⎦"
      ]
     },
     "metadata": {},
     "output_type": "display_data"
    },
    {
     "data": {
      "text/latex": [
       "$\\displaystyle \\left[\\begin{matrix}4\\\\6\\\\-3\\\\0\\end{matrix}\\right]$"
      ],
      "text/plain": [
       "⎡4 ⎤\n",
       "⎢  ⎥\n",
       "⎢6 ⎥\n",
       "⎢  ⎥\n",
       "⎢-3⎥\n",
       "⎢  ⎥\n",
       "⎣0 ⎦"
      ]
     },
     "metadata": {},
     "output_type": "display_data"
    }
   ],
   "source": [
    "# 6.4 ex 6\n",
    "\n",
    "u1 = Matrix([3,-1,2,-1])\n",
    "u2 = Matrix([-5,9,-9,3])\n",
    "\n",
    "v1 = u1\n",
    "v2 = u2 - u2.project(v1)\n",
    "\n",
    "display(v1,v2)"
   ]
  },
  {
   "cell_type": "code",
   "execution_count": 134,
   "metadata": {},
   "outputs": [
    {
     "data": {
      "text/latex": [
       "$\\displaystyle \\left[\\begin{matrix}1\\\\-1\\\\0\\\\1\\\\1\\end{matrix}\\right]$"
      ],
      "text/plain": [
       "⎡1 ⎤\n",
       "⎢  ⎥\n",
       "⎢-1⎥\n",
       "⎢  ⎥\n",
       "⎢0 ⎥\n",
       "⎢  ⎥\n",
       "⎢1 ⎥\n",
       "⎢  ⎥\n",
       "⎣1 ⎦"
      ]
     },
     "metadata": {},
     "output_type": "display_data"
    },
    {
     "data": {
      "text/latex": [
       "$\\displaystyle \\left[\\begin{matrix}-1\\\\1\\\\2\\\\1\\\\1\\end{matrix}\\right]$"
      ],
      "text/plain": [
       "⎡-1⎤\n",
       "⎢  ⎥\n",
       "⎢1 ⎥\n",
       "⎢  ⎥\n",
       "⎢2 ⎥\n",
       "⎢  ⎥\n",
       "⎢1 ⎥\n",
       "⎢  ⎥\n",
       "⎣1 ⎦"
      ]
     },
     "metadata": {},
     "output_type": "display_data"
    },
    {
     "data": {
      "text/latex": [
       "$\\displaystyle \\left[\\begin{matrix}3\\\\3\\\\0\\\\-3\\\\3\\end{matrix}\\right]$"
      ],
      "text/plain": [
       "⎡3 ⎤\n",
       "⎢  ⎥\n",
       "⎢3 ⎥\n",
       "⎢  ⎥\n",
       "⎢0 ⎥\n",
       "⎢  ⎥\n",
       "⎢-3⎥\n",
       "⎢  ⎥\n",
       "⎣3 ⎦"
      ]
     },
     "metadata": {},
     "output_type": "display_data"
    }
   ],
   "source": [
    "# 6.4 ex 12\n",
    "\n",
    "A = Matrix([[1,3,5],[-1,-3,1],[0,2,3],[1,5,2],[1,5,8]])\n",
    "u1 = A[:,0]\n",
    "u2 = A[:,1]\n",
    "u3 = A[:,2]\n",
    "\n",
    "v1 = u1\n",
    "v2 = u2 - u2.project(v1)\n",
    "v3 = u3 - u3.project(v1) - u3.project(v2)\n",
    "\n",
    "display(v1,v2,v3)\n"
   ]
  },
  {
   "cell_type": "code",
   "execution_count": 135,
   "metadata": {},
   "outputs": [
    {
     "data": {
      "text/latex": [
       "$\\displaystyle \\left[\\begin{matrix}-10\\\\2\\\\-6\\\\16\\\\2\\end{matrix}\\right]$"
      ],
      "text/plain": [
       "⎡-10⎤\n",
       "⎢   ⎥\n",
       "⎢ 2 ⎥\n",
       "⎢   ⎥\n",
       "⎢-6 ⎥\n",
       "⎢   ⎥\n",
       "⎢16 ⎥\n",
       "⎢   ⎥\n",
       "⎣ 2 ⎦"
      ]
     },
     "metadata": {},
     "output_type": "display_data"
    },
    {
     "data": {
      "text/latex": [
       "$\\displaystyle \\left[\\begin{matrix}3\\\\3\\\\-3\\\\0\\\\3\\end{matrix}\\right]$"
      ],
      "text/plain": [
       "⎡3 ⎤\n",
       "⎢  ⎥\n",
       "⎢3 ⎥\n",
       "⎢  ⎥\n",
       "⎢-3⎥\n",
       "⎢  ⎥\n",
       "⎢0 ⎥\n",
       "⎢  ⎥\n",
       "⎣3 ⎦"
      ]
     },
     "metadata": {},
     "output_type": "display_data"
    },
    {
     "data": {
      "text/latex": [
       "$\\displaystyle \\left[\\begin{matrix}6\\\\0\\\\6\\\\6\\\\0\\end{matrix}\\right]$"
      ],
      "text/plain": [
       "⎡6⎤\n",
       "⎢ ⎥\n",
       "⎢0⎥\n",
       "⎢ ⎥\n",
       "⎢6⎥\n",
       "⎢ ⎥\n",
       "⎢6⎥\n",
       "⎢ ⎥\n",
       "⎣0⎦"
      ]
     },
     "metadata": {},
     "output_type": "display_data"
    },
    {
     "data": {
      "text/latex": [
       "$\\displaystyle \\left[\\begin{matrix}0\\\\5\\\\0\\\\0\\\\-5\\end{matrix}\\right]$"
      ],
      "text/plain": [
       "⎡0 ⎤\n",
       "⎢  ⎥\n",
       "⎢5 ⎥\n",
       "⎢  ⎥\n",
       "⎢0 ⎥\n",
       "⎢  ⎥\n",
       "⎢0 ⎥\n",
       "⎢  ⎥\n",
       "⎣-5⎦"
      ]
     },
     "metadata": {},
     "output_type": "display_data"
    }
   ],
   "source": [
    "# 6.4 ex 24\n",
    "\n",
    "A = Matrix([[-10,13,7,-11],[2,1,-5,3],[-6,3,13,-3],[16,-16,-2,5],[2,1,-5,-7]])\n",
    "u1 = A[:,0]\n",
    "u2 = A[:,1]\n",
    "u3 = A[:,2]\n",
    "u4 = A[:,3]\n",
    "\n",
    "v1 = u1\n",
    "v2 = u2 - u2.project(v1)\n",
    "v3 = u3 - u3.project(v1) - u3.project(v2)\n",
    "v4 = u4 - u4.project(v1) - u4.project(v2) - u4.project(v3)\n",
    "\n",
    "display(v1,v2,v3,v4)"
   ]
  },
  {
   "cell_type": "code",
   "execution_count": 136,
   "metadata": {},
   "outputs": [
    {
     "data": {
      "text/latex": [
       "$\\displaystyle \\left[\\begin{matrix}-1 & 2\\\\2 & -3\\\\-1 & 3\\end{matrix}\\right]$"
      ],
      "text/plain": [
       "⎡-1  2 ⎤\n",
       "⎢      ⎥\n",
       "⎢2   -3⎥\n",
       "⎢      ⎥\n",
       "⎣-1  3 ⎦"
      ]
     },
     "metadata": {},
     "output_type": "display_data"
    },
    {
     "data": {
      "text/latex": [
       "$\\displaystyle \\left[\\begin{matrix}4\\\\1\\\\2\\end{matrix}\\right]$"
      ],
      "text/plain": [
       "⎡4⎤\n",
       "⎢ ⎥\n",
       "⎢1⎥\n",
       "⎢ ⎥\n",
       "⎣2⎦"
      ]
     },
     "metadata": {},
     "output_type": "display_data"
    },
    {
     "data": {
      "text/latex": [
       "$\\displaystyle \\left[\\begin{matrix}3\\\\2\\end{matrix}\\right]$"
      ],
      "text/plain": [
       "⎡3⎤\n",
       "⎢ ⎥\n",
       "⎣2⎦"
      ]
     },
     "metadata": {},
     "output_type": "display_data"
    }
   ],
   "source": [
    "# 6.5 ex 1\n",
    "\n",
    "A = Matrix([[-1,2],[2,-3],[-1,3]])\n",
    "b = Matrix([4,1,2])\n",
    "display(A,b)\n",
    "\n",
    "X = (A.T*A).row_join(A.T*b).rref()[0][:,-1]\n",
    "display(X)"
   ]
  },
  {
   "cell_type": "code",
   "execution_count": 137,
   "metadata": {},
   "outputs": [
    {
     "data": {
      "text/latex": [
       "$\\displaystyle \\left[\\begin{matrix}1 & -2\\\\-1 & 2\\\\0 & 3\\\\2 & 5\\end{matrix}\\right]$"
      ],
      "text/plain": [
       "⎡1   -2⎤\n",
       "⎢      ⎥\n",
       "⎢-1  2 ⎥\n",
       "⎢      ⎥\n",
       "⎢0   3 ⎥\n",
       "⎢      ⎥\n",
       "⎣2   5 ⎦"
      ]
     },
     "metadata": {},
     "output_type": "display_data"
    },
    {
     "data": {
      "text/latex": [
       "$\\displaystyle \\left[\\begin{matrix}3\\\\1\\\\-4\\\\2\\end{matrix}\\right]$"
      ],
      "text/plain": [
       "⎡3 ⎤\n",
       "⎢  ⎥\n",
       "⎢1 ⎥\n",
       "⎢  ⎥\n",
       "⎢-4⎥\n",
       "⎢  ⎥\n",
       "⎣2 ⎦"
      ]
     },
     "metadata": {},
     "output_type": "display_data"
    },
    {
     "data": {
      "text/latex": [
       "$\\displaystyle \\left[\\begin{matrix}\\frac{4}{3}\\\\- \\frac{1}{3}\\end{matrix}\\right]$"
      ],
      "text/plain": [
       "⎡4/3 ⎤\n",
       "⎢    ⎥\n",
       "⎣-1/3⎦"
      ]
     },
     "metadata": {},
     "output_type": "display_data"
    }
   ],
   "source": [
    "# 6.5 ex 3\n",
    "\n",
    "A = Matrix([[1,-2],[-1,2],[0,3],[2,5]])\n",
    "b = Matrix([3,1,-4,2])\n",
    "display(A,b)\n",
    "\n",
    "X = (A.T*A).row_join(A.T*b).rref()[0][:,-1]\n",
    "display(X)"
   ]
  },
  {
   "cell_type": "code",
   "execution_count": 138,
   "metadata": {},
   "outputs": [
    {
     "data": {
      "text/latex": [
       "$\\displaystyle \\left[\\begin{matrix}1 & 1 & 0\\\\1 & 1 & 0\\\\1 & 0 & 1\\\\1 & 0 & 1\\end{matrix}\\right]$"
      ],
      "text/plain": [
       "⎡1  1  0⎤\n",
       "⎢       ⎥\n",
       "⎢1  1  0⎥\n",
       "⎢       ⎥\n",
       "⎢1  0  1⎥\n",
       "⎢       ⎥\n",
       "⎣1  0  1⎦"
      ]
     },
     "metadata": {},
     "output_type": "display_data"
    },
    {
     "data": {
      "text/latex": [
       "$\\displaystyle \\left[\\begin{matrix}1\\\\3\\\\8\\\\2\\end{matrix}\\right]$"
      ],
      "text/plain": [
       "⎡1⎤\n",
       "⎢ ⎥\n",
       "⎢3⎥\n",
       "⎢ ⎥\n",
       "⎢8⎥\n",
       "⎢ ⎥\n",
       "⎣2⎦"
      ]
     },
     "metadata": {},
     "output_type": "display_data"
    },
    {
     "data": {
      "text/latex": [
       "$\\displaystyle \\left( \\left[\\begin{matrix}1 & 0 & 1 & 5\\\\0 & 1 & -1 & -3\\\\0 & 0 & 0 & 0\\end{matrix}\\right], \\  \\left( 0, \\  1\\right)\\right)$"
      ],
      "text/plain": [
       "⎛⎡1  0  1   5 ⎤        ⎞\n",
       "⎜⎢            ⎥        ⎟\n",
       "⎜⎢0  1  -1  -3⎥, (0, 1)⎟\n",
       "⎜⎢            ⎥        ⎟\n",
       "⎝⎣0  0  0   0 ⎦        ⎠"
      ]
     },
     "metadata": {},
     "output_type": "display_data"
    },
    {
     "data": {
      "text/plain": [
       "'x3 - free => x1 = 5 - x3, x2 = -3 + x3'"
      ]
     },
     "metadata": {},
     "output_type": "display_data"
    }
   ],
   "source": [
    "# 6.5 ex 5\n",
    "\n",
    "A = Matrix([[1,1,0],[1,1,0],[1,0,1],[1,0,1]])\n",
    "b = Matrix([1,3,8,2])\n",
    "display(A,b)\n",
    "\n",
    "X = (A.T*A).row_join(A.T*b).rref()\n",
    "display(X)\n",
    "display(\"x3 - free => x1 = 5 - x3, x2 = -3 + x3\")"
   ]
  },
  {
   "cell_type": "code",
   "execution_count": 139,
   "metadata": {},
   "outputs": [
    {
     "data": {
      "text/latex": [
       "$\\displaystyle \\left[\\begin{matrix}1 & -2\\\\-1 & 2\\\\0 & 3\\\\2 & 5\\end{matrix}\\right]$"
      ],
      "text/plain": [
       "⎡1   -2⎤\n",
       "⎢      ⎥\n",
       "⎢-1  2 ⎥\n",
       "⎢      ⎥\n",
       "⎢0   3 ⎥\n",
       "⎢      ⎥\n",
       "⎣2   5 ⎦"
      ]
     },
     "metadata": {},
     "output_type": "display_data"
    },
    {
     "data": {
      "text/latex": [
       "$\\displaystyle \\left[\\begin{matrix}3\\\\1\\\\-4\\\\2\\end{matrix}\\right]$"
      ],
      "text/plain": [
       "⎡3 ⎤\n",
       "⎢  ⎥\n",
       "⎢1 ⎥\n",
       "⎢  ⎥\n",
       "⎢-4⎥\n",
       "⎢  ⎥\n",
       "⎣2 ⎦"
      ]
     },
     "metadata": {},
     "output_type": "display_data"
    },
    {
     "data": {
      "text/latex": [
       "$\\displaystyle \\left[\\begin{matrix}\\frac{4}{3}\\\\- \\frac{1}{3}\\end{matrix}\\right]$"
      ],
      "text/plain": [
       "⎡4/3 ⎤\n",
       "⎢    ⎥\n",
       "⎣-1/3⎦"
      ]
     },
     "metadata": {},
     "output_type": "display_data"
    },
    {
     "data": {
      "image/png": "[encoded data removed]",
      "text/latex": [
       "$\\displaystyle 2 \\sqrt{5}$"
      ],
      "text/plain": [
       "2⋅√5"
      ]
     },
     "metadata": {},
     "output_type": "display_data"
    }
   ],
   "source": [
    "# 6.5 ex 7\n",
    "\n",
    "A = Matrix([[1,-2],[-1,2],[0,3],[2,5]])\n",
    "b = Matrix([3,1,-4,2])\n",
    "display(A,b)\n",
    "\n",
    "X = (A.T*A).row_join(A.T*b).rref()[0][:,-1]\n",
    "display(X)\n",
    "\n",
    "e = (b - A*X).norm()\n",
    "display(e)"
   ]
  },
  {
   "cell_type": "code",
   "execution_count": 140,
   "metadata": {},
   "outputs": [
    {
     "data": {
      "text/latex": [
       "$\\displaystyle \\left[\\begin{matrix}1 & 1 & 0\\\\1 & 0 & -1\\\\0 & 1 & 1\\\\-1 & 1 & -1\\end{matrix}\\right]$"
      ],
      "text/plain": [
       "⎡1   1  0 ⎤\n",
       "⎢         ⎥\n",
       "⎢1   0  -1⎥\n",
       "⎢         ⎥\n",
       "⎢0   1  1 ⎥\n",
       "⎢         ⎥\n",
       "⎣-1  1  -1⎦"
      ]
     },
     "metadata": {},
     "output_type": "display_data"
    },
    {
     "data": {
      "text/latex": [
       "$\\displaystyle \\left[\\begin{matrix}2\\\\5\\\\6\\\\6\\end{matrix}\\right]$"
      ],
      "text/plain": [
       "⎡2⎤\n",
       "⎢ ⎥\n",
       "⎢5⎥\n",
       "⎢ ⎥\n",
       "⎢6⎥\n",
       "⎢ ⎥\n",
       "⎣6⎦"
      ]
     },
     "metadata": {},
     "output_type": "display_data"
    },
    {
     "data": {
      "text/latex": [
       "$\\displaystyle \\left[\\begin{matrix}5\\\\2\\\\3\\\\6\\end{matrix}\\right]$"
      ],
      "text/plain": [
       "⎡5⎤\n",
       "⎢ ⎥\n",
       "⎢2⎥\n",
       "⎢ ⎥\n",
       "⎢3⎥\n",
       "⎢ ⎥\n",
       "⎣6⎦"
      ]
     },
     "metadata": {},
     "output_type": "display_data"
    },
    {
     "data": {
      "text/latex": [
       "$\\displaystyle \\left[\\begin{matrix}\\frac{1}{3}\\\\\\frac{14}{3}\\\\- \\frac{5}{3}\\end{matrix}\\right]$"
      ],
      "text/plain": [
       "⎡1/3 ⎤\n",
       "⎢    ⎥\n",
       "⎢14/3⎥\n",
       "⎢    ⎥\n",
       "⎣-5/3⎦"
      ]
     },
     "metadata": {},
     "output_type": "display_data"
    }
   ],
   "source": [
    "# 6.5 ex 12\n",
    "\n",
    "A = Matrix([[1,1,0],[1,0,-1],[0,1,1],[-1,1,-1]])\n",
    "b = Matrix([2,5,6,6])\n",
    "display(A,b)\n",
    "\n",
    "# a) find the orthogonal projection of b onto ColA\n",
    "a1 = A[:,0]\n",
    "a2 = A[:,1]\n",
    "a3 = A[:,2]\n",
    "display(b.project(a1) + b.project(a2) + b.project(a3))\n",
    "\n",
    "# b) find a least-squares solution of Ax = b\n",
    "X = (A.T*A).row_join(A.T*b).rref()[0][:,-1]\n",
    "display(X)"
   ]
  },
  {
   "cell_type": "code",
   "execution_count": 141,
   "metadata": {
    "scrolled": true
   },
   "outputs": [
    {
     "data": {
      "text/plain": [
       "'Columns are orthonormal => A.T*A = I'"
      ]
     },
     "metadata": {},
     "output_type": "display_data"
    },
    {
     "data": {
      "text/plain": [
       "'Therefore, X = In.row_join(A.T*b)'"
      ]
     },
     "metadata": {},
     "output_type": "display_data"
    },
    {
     "data": {
      "text/plain": [
       "'Therefore, the solution is A.T*b'"
      ]
     },
     "metadata": {},
     "output_type": "display_data"
    }
   ],
   "source": [
    "# 6.5 ex 24\n",
    "\n",
    "# Find a formula for the least-squares solution of Ax=b when the columns of A are orthonormal\n",
    "\n",
    "display(\"Columns are orthonormal => A.T*A = I\")\n",
    "display(\"Therefore, X = In.row_join(A.T*b)\")\n",
    "display(\"Therefore, the solution is A.T*b\")"
   ]
  },
  {
   "cell_type": "code",
   "execution_count": 169,
   "metadata": {},
   "outputs": [
    {
     "data": {
      "text/latex": [
       "$\\displaystyle \\left[\\begin{matrix}1 & 1 & 3\\\\0 & 0 & 0\\end{matrix}\\right]$"
      ],
      "text/plain": [
       "⎡1  1  3⎤\n",
       "⎢       ⎥\n",
       "⎣0  0  0⎦"
      ]
     },
     "metadata": {},
     "output_type": "display_data"
    }
   ],
   "source": [
    "# 6.5 ex 25\n",
    "\n",
    "X = Matrix([[1,1],[1,1]])\n",
    "Y = Matrix([2,4])\n",
    "\n",
    "B = (X.T*X).row_join(X.T*Y).rref()[0]\n",
    "display(B)\n",
    "# solution is [3,0] + x2*[-1,1]"
   ]
  },
  {
   "cell_type": "code",
   "execution_count": 145,
   "metadata": {},
   "outputs": [
    {
     "data": {
      "text/latex": [
       "$\\displaystyle \\left[\\begin{matrix}1 & -1\\\\1 & 0\\\\1 & 1\\\\1 & 2\\end{matrix}\\right]$"
      ],
      "text/plain": [
       "⎡1  -1⎤\n",
       "⎢     ⎥\n",
       "⎢1  0 ⎥\n",
       "⎢     ⎥\n",
       "⎢1  1 ⎥\n",
       "⎢     ⎥\n",
       "⎣1  2 ⎦"
      ]
     },
     "metadata": {},
     "output_type": "display_data"
    },
    {
     "data": {
      "text/latex": [
       "$\\displaystyle \\left[\\begin{matrix}0\\\\1\\\\2\\\\4\\end{matrix}\\right]$"
      ],
      "text/plain": [
       "⎡0⎤\n",
       "⎢ ⎥\n",
       "⎢1⎥\n",
       "⎢ ⎥\n",
       "⎢2⎥\n",
       "⎢ ⎥\n",
       "⎣4⎦"
      ]
     },
     "metadata": {},
     "output_type": "display_data"
    },
    {
     "data": {
      "text/latex": [
       "$\\displaystyle \\left[\\begin{matrix}\\frac{11}{10}\\\\\\frac{13}{10}\\end{matrix}\\right]$"
      ],
      "text/plain": [
       "⎡11⎤\n",
       "⎢──⎥\n",
       "⎢10⎥\n",
       "⎢  ⎥\n",
       "⎢13⎥\n",
       "⎢──⎥\n",
       "⎣10⎦"
      ]
     },
     "metadata": {},
     "output_type": "display_data"
    }
   ],
   "source": [
    "# 6.6 ex 3\n",
    "\n",
    "# Find the equation y = B0 + B1*x\n",
    "a = Matrix([-1,0,1,2])\n",
    "b = Matrix([0,1,2,4])\n",
    "\n",
    "X = Matrix([ones(len(a), 1)]).row_join(a)\n",
    "Y = b\n",
    "display(X,b)\n",
    "\n",
    "B = (X.T*X).row_join(X.T*Y).rref()[0][:,-1]\n",
    "display(B)"
   ]
  },
  {
   "cell_type": "code",
   "execution_count": 146,
   "metadata": {},
   "outputs": [
    {
     "data": {
      "text/latex": [
       "$\\displaystyle \\left[\\begin{matrix}1 & 2\\\\1 & 3\\\\1 & 5\\\\1 & 6\\end{matrix}\\right]$"
      ],
      "text/plain": [
       "⎡1  2⎤\n",
       "⎢    ⎥\n",
       "⎢1  3⎥\n",
       "⎢    ⎥\n",
       "⎢1  5⎥\n",
       "⎢    ⎥\n",
       "⎣1  6⎦"
      ]
     },
     "metadata": {},
     "output_type": "display_data"
    },
    {
     "data": {
      "text/latex": [
       "$\\displaystyle \\left[\\begin{matrix}3\\\\2\\\\1\\\\0\\end{matrix}\\right]$"
      ],
      "text/plain": [
       "⎡3⎤\n",
       "⎢ ⎥\n",
       "⎢2⎥\n",
       "⎢ ⎥\n",
       "⎢1⎥\n",
       "⎢ ⎥\n",
       "⎣0⎦"
      ]
     },
     "metadata": {},
     "output_type": "display_data"
    },
    {
     "data": {
      "text/latex": [
       "$\\displaystyle \\left[\\begin{matrix}\\frac{43}{10}\\\\- \\frac{7}{10}\\end{matrix}\\right]$"
      ],
      "text/plain": [
       "⎡ 43  ⎤\n",
       "⎢ ──  ⎥\n",
       "⎢ 10  ⎥\n",
       "⎢     ⎥\n",
       "⎣-7/10⎦"
      ]
     },
     "metadata": {},
     "output_type": "display_data"
    }
   ],
   "source": [
    "# 6.6 ex 4\n",
    "\n",
    "# Find the equation y = B0 + B1*x\n",
    "a = Matrix([2,3,5,6])\n",
    "b = Matrix([3,2,1,0])\n",
    "\n",
    "X = Matrix([ones(len(a), 1)]).row_join(a)\n",
    "Y = b\n",
    "display(X,b)\n",
    "\n",
    "B = (X.T*X).row_join(X.T*Y).rref()[0][:,-1]\n",
    "display(B)"
   ]
  },
  {
   "cell_type": "code",
   "execution_count": 151,
   "metadata": {},
   "outputs": [
    {
     "data": {
      "text/latex": [
       "$\\displaystyle \\left[\\begin{matrix}1 & 1\\\\2 & 4\\\\3 & 9\\\\4 & 16\\\\5 & 25\\end{matrix}\\right]$"
      ],
      "text/plain": [
       "⎡1  1 ⎤\n",
       "⎢     ⎥\n",
       "⎢2  4 ⎥\n",
       "⎢     ⎥\n",
       "⎢3  9 ⎥\n",
       "⎢     ⎥\n",
       "⎢4  16⎥\n",
       "⎢     ⎥\n",
       "⎣5  25⎦"
      ]
     },
     "metadata": {},
     "output_type": "display_data"
    },
    {
     "data": {
      "text/latex": [
       "$\\displaystyle \\left[\\begin{matrix}1.8\\\\2.7\\\\3.4\\\\3.8\\\\3.9\\end{matrix}\\right]$"
      ],
      "text/plain": [
       "⎡1.8⎤\n",
       "⎢   ⎥\n",
       "⎢2.7⎥\n",
       "⎢   ⎥\n",
       "⎢3.4⎥\n",
       "⎢   ⎥\n",
       "⎢3.8⎥\n",
       "⎢   ⎥\n",
       "⎣3.9⎦"
      ]
     },
     "metadata": {},
     "output_type": "display_data"
    },
    {
     "data": {
      "text/latex": [
       "$\\displaystyle \\left[\\begin{matrix}B_{1}\\\\B_{2}\\end{matrix}\\right]$"
      ],
      "text/plain": [
       "⎡B₁⎤\n",
       "⎢  ⎥\n",
       "⎣B₂⎦"
      ]
     },
     "metadata": {},
     "output_type": "display_data"
    },
    {
     "data": {
      "text/latex": [
       "$\\displaystyle \\left[\\begin{matrix}1.76037267080745\\\\-0.198757763975155\\end{matrix}\\right]$"
      ],
      "text/plain": [
       "⎡ 1.76037267080745 ⎤\n",
       "⎢                  ⎥\n",
       "⎣-0.198757763975155⎦"
      ]
     },
     "metadata": {},
     "output_type": "display_data"
    }
   ],
   "source": [
    "# 6.6 ex 7\n",
    "\n",
    "# Find the equation y = B1*x + B2*x**2\n",
    "a = Matrix([1,2,3,4,5])\n",
    "b = Matrix([1.8,2.7,3.4,3.8,3.9])\n",
    "\n",
    "# a) Find the design matrix, the obs vector and the unknown parameter vector\n",
    "asquare = Matrix([1**2,2**2,3**2,4**2,5**2])\n",
    "B1 = Symbol('B1')\n",
    "B2 = Symbol('B2')\n",
    "X = a.row_join(asquare)\n",
    "Y = b\n",
    "B = Matrix([B1,B2])\n",
    "display(X,Y,B)\n",
    "\n",
    "# b) Find B1 and B2\n",
    "B = (X.T*X).row_join(X.T*Y).rref()[0][:,-1]\n",
    "display(B)"
   ]
  },
  {
   "cell_type": "code",
   "execution_count": 2,
   "metadata": {},
   "outputs": [
    {
     "ename": "NameError",
     "evalue": "name 'Matrix' is not defined",
     "output_type": "error",
     "traceback": [
      "\u001b[1;31m---------------------------------------------------------------------------\u001b[0m",
      "\u001b[1;31mNameError\u001b[0m                                 Traceback (most recent call last)",
      "\u001b[1;32m<ipython-input-2-96ff8bddf002>\u001b[0m in \u001b[0;36m<module>\u001b[1;34m\u001b[0m\n\u001b[0;32m      1\u001b[0m \u001b[1;31m# 6.6 ex 13\u001b[0m\u001b[1;33m\u001b[0m\u001b[1;33m\u001b[0m\u001b[1;33m\u001b[0m\u001b[0m\n\u001b[0;32m      2\u001b[0m \u001b[1;33m\u001b[0m\u001b[0m\n\u001b[1;32m----> 3\u001b[1;33m \u001b[0mt\u001b[0m \u001b[1;33m=\u001b[0m \u001b[0mMatrix\u001b[0m\u001b[1;33m(\u001b[0m\u001b[1;33m[\u001b[0m\u001b[1;36m0\u001b[0m\u001b[1;33m,\u001b[0m\u001b[1;36m1\u001b[0m\u001b[1;33m,\u001b[0m\u001b[1;36m2\u001b[0m\u001b[1;33m,\u001b[0m\u001b[1;36m3\u001b[0m\u001b[1;33m,\u001b[0m\u001b[1;36m4\u001b[0m\u001b[1;33m,\u001b[0m\u001b[1;36m5\u001b[0m\u001b[1;33m,\u001b[0m\u001b[1;36m6\u001b[0m\u001b[1;33m,\u001b[0m\u001b[1;36m7\u001b[0m\u001b[1;33m,\u001b[0m\u001b[1;36m8\u001b[0m\u001b[1;33m,\u001b[0m\u001b[1;36m9\u001b[0m\u001b[1;33m,\u001b[0m\u001b[1;36m10\u001b[0m\u001b[1;33m,\u001b[0m\u001b[1;36m11\u001b[0m\u001b[1;33m,\u001b[0m\u001b[1;36m12\u001b[0m\u001b[1;33m]\u001b[0m\u001b[1;33m)\u001b[0m\u001b[1;33m\u001b[0m\u001b[1;33m\u001b[0m\u001b[0m\n\u001b[0m\u001b[0;32m      4\u001b[0m \u001b[0mp\u001b[0m \u001b[1;33m=\u001b[0m \u001b[0mMatrix\u001b[0m\u001b[1;33m(\u001b[0m\u001b[1;33m[\u001b[0m\u001b[1;36m0\u001b[0m\u001b[1;33m,\u001b[0m\u001b[1;36m8.8\u001b[0m\u001b[1;33m,\u001b[0m\u001b[1;36m29.9\u001b[0m\u001b[1;33m,\u001b[0m\u001b[1;36m62\u001b[0m\u001b[1;33m,\u001b[0m\u001b[1;36m104.7\u001b[0m\u001b[1;33m,\u001b[0m\u001b[1;36m159.1\u001b[0m\u001b[1;33m,\u001b[0m\u001b[1;36m222\u001b[0m\u001b[1;33m,\u001b[0m\u001b[1;36m294.5\u001b[0m\u001b[1;33m,\u001b[0m\u001b[1;36m380.4\u001b[0m\u001b[1;33m,\u001b[0m\u001b[1;36m471.1\u001b[0m\u001b[1;33m,\u001b[0m\u001b[1;36m571.7\u001b[0m\u001b[1;33m,\u001b[0m\u001b[1;36m686.8\u001b[0m\u001b[1;33m,\u001b[0m\u001b[1;36m809.2\u001b[0m\u001b[1;33m]\u001b[0m\u001b[1;33m)\u001b[0m\u001b[1;33m\u001b[0m\u001b[1;33m\u001b[0m\u001b[0m\n\u001b[0;32m      5\u001b[0m \u001b[1;33m\u001b[0m\u001b[0m\n",
      "\u001b[1;31mNameError\u001b[0m: name 'Matrix' is not defined"
     ]
    }
   ],
   "source": [
    "# 6.6 ex 13\n",
    "\n",
    "t = Matrix([0,1,2,3,4,5,6,7,8,9,10,11,12])\n",
    "p = Matrix([0,8.8,29.9,62,104.7,159.1,222,294.5,380.4,471.1,571.7,686.8,809.2])\n",
    "\n",
    "# a) Find the least-square curve y = B0 + B1*t + B2*t**2 + B3*t**3\n",
    "tsquare = Matrix([0**2,1**2,2**2,3**2,4**2,5**2,6**2,7**2,8**2,9**2,10**2,11**2,12**2])\n",
    "tcube = Matrix([0**3,1**3,2**3,3**3,4**3,5**3,6**3,7**3,8**3,9**3,10**3,11**3,12**3])\n",
    "\n",
    "X = Matrix([ones(len(t),1)]).row_join(t).row_join(tsquare).row_join(tcube)\n",
    "Y = p\n",
    "display(X,Y)\n",
    "display(len(t), 1)\n",
    "B = (X.T*X).row_join(X.T*Y).rref()[0][:,-1]\n",
    "display(B)\n",
    "\n",
    "# b) Use the result from a) to estimate p when t = 4.5\n",
    "B0 = B[0]\n",
    "B1 = B[1]\n",
    "B2 = B[2]\n",
    "B3 = B[3]\n",
    "t = 4.5\n",
    "\n",
    "p = B1 + 2*B2*t + 3*B3*t**2\n",
    "display(p)"
   ]
  },
  {
   "cell_type": "code",
   "execution_count": null,
   "metadata": {},
   "outputs": [],
   "source": []
  }
 ],
 "metadata": {
  "kernelspec": {
   "display_name": "Python 3",
   "language": "python",
   "name": "python3"
  },
  "language_info": {
   "codemirror_mode": {
    "name": "ipython",
    "version": 3
   },
   "file_extension": ".py",
   "mimetype": "text/x-python",
   "name": "python",
   "nbconvert_exporter": "python",
   "pygments_lexer": "ipython3",
   "version": "3.7.4"
  }
 },
 "nbformat": 4,
 "nbformat_minor": 2
}
