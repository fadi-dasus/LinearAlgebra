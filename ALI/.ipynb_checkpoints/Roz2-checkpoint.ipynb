{
 "cells": [
  {
   "cell_type": "code",
   "execution_count": 2,
   "metadata": {},
   "outputs": [],
   "source": [
    "import sympy as sp\n",
    "from sympy import *\n",
    "init_printing()"
   ]
  },
  {
   "cell_type": "code",
   "execution_count": 112,
   "metadata": {},
   "outputs": [
    {
     "data": {
      "text/latex": [
       "$\\displaystyle \\left[\\begin{matrix}1 & 5 & - a\\\\a & - a & a\\\\2 & 13 & -7\\end{matrix}\\right]$"
      ],
      "text/plain": [
       "⎡1  5   -a⎤\n",
       "⎢         ⎥\n",
       "⎢a  -a  a ⎥\n",
       "⎢         ⎥\n",
       "⎣2  13  -7⎦"
      ]
     },
     "metadata": {},
     "output_type": "display_data"
    },
    {
     "data": {
      "image/png": "[encoded data removed]",
      "text/latex": [
       "$\\displaystyle a \\left(35 - 13 a\\right) - a \\left(2 a - 7\\right) - 3 a$"
      ],
      "text/plain": [
       "a⋅(35 - 13⋅a) - a⋅(2⋅a - 7) - 3⋅a"
      ]
     },
     "metadata": {},
     "output_type": "display_data"
    },
    {
     "data": {
      "image/png": "[encoded data removed]",
      "text/latex": [
       "$\\displaystyle \\left[ - \\frac{2}{5}, \\  3\\right]$"
      ],
      "text/plain": [
       "[-2/5, 3]"
      ]
     },
     "metadata": {},
     "output_type": "display_data"
    },
    {
     "data": {
      "image/png": "[encoded data removed]",
      "text/latex": [
       "$\\displaystyle \\left[ - \\frac{2}{5}, \\  3\\right]$"
      ],
      "text/plain": [
       "[-2/5, 3]"
      ]
     },
     "metadata": {},
     "output_type": "display_data"
    }
   ],
   "source": [
    "# Re-Exam 2014 ex 3\n",
    "\n",
    "a = Symbol('a')\n",
    "A = Matrix([[1,5,-a],[a,-a,a],[2,13,-7]])\n",
    "display(A)\n",
    "\n",
    "# doing coexpansion on the second row\n",
    "detA = A[1,0]*A.cofactor(1,0) + A[1,1]*A.cofactor(1,1) + A[1,2]*A.cofactor(1,2)\n",
    "display(detA)\n",
    "display(solve(detA+18,a))\n",
    "\n",
    "# for testing purposes\n",
    "display(solve(A.det()+18,a))"
   ]
  },
  {
   "cell_type": "code",
   "execution_count": 187,
   "metadata": {},
   "outputs": [
    {
     "data": {
      "image/png": "[encoded data removed]",
      "text/latex": [
       "$\\displaystyle 0$"
      ],
      "text/plain": [
       "0"
      ]
     },
     "metadata": {},
     "output_type": "display_data"
    },
    {
     "data": {
      "image/png": "[encoded data removed]",
      "text/latex": [
       "$\\displaystyle 0$"
      ],
      "text/plain": [
       "0"
      ]
     },
     "metadata": {},
     "output_type": "display_data"
    },
    {
     "data": {
      "image/png": "[encoded data removed]",
      "text/latex": [
       "$\\displaystyle 0$"
      ],
      "text/plain": [
       "0"
      ]
     },
     "metadata": {},
     "output_type": "display_data"
    },
    {
     "data": {
      "image/png": "[encoded data removed]",
      "text/latex": [
       "$\\displaystyle 0$"
      ],
      "text/plain": [
       "0"
      ]
     },
     "metadata": {},
     "output_type": "display_data"
    },
    {
     "data": {
      "image/png": "[encoded data removed]",
      "text/latex": [
       "$\\displaystyle 0$"
      ],
      "text/plain": [
       "0"
      ]
     },
     "metadata": {},
     "output_type": "display_data"
    },
    {
     "data": {
      "image/png": "[encoded data removed]",
      "text/latex": [
       "$\\displaystyle 0$"
      ],
      "text/plain": [
       "0"
      ]
     },
     "metadata": {},
     "output_type": "display_data"
    },
    {
     "data": {
      "text/latex": [
       "$\\displaystyle \\left[\\begin{matrix}\\frac{17}{7}\\\\\\frac{9}{7}\\\\\\frac{12}{7}\\\\\\frac{2}{7}\\end{matrix}\\right]$"
      ],
      "text/plain": [
       "⎡17/7⎤\n",
       "⎢    ⎥\n",
       "⎢9/7 ⎥\n",
       "⎢    ⎥\n",
       "⎢12/7⎥\n",
       "⎢    ⎥\n",
       "⎣2/7 ⎦"
      ]
     },
     "metadata": {},
     "output_type": "display_data"
    },
    {
     "data": {
      "text/latex": [
       "$\\displaystyle \\left[\\begin{matrix}\\frac{11}{7}\\\\\\frac{5}{7}\\\\- \\frac{19}{7}\\\\- \\frac{2}{7}\\end{matrix}\\right]$"
      ],
      "text/plain": [
       "⎡11/7 ⎤\n",
       "⎢     ⎥\n",
       "⎢ 5/7 ⎥\n",
       "⎢     ⎥\n",
       "⎢-19/7⎥\n",
       "⎢     ⎥\n",
       "⎣-2/7 ⎦"
      ]
     },
     "metadata": {},
     "output_type": "display_data"
    }
   ],
   "source": [
    "# Re-Exam 2014 ex 4\n",
    "\n",
    "u1 = Matrix([1,2,1,1,])\n",
    "u2 = Matrix([-2,1,-1,1])\n",
    "u3 = Matrix([1,1,-2,-1])\n",
    "u4 = Matrix([-1,1,1,-2])\n",
    "v = Matrix([4,2,-1,0])\n",
    "\n",
    "# a) show that {u1,u2,u3,u4} is an orthogonal basis for R4 using inner product\n",
    "# it means that the inner product must be 0\n",
    "display(u1.dot(u2))\n",
    "display(u1.dot(u3))\n",
    "display(u1.dot(u4))\n",
    "display(u2.dot(u3))\n",
    "display(u2.dot(u4))\n",
    "display(u3.dot(u4))\n",
    "# or put them in a matrix U = [u1 u2 u3 u4] and compute U.T*U. \n",
    "# If the result is scalar*I => thet are othogonal\n",
    "\n",
    "# b) write 'v' as a sum of two vectors, one in span{u1,u2}, the other in span {u3,u4}\n",
    "# OBS: projection of 'v' into 'u' is proj(v,u)\n",
    "display(v.project(u1) + v.project(u2))\n",
    "display(v.project(u3) + v.project(u4))"
   ]
  },
  {
   "cell_type": "code",
   "execution_count": 188,
   "metadata": {},
   "outputs": [
    {
     "data": {
      "image/png": "[encoded data removed]",
      "text/latex": [
       "$\\displaystyle 0$"
      ],
      "text/plain": [
       "0"
      ]
     },
     "metadata": {},
     "output_type": "display_data"
    },
    {
     "data": {
      "image/png": "[encoded data removed]",
      "text/latex": [
       "$\\displaystyle 0$"
      ],
      "text/plain": [
       "0"
      ]
     },
     "metadata": {},
     "output_type": "display_data"
    },
    {
     "data": {
      "image/png": "[encoded data removed]",
      "text/latex": [
       "$\\displaystyle 1$"
      ],
      "text/plain": [
       "1"
      ]
     },
     "metadata": {},
     "output_type": "display_data"
    },
    {
     "data": {
      "image/png": "[encoded data removed]",
      "text/latex": [
       "$\\displaystyle 0$"
      ],
      "text/plain": [
       "0"
      ]
     },
     "metadata": {},
     "output_type": "display_data"
    },
    {
     "data": {
      "image/png": "[encoded data removed]",
      "text/latex": [
       "$\\displaystyle 1$"
      ],
      "text/plain": [
       "1"
      ]
     },
     "metadata": {},
     "output_type": "display_data"
    },
    {
     "data": {
      "image/png": "[encoded data removed]",
      "text/latex": [
       "$\\displaystyle -1$"
      ],
      "text/plain": [
       "-1"
      ]
     },
     "metadata": {},
     "output_type": "display_data"
    },
    {
     "data": {
      "image/png": "[encoded data removed]",
      "text/latex": [
       "$\\displaystyle \\left[ -2\\right]$"
      ],
      "text/plain": [
       "[-2]"
      ]
     },
     "metadata": {},
     "output_type": "display_data"
    },
    {
     "data": {
      "text/latex": [
       "$\\displaystyle \\left[\\begin{matrix}\\frac{17}{7}\\\\\\frac{9}{7}\\\\\\frac{12}{7}\\\\\\frac{2}{7}\\end{matrix}\\right]$"
      ],
      "text/plain": [
       "⎡17/7⎤\n",
       "⎢    ⎥\n",
       "⎢9/7 ⎥\n",
       "⎢    ⎥\n",
       "⎢12/7⎥\n",
       "⎢    ⎥\n",
       "⎣2/7 ⎦"
      ]
     },
     "metadata": {},
     "output_type": "display_data"
    },
    {
     "data": {
      "text/latex": [
       "$\\displaystyle \\left[\\begin{matrix}\\frac{11}{7}\\\\\\frac{5}{7}\\\\- \\frac{19}{7}\\\\- \\frac{2}{7}\\end{matrix}\\right]$"
      ],
      "text/plain": [
       "⎡11/7 ⎤\n",
       "⎢     ⎥\n",
       "⎢ 5/7 ⎥\n",
       "⎢     ⎥\n",
       "⎢-19/7⎥\n",
       "⎢     ⎥\n",
       "⎣-2/7 ⎦"
      ]
     },
     "metadata": {},
     "output_type": "display_data"
    }
   ],
   "source": [
    "# Exam 2014 ex 4\n",
    "\n",
    "u1 = Matrix([1,2,1,1,])\n",
    "u2 = Matrix([-2,1,-1,1])\n",
    "u3 = Matrix([1,1,-2,-1])\n",
    "u4 = Matrix([-1,1,1,-1])\n",
    "v = Matrix([4,2,-1,0])\n",
    "\n",
    "# a) show that {u1,u2,u3,u4} is an orthogonal basis for R4 using inner product\n",
    "# it means that the inner product must be 0\n",
    "display(u1.dot(u2))\n",
    "display(u1.dot(u3))\n",
    "display(u1.dot(u4))\n",
    "display(u2.dot(u3))\n",
    "display(u2.dot(u4))\n",
    "display(u3.dot(u4))\n",
    "# it is not 0 => they don't form an orthogonal basis for R4\n",
    "# we need to bring u4 to a form where is orthogonal to the others\n",
    "x = Symbol('x')\n",
    "u4 = Matrix([-1,1,1,x])\n",
    "display(solve(u1.dot(u4),x))\n",
    "# x = -2\n",
    "u4 = Matrix([-1,1,1,-2])\n",
    "\n",
    "# b) write 'v' as a sum of two vectors, one in span{u1,u2}, the other in span {u3,u4}\n",
    "# OBS: projection of 'v' into 'u' is proj(v,u)\n",
    "display(v.project(u1) + v.project(u2))\n",
    "display(v.project(u3) + v.project(u4))"
   ]
  },
  {
   "cell_type": "code",
   "execution_count": 189,
   "metadata": {},
   "outputs": [
    {
     "data": {
      "text/latex": [
       "$\\displaystyle \\left( \\left[\\begin{matrix}1 & 0 & 0\\\\0 & 1 & 0\\\\0 & 0 & 1\\end{matrix}\\right], \\  \\left( 0, \\  1, \\  2\\right)\\right)$"
      ],
      "text/plain": [
       "⎛⎡1  0  0⎤           ⎞\n",
       "⎜⎢       ⎥           ⎟\n",
       "⎜⎢0  1  0⎥, (0, 1, 2)⎟\n",
       "⎜⎢       ⎥           ⎟\n",
       "⎝⎣0  0  1⎦           ⎠"
      ]
     },
     "metadata": {},
     "output_type": "display_data"
    },
    {
     "data": {
      "image/png": "[encoded data removed]",
      "text/latex": [
       "$\\displaystyle 0$"
      ],
      "text/plain": [
       "0"
      ]
     },
     "metadata": {},
     "output_type": "display_data"
    },
    {
     "data": {
      "image/png": "[encoded data removed]",
      "text/latex": [
       "$\\displaystyle 0$"
      ],
      "text/plain": [
       "0"
      ]
     },
     "metadata": {},
     "output_type": "display_data"
    },
    {
     "data": {
      "image/png": "[encoded data removed]",
      "text/latex": [
       "$\\displaystyle 0$"
      ],
      "text/plain": [
       "0"
      ]
     },
     "metadata": {},
     "output_type": "display_data"
    },
    {
     "data": {
      "text/latex": [
       "$\\displaystyle \\left[\\begin{matrix}2 & 0 & 0\\\\0 & 18 & 0\\\\0 & 0 & 9\\end{matrix}\\right]$"
      ],
      "text/plain": [
       "⎡2  0   0⎤\n",
       "⎢        ⎥\n",
       "⎢0  18  0⎥\n",
       "⎢        ⎥\n",
       "⎣0  0   9⎦"
      ]
     },
     "metadata": {},
     "output_type": "display_data"
    },
    {
     "data": {
      "text/latex": [
       "$\\displaystyle \\left[\\begin{matrix}4\\\\-6\\\\1\\end{matrix}\\right]$"
      ],
      "text/plain": [
       "⎡4 ⎤\n",
       "⎢  ⎥\n",
       "⎢-6⎥\n",
       "⎢  ⎥\n",
       "⎣1 ⎦"
      ]
     },
     "metadata": {},
     "output_type": "display_data"
    },
    {
     "data": {
      "text/latex": [
       "$\\displaystyle \\left[\\begin{matrix}4\\\\2\\\\-4\\end{matrix}\\right]$"
      ],
      "text/plain": [
       "⎡4 ⎤\n",
       "⎢  ⎥\n",
       "⎢2 ⎥\n",
       "⎢  ⎥\n",
       "⎣-4⎦"
      ]
     },
     "metadata": {},
     "output_type": "display_data"
    }
   ],
   "source": [
    "# Exam 2016 ex 4\n",
    "\n",
    "u1 = Matrix([1,0,1])\n",
    "u2 = Matrix([-1,4,1])\n",
    "u3 = Matrix([2,1,-2])\n",
    "x = Matrix([8,-4,-3])\n",
    "\n",
    "# a) show that {u1,u2,u3} is a lineary independent set\n",
    "# we must have pivots in all columns\n",
    "display(Matrix([[1,-1,2], [0,4,1], [1,1,-2]]).rref())\n",
    "\n",
    "# b) show that {u1,u2,u3} is an orthogonal basis for R3\n",
    "# the inner product must be 0\n",
    "display(u1.dot(u2))\n",
    "display(u1.dot(u3))\n",
    "display(u2.dot(u3))\n",
    "#or\n",
    "U = Matrix([[1,-1,2], [0,4,1], [1,1,-2]])\n",
    "display(U.T*U)\n",
    "\n",
    "# c) write 'x' as a sum of to vectors, one in span{u1,u2}, one in span{u3}\n",
    "display(x.project(u1) + x.project(u2))\n",
    "display(x.project(u3))"
   ]
  },
  {
   "cell_type": "code",
   "execution_count": 193,
   "metadata": {},
   "outputs": [
    {
     "data": {
      "text/latex": [
       "$\\displaystyle \\left[\\begin{matrix}3 & 2 & 2\\\\2 & 5 & 2\\\\2 & 2 & -1\\end{matrix}\\right]$"
      ],
      "text/plain": [
       "⎡3  2  2 ⎤\n",
       "⎢        ⎥\n",
       "⎢2  5  2 ⎥\n",
       "⎢        ⎥\n",
       "⎣2  2  -1⎦"
      ]
     },
     "metadata": {},
     "output_type": "display_data"
    },
    {
     "data": {
      "text/latex": [
       "$\\displaystyle \\left( \\left[\\begin{matrix}1 & 0 & 0\\\\0 & 1 & 0\\\\0 & 0 & 1\\end{matrix}\\right], \\  \\left( 0, \\  1, \\  2\\right)\\right)$"
      ],
      "text/plain": [
       "⎛⎡1  0  0⎤           ⎞\n",
       "⎜⎢       ⎥           ⎟\n",
       "⎜⎢0  1  0⎥, (0, 1, 2)⎟\n",
       "⎜⎢       ⎥           ⎟\n",
       "⎝⎣0  0  1⎦           ⎠"
      ]
     },
     "metadata": {},
     "output_type": "display_data"
    },
    {
     "data": {
      "text/latex": [
       "$\\displaystyle \\left( \\left[\\begin{matrix}1 & 1 & 1\\\\0 & 0 & 0\\\\0 & 0 & 0\\end{matrix}\\right], \\  \\left( 0\\right)\\right)$"
      ],
      "text/plain": [
       "⎛⎡1  1  1⎤      ⎞\n",
       "⎜⎢       ⎥      ⎟\n",
       "⎜⎢0  0  0⎥, (0,)⎟\n",
       "⎜⎢       ⎥      ⎟\n",
       "⎝⎣0  0  0⎦      ⎠"
      ]
     },
     "metadata": {},
     "output_type": "display_data"
    },
    {
     "data": {
      "text/latex": [
       "$\\displaystyle \\left[ \\left[\\begin{matrix}1\\\\1\\\\1\\end{matrix}\\right]\\right]$"
      ],
      "text/plain": [
       "⎡⎡1⎤⎤\n",
       "⎢⎢ ⎥⎥\n",
       "⎢⎢1⎥⎥\n",
       "⎢⎢ ⎥⎥\n",
       "⎣⎣1⎦⎦"
      ]
     },
     "metadata": {},
     "output_type": "display_data"
    },
    {
     "data": {
      "text/latex": [
       "$\\displaystyle \\left[ \\left[\\begin{matrix}-1\\\\1\\\\0\\end{matrix}\\right], \\  \\left[\\begin{matrix}-1\\\\0\\\\1\\end{matrix}\\right]\\right]$"
      ],
      "text/plain": [
       "⎡⎡-1⎤  ⎡-1⎤⎤\n",
       "⎢⎢  ⎥  ⎢  ⎥⎥\n",
       "⎢⎢1 ⎥, ⎢0 ⎥⎥\n",
       "⎢⎢  ⎥  ⎢  ⎥⎥\n",
       "⎣⎣0 ⎦  ⎣1 ⎦⎦"
      ]
     },
     "metadata": {},
     "output_type": "display_data"
    },
    {
     "data": {
      "image/png": "[encoded data removed]",
      "text/latex": [
       "$\\displaystyle \\lambda^{2} \\left(\\lambda - 3\\right)$"
      ],
      "text/plain": [
       " 2        \n",
       "λ ⋅(λ - 3)"
      ]
     },
     "metadata": {},
     "output_type": "display_data"
    },
    {
     "data": {
      "image/png": "[encoded data removed]",
      "text/latex": [
       "$\\displaystyle \\left[ 0, \\  3\\right]$"
      ],
      "text/plain": [
       "[0, 3]"
      ]
     },
     "metadata": {},
     "output_type": "display_data"
    },
    {
     "data": {
      "text/latex": [
       "$\\displaystyle \\left[ \\left( 0, \\  2, \\  \\left[ \\left[\\begin{matrix}-1\\\\1\\\\0\\end{matrix}\\right], \\  \\left[\\begin{matrix}-1\\\\0\\\\1\\end{matrix}\\right]\\right]\\right), \\  \\left( 3, \\  1, \\  \\left[ \\left[\\begin{matrix}1\\\\1\\\\1\\end{matrix}\\right]\\right]\\right)\\right]$"
      ],
      "text/plain": [
       "⎡⎛      ⎡⎡-1⎤  ⎡-1⎤⎤⎞  ⎛      ⎡⎡1⎤⎤⎞⎤\n",
       "⎢⎜      ⎢⎢  ⎥  ⎢  ⎥⎥⎟  ⎜      ⎢⎢ ⎥⎥⎟⎥\n",
       "⎢⎜0, 2, ⎢⎢1 ⎥, ⎢0 ⎥⎥⎟, ⎜3, 1, ⎢⎢1⎥⎥⎟⎥\n",
       "⎢⎜      ⎢⎢  ⎥  ⎢  ⎥⎥⎟  ⎜      ⎢⎢ ⎥⎥⎟⎥\n",
       "⎣⎝      ⎣⎣0 ⎦  ⎣1 ⎦⎦⎠  ⎝      ⎣⎣1⎦⎦⎠⎦"
      ]
     },
     "metadata": {},
     "output_type": "display_data"
    }
   ],
   "source": [
    "# Re-Exam 2016 ex 2\n",
    "\n",
    "A = Matrix([[1,0,0],[0,3,0],[0,0,-3]])\n",
    "B = Matrix([[1,1,1],[1,1,1],[1,1,1]])\n",
    "\n",
    "# a) solve X+A = 2(X-B)\n",
    "display(A+2*B)\n",
    "\n",
    "# b) find the rank and nullity of A\n",
    "# 3 pivots => rank = 3; \n",
    "# dimNulA = n - rank = 3 - 3 = 0\n",
    "display(A.rref())\n",
    "\n",
    "# c) find the rank and nullity of B, find a basis for ColB and a basis for NullB\n",
    "# 1 pivot => rank = 1; \n",
    "# dimNulA = n - rank = 3 - 1 = 2\n",
    "display(B.rref())\n",
    "\n",
    "# basis for ColB\n",
    "display(B.columnspace())\n",
    "\n",
    "# basis for NullB\n",
    "display(B.nullspace())\n",
    "\n",
    "# d) find the char. polynomial of B and use it to find eigenvalues of B\n",
    "display(factor(B.charpoly().as_expr()))\n",
    "display(solve(B.charpoly().as_expr()))\n",
    "\n",
    "# to see the multiplicity\n",
    "display(B.eigenvects())"
   ]
  },
  {
   "cell_type": "code",
   "execution_count": 116,
   "metadata": {},
   "outputs": [
    {
     "data": {
      "image/png": "[encoded data removed]",
      "text/latex": [
       "$\\displaystyle 5$"
      ],
      "text/plain": [
       "5"
      ]
     },
     "metadata": {},
     "output_type": "display_data"
    },
    {
     "data": {
      "image/png": "[encoded data removed]",
      "text/latex": [
       "$\\displaystyle 8$"
      ],
      "text/plain": [
       "8"
      ]
     },
     "metadata": {},
     "output_type": "display_data"
    },
    {
     "data": {
      "image/png": "[encoded data removed]",
      "text/latex": [
       "$\\displaystyle \\frac{8}{5}$"
      ],
      "text/plain": [
       "8/5"
      ]
     },
     "metadata": {},
     "output_type": "display_data"
    }
   ],
   "source": [
    "# 6.1 ex 1\n",
    "\n",
    "u = Matrix([-1,2])\n",
    "v = Matrix([4,6])\n",
    "\n",
    "display(u.dot(u))\n",
    "display(v.dot(u))\n",
    "display(v.dot(u)/u.dot(u))"
   ]
  },
  {
   "cell_type": "code",
   "execution_count": 1,
   "metadata": {},
   "outputs": [
    {
     "ename": "NameError",
     "evalue": "name 'Matrix' is not defined",
     "output_type": "error",
     "traceback": [
      "\u001b[1;31m---------------------------------------------------------------------------\u001b[0m",
      "\u001b[1;31mNameError\u001b[0m                                 Traceback (most recent call last)",
      "\u001b[1;32m<ipython-input-1-2a5398f7b09e>\u001b[0m in \u001b[0;36m<module>\u001b[1;34m\u001b[0m\n\u001b[0;32m      1\u001b[0m \u001b[1;31m# 6.1 ex 11\u001b[0m\u001b[1;33m\u001b[0m\u001b[1;33m\u001b[0m\u001b[1;33m\u001b[0m\u001b[0m\n\u001b[0;32m      2\u001b[0m \u001b[1;33m\u001b[0m\u001b[0m\n\u001b[1;32m----> 3\u001b[1;33m \u001b[0mu\u001b[0m \u001b[1;33m=\u001b[0m \u001b[0mMatrix\u001b[0m\u001b[1;33m(\u001b[0m\u001b[1;33m[\u001b[0m\u001b[1;36m7\u001b[0m\u001b[1;33m/\u001b[0m\u001b[1;36m4\u001b[0m\u001b[1;33m,\u001b[0m\u001b[1;36m1\u001b[0m\u001b[1;33m/\u001b[0m\u001b[1;36m2\u001b[0m\u001b[1;33m,\u001b[0m\u001b[1;36m1\u001b[0m\u001b[1;33m]\u001b[0m\u001b[1;33m)\u001b[0m\u001b[1;33m\u001b[0m\u001b[1;33m\u001b[0m\u001b[0m\n\u001b[0m\u001b[0;32m      4\u001b[0m \u001b[0mdisplay\u001b[0m\u001b[1;33m(\u001b[0m\u001b[0mu\u001b[0m\u001b[1;33m.\u001b[0m\u001b[0mnormalized\u001b[0m\u001b[1;33m(\u001b[0m\u001b[1;33m)\u001b[0m\u001b[1;33m)\u001b[0m\u001b[1;33m\u001b[0m\u001b[1;33m\u001b[0m\u001b[0m\n",
      "\u001b[1;31mNameError\u001b[0m: name 'Matrix' is not defined"
     ]
    }
   ],
   "source": [
    "# 6.1 ex 11\n",
    "\n",
    "u = Matrix([7/4,1/2,1])\n",
    "display(u.normalized())"
   ]
  },
  {
   "cell_type": "code",
   "execution_count": 118,
   "metadata": {},
   "outputs": [
    {
     "data": {
      "image/png": "[encoded data removed]",
      "text/latex": [
       "$\\displaystyle 5 \\sqrt{5}$"
      ],
      "text/plain": [
       "5⋅√5"
      ]
     },
     "metadata": {},
     "output_type": "display_data"
    }
   ],
   "source": [
    "# 6.1 ex 13\n",
    "\n",
    "x = Matrix([10,-3])\n",
    "y = Matrix([-1,-5])\n",
    "\n",
    "u = x - y\n",
    "display(u.norm())"
   ]
  },
  {
   "cell_type": "code",
   "execution_count": 119,
   "metadata": {},
   "outputs": [
    {
     "name": "stdout",
     "output_type": "stream",
     "text": [
      "The dot product is -1 therefore the vectors are not orthogonal.\n"
     ]
    }
   ],
   "source": [
    "# 6.1 ex 15\n",
    "\n",
    "a = Matrix([8,-5])\n",
    "b = Matrix([-2,-3])\n",
    "\n",
    "result = a.dot(b)\n",
    "if result == 0:\n",
    "    print(\"The dot product is 0, therefore the vectors are orthogonal.\")\n",
    "else:\n",
    "    print(\"The dot product is\", result, \"therefore the vectors are not orthogonal.\")"
   ]
  },
  {
   "cell_type": "code",
   "execution_count": 120,
   "metadata": {},
   "outputs": [
    {
     "name": "stdout",
     "output_type": "stream",
     "text": [
      "The dot product is 0, therefore the vectors are orthogonal.\n"
     ]
    }
   ],
   "source": [
    "# 6.1 ex 16\n",
    "\n",
    "u = Matrix([12,3,-5])\n",
    "v = Matrix([2,-3,3])\n",
    "\n",
    "result = u.dot(v)\n",
    "if result == 0:\n",
    "    print(\"The dot product is 0, therefore the vectors are orthogonal.\")\n",
    "else:\n",
    "    print(\"The dot product is\", result, \"therefore the vectors are not orthogonal.\")"
   ]
  },
  {
   "cell_type": "code",
   "execution_count": 121,
   "metadata": {},
   "outputs": [
    {
     "name": "stdout",
     "output_type": "stream",
     "text": [
      "The dot product is 0, therefore the vectors are orthogonal.\n"
     ]
    }
   ],
   "source": [
    "# 6.1 ex 17\n",
    "\n",
    "u = Matrix([3,2,-5,0])\n",
    "v = Matrix([-4,1,-2,6])\n",
    "\n",
    "result = u.dot(v)\n",
    "if result == 0:\n",
    "    print(\"The dot product is 0, therefore the vectors are orthogonal.\")\n",
    "else:\n",
    "    print(\"The dot product is\", result, \"therefore the vectors are not orthogonal.\")"
   ]
  },
  {
   "cell_type": "code",
   "execution_count": 122,
   "metadata": {},
   "outputs": [
    {
     "name": "stdout",
     "output_type": "stream",
     "text": [
      "The dot product is 1 therefore the vectors are not orthogonal.\n"
     ]
    }
   ],
   "source": [
    "# 6.1 ex 18\n",
    "\n",
    "y = Matrix([-3,7,4,0])\n",
    "z = Matrix([1,-8,15,-7])\n",
    "\n",
    "result = y.dot(z)\n",
    "if result == 0:\n",
    "    print(\"The dot product is 0, therefore the vectors are orthogonal.\")\n",
    "else:\n",
    "    print(\"The dot product is\", result, \"therefore the vectors are not orthogonal.\")"
   ]
  },
  {
   "cell_type": "code",
   "execution_count": 123,
   "metadata": {},
   "outputs": [
    {
     "name": "stdout",
     "output_type": "stream",
     "text": [
      "The dot products are different from 0, therefore the vectors are not orthogonal.\n"
     ]
    }
   ],
   "source": [
    "# 6.2 ex 1\n",
    "\n",
    "a = Matrix([-1,4,-3])\n",
    "b = Matrix([5,2,1])\n",
    "c = Matrix([3,-4,-7])\n",
    "\n",
    "result1 = a.dot(b)\n",
    "result2 = a.dot(c)\n",
    "result3 = b.dot(c)\n",
    "\n",
    "if result1 == 0 and result2 == 0 and result3 == 0:\n",
    "    print(\"The dot products are 0, therefore the vectors are orthogonal.\")\n",
    "else:\n",
    "    print(\"The dot products are different from 0, therefore the vectors are not orthogonal.\")"
   ]
  },
  {
   "cell_type": "code",
   "execution_count": 129,
   "metadata": {},
   "outputs": [
    {
     "name": "stdout",
     "output_type": "stream",
     "text": [
      "The dot products are 0, therefore the vectors for a basis for R3.\n"
     ]
    },
    {
     "data": {
      "image/png": "[encoded data removed]",
      "text/latex": [
       "$\\displaystyle \\frac{5 u_{1}}{2} - \\frac{3 u_{2}}{2} + 2 u_{3}$"
      ],
      "text/plain": [
       "5⋅u₁   3⋅u₂       \n",
       "──── - ──── + 2⋅u₃\n",
       " 2      2         "
      ]
     },
     "metadata": {},
     "output_type": "display_data"
    }
   ],
   "source": [
    "# 6.2 ex 9\n",
    "\n",
    "u1 = Matrix([1,0,1])\n",
    "u2 = Matrix([-1,4,1])\n",
    "u3 = Matrix([2,1,-2])\n",
    "x = Matrix([8,-4,-3])\n",
    "\n",
    "# check if {u1,u2,u3} - orthogonal basis for R3\n",
    "result1 = u1.dot(u2)\n",
    "result2 = u1.dot(u3)\n",
    "result3 = u2.dot(u3)\n",
    "\n",
    "if result1 == 0 and result2 == 0 and result3 == 0:\n",
    "    print(\"The dot products are 0, therefore the vectors for a basis for R3.\")\n",
    "else:\n",
    "    print(\"The dot products are different from 0, therefore the vectors don't form a basis for R3.\")\n",
    "       \n",
    "# express 'x' as a linear combination of {u1,u2,u3}\n",
    "# x = a1*u1 + a2*u2 + a3*u3\n",
    "a1 = (x.dot(u1))/(u1.dot(u1))\n",
    "a2 = (x.dot(u2))/(u2.dot(u2))\n",
    "a3 = (x.dot(u3))/(u3.dot(u3))\n",
    "\n",
    "display(a1*Symbol('u1') + a2*Symbol('u2') + a3*Symbol('u3'))"
   ]
  },
  {
   "cell_type": "code",
   "execution_count": 134,
   "metadata": {},
   "outputs": [
    {
     "data": {
      "text/latex": [
       "$\\displaystyle \\left[\\begin{matrix}\\frac{2}{5}\\\\- \\frac{6}{5}\\end{matrix}\\right]$"
      ],
      "text/plain": [
       "⎡2/5 ⎤\n",
       "⎢    ⎥\n",
       "⎣-6/5⎦"
      ]
     },
     "metadata": {},
     "output_type": "display_data"
    }
   ],
   "source": [
    "# 6.2 ex 12\n",
    "\n",
    "y = Matrix([1,-1])\n",
    "u = Matrix([-1,3])\n",
    "\n",
    "# projection of 'y' through 'u'\n",
    "display(y.project(u))"
   ]
  },
  {
   "cell_type": "code",
   "execution_count": 150,
   "metadata": {},
   "outputs": [
    {
     "name": "stdout",
     "output_type": "stream",
     "text": [
      "The dot products are 0, therefore the vectors are orthogonal\n",
      "All vectors are unit vectors => orthonormal set\n"
     ]
    }
   ],
   "source": [
    "# 6.2 ex 21\n",
    "\n",
    "u1 = Matrix([1/sqrt(10),3/sqrt(20),3/sqrt(20)])\n",
    "u2 = Matrix([3/sqrt(10),-1/sqrt(20),-1/sqrt(20)])\n",
    "u3 = Matrix([0,-1/sqrt(2),1/sqrt(2)])\n",
    "\n",
    "# orthonormal set = orthogonal set where every vector is a unit vector\n",
    "\n",
    "# checking if 'u1', 'u2', 'u3' are orthogonal\n",
    "result1 = u1.dot(u2)\n",
    "result2 = u1.dot(u3)\n",
    "result3 = u2.dot(u3)\n",
    "\n",
    "if result1 == 0 and result2 == 0 and result3 == 0:\n",
    "    print(\"The dot products are 0, therefore the vectors are orthogonal\")\n",
    "else:\n",
    "    print(\"The dot products are different from 0, therefore the vectors aren't orthogonal\")\n",
    "\n",
    "# checking if 'u1', 'u2', 'u3' are unit vectors\n",
    "if u1.norm() == 1 and u2.norm() == 1 and u3.norm() == 1:\n",
    "    print(\"All vectors are unit vectors => orthonormal set\")\n",
    "else:\n",
    "    print(\"Not all vectors are unit vectors\")\n",
    "    u1.normalized()\n",
    "    u2.normalized()\n",
    "    u3.normalized()"
   ]
  },
  {
   "cell_type": "code",
   "execution_count": 159,
   "metadata": {},
   "outputs": [
    {
     "data": {
      "text/latex": [
       "$\\displaystyle \\left[\\begin{matrix}-6 & -3 & 6 & 1\\\\-1 & 2 & 1 & -6\\\\3 & 6 & 3 & -2\\\\6 & -3 & 6 & -1\\\\2 & -1 & 2 & 3\\\\-3 & 6 & 3 & 2\\\\-2 & -1 & 2 & -3\\\\1 & 2 & 1 & 6\\end{matrix}\\right]$"
      ],
      "text/plain": [
       "⎡-6  -3  6  1 ⎤\n",
       "⎢             ⎥\n",
       "⎢-1  2   1  -6⎥\n",
       "⎢             ⎥\n",
       "⎢3   6   3  -2⎥\n",
       "⎢             ⎥\n",
       "⎢6   -3  6  -1⎥\n",
       "⎢             ⎥\n",
       "⎢2   -1  2  3 ⎥\n",
       "⎢             ⎥\n",
       "⎢-3  6   3  2 ⎥\n",
       "⎢             ⎥\n",
       "⎢-2  -1  2  -3⎥\n",
       "⎢             ⎥\n",
       "⎣1   2   1  6 ⎦"
      ]
     },
     "metadata": {},
     "output_type": "display_data"
    },
    {
     "data": {
      "text/latex": [
       "$\\displaystyle \\left[\\begin{matrix}100 & 0 & 0 & 0\\\\0 & 100 & 0 & 0\\\\0 & 0 & 100 & 0\\\\0 & 0 & 0 & 100\\end{matrix}\\right]$"
      ],
      "text/plain": [
       "⎡100   0    0    0 ⎤\n",
       "⎢                  ⎥\n",
       "⎢ 0   100   0    0 ⎥\n",
       "⎢                  ⎥\n",
       "⎢ 0    0   100   0 ⎥\n",
       "⎢                  ⎥\n",
       "⎣ 0    0    0   100⎦"
      ]
     },
     "metadata": {},
     "output_type": "display_data"
    }
   ],
   "source": [
    "# 6.2 ex 35\n",
    "\n",
    "A = Matrix([[-6,-3,6,1],[-1,2,1,-6],[3,6,3,-2],[6,-3,6,-1],[2,-1,2,3],[-3,6,3,2],[-2,-1,2,-3],[1,2,1,6]])\n",
    "display(A)\n",
    "\n",
    "# columns of A {u1,u2,u3,u4} are othogonal <=> AT*A has 0 on all positions except the main diagonal\n",
    "\n",
    "display((A.T)*A)"
   ]
  },
  {
   "cell_type": "code",
   "execution_count": 161,
   "metadata": {},
   "outputs": [
    {
     "data": {
      "text/latex": [
       "$\\displaystyle \\left[\\begin{matrix}0\\\\-2\\\\4\\\\-2\\end{matrix}\\right]$"
      ],
      "text/plain": [
       "⎡0 ⎤\n",
       "⎢  ⎥\n",
       "⎢-2⎥\n",
       "⎢  ⎥\n",
       "⎢4 ⎥\n",
       "⎢  ⎥\n",
       "⎣-2⎦"
      ]
     },
     "metadata": {},
     "output_type": "display_data"
    },
    {
     "data": {
      "text/latex": [
       "$\\displaystyle \\left[\\begin{matrix}10\\\\-6\\\\-2\\\\2\\end{matrix}\\right]$"
      ],
      "text/plain": [
       "⎡10⎤\n",
       "⎢  ⎥\n",
       "⎢-6⎥\n",
       "⎢  ⎥\n",
       "⎢-2⎥\n",
       "⎢  ⎥\n",
       "⎣2 ⎦"
      ]
     },
     "metadata": {},
     "output_type": "display_data"
    }
   ],
   "source": [
    "# 6.3 ex 1\n",
    "\n",
    "u1 = Matrix([0,1,-4,-1])\n",
    "u2 = Matrix([3,5,1,1])\n",
    "u3 = Matrix([1,0,1,-4])\n",
    "u4 = Matrix([5,-3,-1,1])\n",
    "x = Matrix([10,-8,2,0])\n",
    "\n",
    "# b) write 'x' as a sum of two vectors, one in span{u1,u2,u3}, the other in span {u4}\n",
    "# OBS: projection of 'x' into 'u' is proj(x,u)\n",
    "display(x.project(u1) + x.project(u2) + x.project(u3))\n",
    "display(x.project(u4))"
   ]
  },
  {
   "cell_type": "code",
   "execution_count": 163,
   "metadata": {},
   "outputs": [
    {
     "name": "stdout",
     "output_type": "stream",
     "text": [
      "The dot product is 0, therefore the vectors are orthogonal\n"
     ]
    },
    {
     "data": {
      "text/latex": [
       "$\\displaystyle \\left[\\begin{matrix}-1\\\\4\\\\0\\end{matrix}\\right]$"
      ],
      "text/plain": [
       "⎡-1⎤\n",
       "⎢  ⎥\n",
       "⎢4 ⎥\n",
       "⎢  ⎥\n",
       "⎣0 ⎦"
      ]
     },
     "metadata": {},
     "output_type": "display_data"
    }
   ],
   "source": [
    "# 6.3 ex 3\n",
    "\n",
    "y = Matrix([-1,4,3])\n",
    "u1 = Matrix([1,1,0])\n",
    "u2 = Matrix([-1,1,0])\n",
    "\n",
    "# verify that {u1,u2} is an orthogonal set\n",
    "if u1.dot(u2) == 0:\n",
    "    print(\"The dot product is 0, therefore the vectors are orthogonal\")\n",
    "else:\n",
    "    print(\"The dot product is different from 0, therefore the vectors aren't orthogonal\")\n",
    "\n",
    "# find the projection of y onto span{u1,u2}\n",
    "display(y.project(u1) + y.project(u2))"
   ]
  },
  {
   "cell_type": "code",
   "execution_count": 164,
   "metadata": {},
   "outputs": [
    {
     "data": {
      "text/latex": [
       "$\\displaystyle \\left[\\begin{matrix}\\frac{10}{3}\\\\\\frac{2}{3}\\\\\\frac{8}{3}\\end{matrix}\\right]$"
      ],
      "text/plain": [
       "⎡10/3⎤\n",
       "⎢    ⎥\n",
       "⎢2/3 ⎥\n",
       "⎢    ⎥\n",
       "⎣8/3 ⎦"
      ]
     },
     "metadata": {},
     "output_type": "display_data"
    },
    {
     "data": {
      "text/latex": [
       "$\\displaystyle \\left[\\begin{matrix}- \\frac{7}{3}\\\\\\frac{7}{3}\\\\\\frac{7}{3}\\end{matrix}\\right]$"
      ],
      "text/plain": [
       "⎡-7/3⎤\n",
       "⎢    ⎥\n",
       "⎢7/3 ⎥\n",
       "⎢    ⎥\n",
       "⎣7/3 ⎦"
      ]
     },
     "metadata": {},
     "output_type": "display_data"
    }
   ],
   "source": [
    "# 6.3 ex 7\n",
    "\n",
    "y = Matrix([1,3,5])\n",
    "u1 = Matrix([1,3,-2])\n",
    "u2 = Matrix([5,1,4])\n",
    "\n",
    "# write 'y' as the sum of two vectors, one in span{u1,u2} and one orthogonal to {u1,u2}\n",
    "display(y.project(u1) + y.project(u2))\n",
    "display(y - (y.project(u1) + y.project(u2)))"
   ]
  },
  {
   "cell_type": "code",
   "execution_count": 194,
   "metadata": {},
   "outputs": [
    {
     "data": {
      "image/png": "[encoded data removed]",
      "text/latex": [
       "$\\displaystyle \\frac{2 v_{1}}{3} - \\frac{7 v_{2}}{3}$"
      ],
      "text/plain": [
       "2⋅v₁   7⋅v₂\n",
       "──── - ────\n",
       " 3      3  "
      ]
     },
     "metadata": {},
     "output_type": "display_data"
    },
    {
     "data": {
      "text/latex": [
       "$\\displaystyle \\left[\\begin{matrix}-1\\\\-3\\\\-2\\\\3\\end{matrix}\\right]$"
      ],
      "text/plain": [
       "⎡-1⎤\n",
       "⎢  ⎥\n",
       "⎢-3⎥\n",
       "⎢  ⎥\n",
       "⎢-2⎥\n",
       "⎢  ⎥\n",
       "⎣3 ⎦"
      ]
     },
     "execution_count": 194,
     "metadata": {},
     "output_type": "execute_result"
    }
   ],
   "source": [
    "# 6.3 ex 13\n",
    "\n",
    "z = Matrix([3,-7,2,3])\n",
    "v1 = Matrix([2,-1,-3,1])\n",
    "v2 = Matrix([1,1,0,-1])\n",
    "\n",
    "# express 'z' as a linear combination of 'v1', 'v2'\n",
    "# z = c1*v1 + c2*v2\n",
    "c1 = (z.dot(v1))/(v1.dot(v1))\n",
    "c2 = (z.dot(v2))/(v2.dot(v2))\n",
    "\n",
    "display(c1*Symbol('v1') + c2*Symbol('v2'))\n",
    "# or\n",
    "z.project(v1) + z.project(v2)"
   ]
  },
  {
   "cell_type": "code",
   "execution_count": 179,
   "metadata": {},
   "outputs": [
    {
     "data": {
      "text/latex": [
       "$\\displaystyle \\left[\\begin{matrix}1.0 & 0\\\\0 & 1.0\\end{matrix}\\right]$"
      ],
      "text/plain": [
       "⎡1.0   0 ⎤\n",
       "⎢        ⎥\n",
       "⎣ 0   1.0⎦"
      ]
     },
     "metadata": {},
     "output_type": "display_data"
    },
    {
     "data": {
      "text/latex": [
       "$\\displaystyle \\left[\\begin{matrix}0.888888888888889 & -0.222222222222222 & 0.222222222222222\\\\-0.222222222222222 & 0.555555555555556 & 0.444444444444444\\\\0.222222222222222 & 0.444444444444444 & 0.555555555555556\\end{matrix}\\right]$"
      ],
      "text/plain": [
       "⎡0.888888888888889   -0.222222222222222  0.222222222222222⎤\n",
       "⎢                                                         ⎥\n",
       "⎢-0.222222222222222  0.555555555555556   0.444444444444444⎥\n",
       "⎢                                                         ⎥\n",
       "⎣0.222222222222222   0.444444444444444   0.555555555555556⎦"
      ]
     },
     "metadata": {},
     "output_type": "display_data"
    },
    {
     "data": {
      "text/latex": [
       "$\\displaystyle \\left[\\begin{matrix}2.0\\\\4.0\\\\5.0\\end{matrix}\\right]$"
      ],
      "text/plain": [
       "⎡2.0⎤\n",
       "⎢   ⎥\n",
       "⎢4.0⎥\n",
       "⎢   ⎥\n",
       "⎣5.0⎦"
      ]
     },
     "metadata": {},
     "output_type": "display_data"
    },
    {
     "data": {
      "text/latex": [
       "$\\displaystyle \\left[\\begin{matrix}2.0\\\\4.0\\\\5.0\\end{matrix}\\right]$"
      ],
      "text/plain": [
       "⎡2.0⎤\n",
       "⎢   ⎥\n",
       "⎢4.0⎥\n",
       "⎢   ⎥\n",
       "⎣5.0⎦"
      ]
     },
     "metadata": {},
     "output_type": "display_data"
    }
   ],
   "source": [
    "# 6.3 ex 17\n",
    "\n",
    "y = Matrix([4,8,1])\n",
    "u1 = Matrix([2/3,1/3,2/3])\n",
    "u2 = Matrix([-2/3,2/3,1/3])\n",
    "\n",
    "# a. Let U = [u1 u2]. Compute UTU and UUT.\n",
    "U = u1.row_join(u2)\n",
    "display(U.T*U)\n",
    "display(U*U.T)\n",
    "\n",
    "# b. Compute proj(w,y) and (UUT)y\n",
    "# Since U.T*U is I2 => U is an orthonormal matrix => u1, u2 are orthonormal\n",
    "# => proj(w,y) = \n",
    "display(y.project(u1) + y.project(u2))\n",
    "\n",
    "display(U*U.T*y)"
   ]
  }
 ],
 "metadata": {
  "kernelspec": {
   "display_name": "Python 3",
   "language": "python",
   "name": "python3"
  },
  "language_info": {
   "codemirror_mode": {
    "name": "ipython",
    "version": 3
   },
   "file_extension": ".py",
   "mimetype": "text/x-python",
   "name": "python",
   "nbconvert_exporter": "python",
   "pygments_lexer": "ipython3",
   "version": "3.7.4"
  }
 },
 "nbformat": 4,
 "nbformat_minor": 2
}
